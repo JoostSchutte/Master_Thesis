{
 "cells": [
  {
   "cell_type": "code",
   "execution_count": 1,
   "metadata": {},
   "outputs": [],
   "source": [
    "import numpy as np\n",
    "import pandas as pd\n",
    "import sklearn\n",
    "import matplotlib\n",
    "import tensorflow as tf\n",
    "import tensorflow.keras as keras\n",
    "import pickle\n",
    "import os\n",
    "import time\n",
    "import sys\n",
    "import warnings\n",
    "\n",
    "from sklearn.model_selection import train_test_split\n",
    "from sklearn.preprocessing import OneHotEncoder, LabelEncoder, RobustScaler\n",
    "from sklearn.decomposition import PCA\n",
    "from sklearn.metrics import mean_squared_error\n",
    "from sklearn.linear_model import LinearRegression\n",
    "import matplotlib.pyplot as plt\n",
    "from tensorflow.keras import Sequential, optimizers, layers, metrics, models, regularizers\n",
    "\n",
    "warnings.filterwarnings(\"ignore\")"
   ]
  },
  {
   "cell_type": "code",
   "execution_count": 2,
   "metadata": {},
   "outputs": [],
   "source": [
    "df_final = pd.read_pickle(\"Data/df_with_history.pkl\")"
   ]
  },
  {
   "cell_type": "code",
   "execution_count": null,
   "metadata": {},
   "outputs": [],
   "source": []
  },
  {
   "cell_type": "code",
   "execution_count": 3,
   "metadata": {},
   "outputs": [],
   "source": [
    "# Round all differences\n",
    "df_final[\"difference\"] = [np.round(diff) for diff in df_final[\"difference\"]]"
   ]
  },
  {
   "cell_type": "code",
   "execution_count": null,
   "metadata": {},
   "outputs": [],
   "source": []
  },
  {
   "cell_type": "code",
   "execution_count": 4,
   "metadata": {},
   "outputs": [],
   "source": [
    "# Create bins\n",
    "bins = np.arange(0,31,1)\n",
    "bins = np.append(bins, np.max(df_final[\"difference\"]))"
   ]
  },
  {
   "cell_type": "code",
   "execution_count": 5,
   "metadata": {},
   "outputs": [],
   "source": [
    "# Cut the difference column into bins and save that as a new column\n",
    "test = pd.cut(df_final[\"difference\"], bins=bins, labels=bins[1:])\n",
    "test = test.rename(\"difference_bin\")"
   ]
  },
  {
   "cell_type": "code",
   "execution_count": 7,
   "metadata": {},
   "outputs": [],
   "source": [
    "df_binned = pd.concat([df_final, test], axis=1)"
   ]
  },
  {
   "cell_type": "code",
   "execution_count": null,
   "metadata": {},
   "outputs": [],
   "source": []
  },
  {
   "cell_type": "code",
   "execution_count": 8,
   "metadata": {},
   "outputs": [
    {
     "name": "stdout",
     "output_type": "stream",
     "text": [
      "[1.0, 2.0, 3.0, 4.0, 5.0, 6.0, 7.0, 8.0, 9.0, 10.0, 11.0, 12.0, 13.0, 14.0, 15.0, 16.0, 17.0, 18.0, 19.0, 20.0, 21.0, 22.0, 23.0, 24.0, 25.0, 26.0, 27.0, 28.0, 29.0, 30.0, 1179.0]\n"
     ]
    }
   ],
   "source": [
    "# Label encode the binned variable\n",
    "le = LabelEncoder()\n",
    "le.fit(test.cat.categories)\n",
    "\n",
    "print(list(le.classes_))"
   ]
  },
  {
   "cell_type": "code",
   "execution_count": 9,
   "metadata": {},
   "outputs": [],
   "source": [
    "df_binned[\"difference_bin\"] = le.transform(df_binned[\"difference_bin\"])"
   ]
  },
  {
   "cell_type": "code",
   "execution_count": 10,
   "metadata": {},
   "outputs": [],
   "source": [
    "df_binned[\"difference_bin\"] = df_binned[\"difference_bin\"].astype(\"category\")"
   ]
  },
  {
   "cell_type": "code",
   "execution_count": null,
   "metadata": {},
   "outputs": [],
   "source": []
  },
  {
   "cell_type": "code",
   "execution_count": 11,
   "metadata": {},
   "outputs": [],
   "source": [
    "X = df_binned.loc[:, [\"prev_date\", \"kg_ordered\", \"prod_group\", \"silo_nr\", \"kg_delivered\",\n",
    "                     \"RU Geit\", \"RU Grond\", \"RU Kalv\", \"RU Melkv\", \"RU Vlvee\", \"Rundvee\",\n",
    "                     \"t_5\", \"t_4\", \"t_3\", \"t_2\", \"t_1\"]]\n",
    "\n",
    "y = df_binned.loc[:, \"difference_bin\"]"
   ]
  },
  {
   "cell_type": "code",
   "execution_count": 12,
   "metadata": {},
   "outputs": [],
   "source": [
    "X_train, X_test, y_train, y_test = train_test_split(X, y, test_size=0.1, random_state=42)"
   ]
  },
  {
   "cell_type": "code",
   "execution_count": 13,
   "metadata": {},
   "outputs": [],
   "source": [
    "X_train, X_val, y_train, y_val = train_test_split(X_train, y_train, test_size=0.15, random_state=42)"
   ]
  },
  {
   "cell_type": "code",
   "execution_count": null,
   "metadata": {},
   "outputs": [],
   "source": []
  },
  {
   "cell_type": "code",
   "execution_count": 14,
   "metadata": {},
   "outputs": [],
   "source": [
    "scaler = RobustScaler()\n",
    "\n",
    "X_train = scaler.fit_transform(X_train)\n",
    "y_train = scaler.fit_transform(np.asarray(y_train).reshape(-1,1))\n",
    "\n",
    "X_test = scaler.fit_transform(X_test)\n",
    "y_test = scaler.fit_transform(np.asarray(y_test).reshape(-1,1))\n",
    "\n",
    "X_val = scaler.fit_transform(X_val)\n",
    "y_val = scaler.fit_transform(np.asarray(y_val).reshape(-1,1))"
   ]
  },
  {
   "cell_type": "code",
   "execution_count": null,
   "metadata": {},
   "outputs": [],
   "source": []
  },
  {
   "cell_type": "code",
   "execution_count": 15,
   "metadata": {},
   "outputs": [],
   "source": [
    "model = Sequential()\n",
    "model.add(layers.Dense(16, input_shape=(16,), activation=\"sigmoid\", kernel_regularizer=regularizers.l2(0.0001)))\n",
    "model.add(layers.BatchNormalization())\n",
    "model.add(layers.Dropout(0.5))\n",
    "model.add(layers.Dense(16, activation=\"sigmoid\", kernel_regularizer=regularizers.l2(0.0001)))\n",
    "model.add(layers.BatchNormalization())\n",
    "model.add(layers.Dropout(0.5))\n",
    "model.add(layers.Dense(1))"
   ]
  },
  {
   "cell_type": "code",
   "execution_count": 16,
   "metadata": {
    "scrolled": true
   },
   "outputs": [
    {
     "name": "stdout",
     "output_type": "stream",
     "text": [
      "Epoch 1/15\n",
      "5956/5956 [==============================] - 11s 2ms/step - loss: -0.8458 - accuracy: 0.0447 - val_loss: -1.7333 - val_accuracy: 0.0479\n",
      "Epoch 2/15\n",
      "5956/5956 [==============================] - 11s 2ms/step - loss: -1.9305 - accuracy: 0.0460 - val_loss: -2.2519 - val_accuracy: 0.0478\n",
      "Epoch 3/15\n",
      "5956/5956 [==============================] - 12s 2ms/step - loss: -2.0330 - accuracy: 0.0458 - val_loss: -2.2694 - val_accuracy: 0.0480\n",
      "Epoch 4/15\n",
      "5956/5956 [==============================] - 11s 2ms/step - loss: -2.0508 - accuracy: 0.0461 - val_loss: -2.2632 - val_accuracy: 0.0478\n",
      "Epoch 5/15\n",
      "5956/5956 [==============================] - 11s 2ms/step - loss: -2.0484 - accuracy: 0.0462 - val_loss: -2.2630 - val_accuracy: 0.0475\n",
      "Epoch 6/15\n",
      "5956/5956 [==============================] - 11s 2ms/step - loss: -2.0544 - accuracy: 0.0464 - val_loss: -2.2853 - val_accuracy: 0.0474\n",
      "Epoch 7/15\n",
      "5956/5956 [==============================] - 14s 2ms/step - loss: -2.0508 - accuracy: 0.0461 - val_loss: -2.2591 - val_accuracy: 0.0476\n",
      "Epoch 8/15\n",
      "5956/5956 [==============================] - 12s 2ms/step - loss: -2.0601 - accuracy: 0.0463 - val_loss: -2.2667 - val_accuracy: 0.0480\n",
      "Epoch 9/15\n",
      "5956/5956 [==============================] - 10s 2ms/step - loss: -2.0582 - accuracy: 0.0463 - val_loss: -2.2871 - val_accuracy: 0.0468\n",
      "Epoch 10/15\n",
      "5956/5956 [==============================] - 10s 2ms/step - loss: -2.0605 - accuracy: 0.0462 - val_loss: -2.2601 - val_accuracy: 0.0475\n",
      "Epoch 11/15\n",
      "5956/5956 [==============================] - 9s 2ms/step - loss: -2.0805 - accuracy: 0.0461 - val_loss: -2.2885 - val_accuracy: 0.0475\n",
      "Epoch 12/15\n",
      "5956/5956 [==============================] - 9s 2ms/step - loss: -2.0580 - accuracy: 0.0462 - val_loss: -2.1750 - val_accuracy: 0.0478\n",
      "Epoch 13/15\n",
      "5956/5956 [==============================] - 9s 1ms/step - loss: -2.0500 - accuracy: 0.0462 - val_loss: -2.2548 - val_accuracy: 0.0478\n",
      "Epoch 14/15\n",
      "5956/5956 [==============================] - 10s 2ms/step - loss: -2.0881 - accuracy: 0.0461 - val_loss: -2.2379 - val_accuracy: 0.0480\n",
      "Epoch 15/15\n",
      "5956/5956 [==============================] - 9s 2ms/step - loss: -2.0685 - accuracy: 0.0463 - val_loss: -2.2959 - val_accuracy: 0.0469\n"
     ]
    }
   ],
   "source": [
    "model.compile(optimizer=\"rmsprop\", loss=\"binary_crossentropy\", metrics=\"accuracy\")\n",
    "history = model.fit(X_train, y_train, epochs=15, validation_data=(X_val, y_val), use_multiprocessing=True)"
   ]
  },
  {
   "cell_type": "code",
   "execution_count": null,
   "metadata": {},
   "outputs": [],
   "source": []
  },
  {
   "cell_type": "code",
   "execution_count": 17,
   "metadata": {},
   "outputs": [],
   "source": [
    "val_pred = model.predict(X_val).ravel()\n",
    "test_pred = model.predict(X_test).ravel()"
   ]
  },
  {
   "cell_type": "code",
   "execution_count": 18,
   "metadata": {},
   "outputs": [
    {
     "name": "stdout",
     "output_type": "stream",
     "text": [
      "RMSE on validation set: 5.977993923986402\n",
      "RMSE on test set: 5.960033490612348\n"
     ]
    }
   ],
   "source": [
    "inv_val_pred = scaler.inverse_transform(val_pred.reshape(-1, 1))\n",
    "inv_y_val = scaler.inverse_transform(y_val.reshape(-1, 1))\n",
    "\n",
    "inv_test_pred = scaler.inverse_transform(test_pred.reshape(-1, 1))\n",
    "inv_y_test = scaler.inverse_transform(y_test.reshape(-1, 1))\n",
    "\n",
    "mse_val = mean_squared_error(inv_y_val, inv_val_pred)\n",
    "mse_test = mean_squared_error(inv_y_test, inv_test_pred)\n",
    "\n",
    "print(\"RMSE on validation set:\", np.sqrt(mse_val))\n",
    "print(\"RMSE on test set:\", np.sqrt(mse_test))"
   ]
  },
  {
   "cell_type": "code",
   "execution_count": null,
   "metadata": {},
   "outputs": [],
   "source": []
  },
  {
   "cell_type": "code",
   "execution_count": 19,
   "metadata": {},
   "outputs": [],
   "source": [
    "# Inverse transform the label encoding from true labels\n",
    "label_inv_y_test = le.inverse_transform(inv_y_test.astype(int))"
   ]
  },
  {
   "cell_type": "code",
   "execution_count": 20,
   "metadata": {},
   "outputs": [],
   "source": [
    "percentages = []\n",
    "\n",
    "for idx, val in enumerate(inv_test_pred):\n",
    "    perc = np.abs(val-label_inv_y_test[idx])/label_inv_y_test[idx]\n",
    "    if perc == np.inf:\n",
    "        print(idx, val, label_inv_y_test[idx], perc)\n",
    "    percentages.append(perc)"
   ]
  },
  {
   "cell_type": "code",
   "execution_count": 21,
   "metadata": {},
   "outputs": [
    {
     "name": "stdout",
     "output_type": "stream",
     "text": [
      "Minimum percent error: 0.0\n",
      "Maximum percent error: 29.079999923706055\n",
      "Mean percent error: 0.7400000095367432\n"
     ]
    }
   ],
   "source": [
    "print(f\"Minimum percent error: {np.round(np.min(percentages),2)}\")\n",
    "print(f\"Maximum percent error: {np.round(np.max(percentages),2)}\")\n",
    "print(f\"Mean percent error: {np.round(np.mean(percentages),2)}\")"
   ]
  },
  {
   "cell_type": "code",
   "execution_count": 22,
   "metadata": {},
   "outputs": [
    {
     "data": {
      "image/png": "[encoded data removed]",
      "text/plain": [
       "<Figure size 432x288 with 1 Axes>"
      ]
     },
     "metadata": {
      "needs_background": "light"
     },
     "output_type": "display_data"
    }
   ],
   "source": [
    "percentages = np.asarray(percentages)\n",
    "\n",
    "plt.hist(percentages.clip(min=0, max=1.1), range=[0,1.1], bins=11)\n",
    "plt.show()"
   ]
  },
  {
   "cell_type": "code",
   "execution_count": 23,
   "metadata": {},
   "outputs": [
    {
     "name": "stdout",
     "output_type": "stream",
     "text": [
      "Number of orders with a percent error lower than 0.5: 18301\n",
      "Percentage of orders with a percent error lower than 0.5: 0.73\n"
     ]
    }
   ],
   "source": [
    "lower = []\n",
    "\n",
    "for i in percentages:\n",
    "    if i <= 0.5:\n",
    "        lower.append(i)\n",
    "\n",
    "print(f\"Number of orders with a percent error lower than 0.5: {len(lower)}\")\n",
    "print(f\"Percentage of orders with a percent error lower than 0.5: {np.round(len(lower)/len(percentages),2)}\")"
   ]
  },
  {
   "cell_type": "code",
   "execution_count": null,
   "metadata": {},
   "outputs": [],
   "source": []
  },
  {
   "cell_type": "code",
   "execution_count": 24,
   "metadata": {},
   "outputs": [],
   "source": [
    "differences = []\n",
    "\n",
    "for idx, val in enumerate(inv_y_test):\n",
    "    differences.append(np.abs(val[0]-inv_test_pred[idx][0]))"
   ]
  },
  {
   "cell_type": "code",
   "execution_count": 25,
   "metadata": {},
   "outputs": [],
   "source": [
    "within_1 = [1 if np.round(diff) <= 1 else 0 for diff in differences]\n",
    "within_3 = [1 if np.round(diff) <= 3 else 0 for diff in differences]\n",
    "within_5 = [1 if np.round(diff) <= 5 else 0 for diff in differences]\n",
    "within_7 = [1 if np.round(diff) <= 7 else 0 for diff in differences]"
   ]
  },
  {
   "cell_type": "code",
   "execution_count": 26,
   "metadata": {},
   "outputs": [
    {
     "name": "stdout",
     "output_type": "stream",
     "text": [
      "Percentage of orders predicted correctly within 1 day: 0.26\n",
      "Percentage of orders predicted correctly within 3 days: 0.53\n",
      "Percentage of orders predicted correctly within 5 days: 0.7\n",
      "Percentage of orders predicted correctly within 7 days: 0.82\n"
     ]
    }
   ],
   "source": [
    "print(f\"Percentage of orders predicted correctly within 1 day: {np.round(np.sum(within_1)/len(differences),2)}\")\n",
    "print(f\"Percentage of orders predicted correctly within 3 days: {np.round(np.sum(within_3)/len(differences),2)}\")\n",
    "print(f\"Percentage of orders predicted correctly within 5 days: {np.round(np.sum(within_5)/len(differences),2)}\")\n",
    "print(f\"Percentage of orders predicted correctly within 7 days: {np.round(np.sum(within_7)/len(differences),2)}\")"
   ]
  }
 ],
 "metadata": {
  "kernelspec": {
   "display_name": "Python 3",
   "language": "python",
   "name": "python3"
  },
  "language_info": {
   "codemirror_mode": {
    "name": "ipython",
    "version": 3
   },
   "file_extension": ".py",
   "mimetype": "text/x-python",
   "name": "python",
   "nbconvert_exporter": "python",
   "pygments_lexer": "ipython3",
   "version": "3.8.3"
  }
 },
 "nbformat": 4,
 "nbformat_minor": 4
}
