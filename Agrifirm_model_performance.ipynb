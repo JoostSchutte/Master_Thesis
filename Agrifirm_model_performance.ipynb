{
 "cells": [
  {
   "cell_type": "code",
   "execution_count": 1,
   "metadata": {},
   "outputs": [],
   "source": [
    "import numpy as np\n",
    "import pandas as pd\n",
    "import sklearn\n",
    "import matplotlib\n",
    "import tensorflow as tf\n",
    "import tensorflow.keras as keras\n",
    "import pickle\n",
    "import os\n",
    "import time\n",
    "import sys\n",
    "import warnings\n",
    "\n",
    "from sklearn.model_selection import train_test_split\n",
    "from sklearn.preprocessing import OneHotEncoder, LabelEncoder, RobustScaler\n",
    "from sklearn.decomposition import PCA\n",
    "from sklearn.metrics import mean_squared_error\n",
    "from sklearn.linear_model import LinearRegression\n",
    "import matplotlib.pyplot as plt\n",
    "from tensorflow.keras import Sequential, optimizers, layers, metrics, models, regularizers\n",
    "\n",
    "warnings.filterwarnings(\"ignore\")"
   ]
  },
  {
   "cell_type": "code",
   "execution_count": null,
   "metadata": {},
   "outputs": [],
   "source": []
  },
  {
   "cell_type": "code",
   "execution_count": 2,
   "metadata": {},
   "outputs": [],
   "source": [
    "df = pd.read_csv(\"Data/performance_evaluation.csv\")"
   ]
  },
  {
   "cell_type": "code",
   "execution_count": null,
   "metadata": {},
   "outputs": [],
   "source": []
  },
  {
   "cell_type": "code",
   "execution_count": 3,
   "metadata": {},
   "outputs": [],
   "source": [
    "# Drop rows from the rmse and date_true columns that have no value\n",
    "df.drop(df[pd.isna(df.rmse) == True].index, inplace=True)\n",
    "df.reset_index(drop=True, inplace=True)\n",
    "\n",
    "df.drop(df[pd.isna(df.date_true) == True].index, inplace=True)\n",
    "df.reset_index(drop=True, inplace=True)"
   ]
  },
  {
   "cell_type": "code",
   "execution_count": null,
   "metadata": {},
   "outputs": [],
   "source": []
  },
  {
   "cell_type": "code",
   "execution_count": 4,
   "metadata": {},
   "outputs": [
    {
     "name": "stdout",
     "output_type": "stream",
     "text": [
      "Mean RMSE for all customers: 4.17\n"
     ]
    }
   ],
   "source": [
    "print(f\"Mean RMSE for all customers: {np.round(np.mean(df['rmse']),2)}\")"
   ]
  },
  {
   "cell_type": "code",
   "execution_count": null,
   "metadata": {},
   "outputs": [],
   "source": []
  },
  {
   "cell_type": "code",
   "execution_count": 5,
   "metadata": {},
   "outputs": [],
   "source": [
    "# Change the dates in the dataset to a different format, and turn them into datetime\n",
    "df[\"date_delivery\"] = df[\"date_delivery\"].replace({'\\-':''}, regex=True)\n",
    "df[\"date_expected\"] = df[\"date_expected\"].replace({'\\-':''}, regex=True)\n",
    "df[\"date_true\"] = df[\"date_true\"].replace({'\\-':''}, regex=True)\n",
    "\n",
    "df[\"date_delivery\"] = pd.to_datetime(df[\"date_delivery\"], format=\"%Y%m%d\")\n",
    "df[\"date_expected\"] = pd.to_datetime(df[\"date_expected\"], format=\"%Y%m%d\")\n",
    "df[\"date_true\"] = pd.to_datetime(df[\"date_true\"], format=\"%Y%m%d\")"
   ]
  },
  {
   "cell_type": "code",
   "execution_count": 6,
   "metadata": {},
   "outputs": [],
   "source": [
    "# Create the true difference and predicted difference columns\n",
    "df[\"true_diff\"] = df.loc[:,(\"date_delivery\")]-df.loc[:,(\"date_true\")]\n",
    "df[\"pred_diff\"] = df.loc[:,(\"date_delivery\")]-df.loc[:,(\"date_expected\")]\n",
    "\n",
    "df[\"true_diff\"] = [np.abs(diff.days) for diff in df[\"true_diff\"]]\n",
    "df[\"pred_diff\"] = [np.abs(diff.days) for diff in df[\"pred_diff\"]]"
   ]
  },
  {
   "cell_type": "code",
   "execution_count": null,
   "metadata": {},
   "outputs": [],
   "source": []
  },
  {
   "cell_type": "code",
   "execution_count": 7,
   "metadata": {},
   "outputs": [],
   "source": [
    "# Generate the percent error for each order\n",
    "percentages = []\n",
    "\n",
    "for idx, val in enumerate(df[\"pred_diff\"]):\n",
    "    perc = np.abs(val-df[\"true_diff\"][idx])/df[\"true_diff\"][idx]\n",
    "    percentages.append(perc)"
   ]
  },
  {
   "cell_type": "code",
   "execution_count": 8,
   "metadata": {},
   "outputs": [
    {
     "name": "stdout",
     "output_type": "stream",
     "text": [
      "Minimum percent error: 0.0\n",
      "Maximum percent error: 35.75\n",
      "Mean percent error: 0.36\n"
     ]
    }
   ],
   "source": [
    "print(f\"Minimum percent error: {np.round(np.min(percentages),2)}\")\n",
    "print(f\"Maximum percent error: {np.round(np.max(percentages),2)}\")\n",
    "print(f\"Mean percent error: {np.round(np.mean(percentages),2)}\")"
   ]
  },
  {
   "cell_type": "code",
   "execution_count": 9,
   "metadata": {},
   "outputs": [
    {
     "data": {
      "image/png": "[encoded data removed]",
      "text/plain": [
       "<Figure size 432x288 with 1 Axes>"
      ]
     },
     "metadata": {
      "needs_background": "light"
     },
     "output_type": "display_data"
    }
   ],
   "source": [
    "percentages = np.asarray(percentages)\n",
    "\n",
    "plt.hist(percentages.clip(min=0, max=1.1), range=[0,1.1], bins=11)\n",
    "plt.show()"
   ]
  },
  {
   "cell_type": "code",
   "execution_count": 10,
   "metadata": {},
   "outputs": [
    {
     "name": "stdout",
     "output_type": "stream",
     "text": [
      "Number of orders with a percent error lower than 0.5: 151412\n",
      "Percentage of orders with a percent error lower than 0.5: 0.83\n"
     ]
    }
   ],
   "source": [
    "lower = []\n",
    "\n",
    "for i in percentages:\n",
    "    if i <= 0.5:\n",
    "        lower.append(i)\n",
    "\n",
    "print(f\"Number of orders with a percent error lower than 0.5: {len(lower)}\")\n",
    "print(f\"Percentage of orders with a percent error lower than 0.5: {np.round(len(lower)/len(percentages),2)}\")"
   ]
  },
  {
   "cell_type": "code",
   "execution_count": null,
   "metadata": {},
   "outputs": [],
   "source": []
  },
  {
   "cell_type": "code",
   "execution_count": 11,
   "metadata": {},
   "outputs": [],
   "source": [
    "# Create a new column with the difference between the predicted date and the true delivery date\n",
    "df[\"diff\"] = df.loc[:,(\"date_true\")]-df.loc[:,(\"date_expected\")]\n",
    "df[\"diff\"] = [np.abs(diff.days) for diff in df[\"diff\"]]"
   ]
  },
  {
   "cell_type": "code",
   "execution_count": 12,
   "metadata": {},
   "outputs": [],
   "source": [
    "# Get percentages of orders predicted correctly within a specified number of days\n",
    "within_1 = [1 if np.round(diff) <= 1 else 0 for diff in df[\"diff\"]]\n",
    "within_3 = [1 if np.round(diff) <= 3 else 0 for diff in df[\"diff\"]]\n",
    "within_5 = [1 if np.round(diff) <= 5 else 0 for diff in df[\"diff\"]]\n",
    "within_7 = [1 if np.round(diff) <= 7 else 0 for diff in df[\"diff\"]]"
   ]
  },
  {
   "cell_type": "code",
   "execution_count": 13,
   "metadata": {},
   "outputs": [
    {
     "name": "stdout",
     "output_type": "stream",
     "text": [
      "Percentage of orders predicted correctly within 1 day: 0.31\n",
      "Percentage of orders predicted correctly within 3 days: 0.58\n",
      "Percentage of orders predicted correctly within 5 days: 0.73\n",
      "Percentage of orders predicted correctly within 7 days: 0.82\n"
     ]
    }
   ],
   "source": [
    "print(f\"Percentage of orders predicted correctly within 1 day: {np.round(np.sum(within_1)/len(df['diff']),2)}\")\n",
    "print(f\"Percentage of orders predicted correctly within 3 days: {np.round(np.sum(within_3)/len(df['diff']),2)}\")\n",
    "print(f\"Percentage of orders predicted correctly within 5 days: {np.round(np.sum(within_5)/len(df['diff']),2)}\")\n",
    "print(f\"Percentage of orders predicted correctly within 7 days: {np.round(np.sum(within_7)/len(df['diff']),2)}\")"
   ]
  },
  {
   "cell_type": "code",
   "execution_count": null,
   "metadata": {},
   "outputs": [],
   "source": []
  },
  {
   "cell_type": "code",
   "execution_count": 14,
   "metadata": {},
   "outputs": [],
   "source": [
    "# Create a list of all recipients\n",
    "recipients = []\n",
    "\n",
    "for i in df[\"ship_to_party\"]:\n",
    "    if i not in recipients:\n",
    "        recipients.append(i)"
   ]
  },
  {
   "cell_type": "code",
   "execution_count": 15,
   "metadata": {},
   "outputs": [
    {
     "name": "stdout",
     "output_type": "stream",
     "text": [
      "3278\n"
     ]
    }
   ],
   "source": [
    "print(len(recipients))"
   ]
  },
  {
   "cell_type": "code",
   "execution_count": 16,
   "metadata": {},
   "outputs": [],
   "source": [
    "# Extract the mean RMSE value for each customer and add it to a list\n",
    "rmse_values = []\n",
    "\n",
    "for i in recipients:\n",
    "    test = df[df.ship_to_party == i]\n",
    "    rmse_values.append(np.mean(test[\"rmse\"]))"
   ]
  },
  {
   "cell_type": "code",
   "execution_count": 17,
   "metadata": {},
   "outputs": [
    {
     "name": "stdout",
     "output_type": "stream",
     "text": [
      "Mean of the mean RMSE per customer: 5.37\n",
      "Smallest mean RMSE: 0.68\n",
      "Largest mean RMSE: 61.55\n"
     ]
    }
   ],
   "source": [
    "print(f\"Mean of the mean RMSE per customer: {np.round(np.mean(rmse_values),2)}\")\n",
    "print(f\"Smallest mean RMSE: {np.round(np.min(rmse_values),2)}\")\n",
    "print(f\"Largest mean RMSE: {np.round(np.max(rmse_values),2)}\")"
   ]
  },
  {
   "cell_type": "code",
   "execution_count": 18,
   "metadata": {},
   "outputs": [
    {
     "name": "stdout",
     "output_type": "stream",
     "text": [
      "Mean of the mean RMSE per customer, without the 150 largest values: 4.7\n"
     ]
    }
   ],
   "source": [
    "print(f\"Mean of the mean RMSE per customer, without the 150 largest values: {np.round(np.average(sorted(rmse_values)[0:-150]),2)}\")"
   ]
  },
  {
   "cell_type": "code",
   "execution_count": null,
   "metadata": {},
   "outputs": [],
   "source": []
  },
  {
   "cell_type": "code",
   "execution_count": 19,
   "metadata": {},
   "outputs": [],
   "source": [
    "rmse_values_array = np.asarray(rmse_values)"
   ]
  },
  {
   "cell_type": "code",
   "execution_count": 20,
   "metadata": {},
   "outputs": [
    {
     "data": {
      "image/png": "[encoded data removed]",
      "text/plain": [
       "<Figure size 1440x720 with 1 Axes>"
      ]
     },
     "metadata": {
      "needs_background": "light"
     },
     "output_type": "display_data"
    }
   ],
   "source": [
    "import matplotlib.pyplot as plt\n",
    "\n",
    "plt.figure(figsize=(20,10))\n",
    "\n",
    "plt.hist(rmse_values_array.clip(min=0, max=21), range=[0,21], bins=21)\n",
    "plt.show()"
   ]
  },
  {
   "cell_type": "code",
   "execution_count": 21,
   "metadata": {},
   "outputs": [
    {
     "name": "stdout",
     "output_type": "stream",
     "text": [
      "Number of customers with an RMSE lower than 5: 2038\n",
      "Percentage of customer with an RMSE lower than 5: 0.62\n"
     ]
    }
   ],
   "source": [
    "lower = []\n",
    "\n",
    "for i in rmse_values:\n",
    "    if i <= 5:\n",
    "        lower.append(i)\n",
    "\n",
    "print(f\"Number of customers with an RMSE lower than 5: {len(lower)}\")\n",
    "print(f\"Percentage of customer with an RMSE lower than 5: {np.round(len(lower)/len(rmse_values),2)}\")"
   ]
  },
  {
   "cell_type": "code",
   "execution_count": null,
   "metadata": {},
   "outputs": [],
   "source": []
  },
  {
   "cell_type": "code",
   "execution_count": 22,
   "metadata": {},
   "outputs": [],
   "source": [
    "# Create the percent errors for each customer and add it to a list\n",
    "final_percentages = []\n",
    "\n",
    "for i in recipients:\n",
    "    test = df[df.ship_to_party == i]\n",
    "    percentages = []\n",
    "    \n",
    "    for idx, val in enumerate(test[\"pred_diff\"]):\n",
    "        perc = np.abs(val-df[\"true_diff\"][idx])/df[\"true_diff\"][idx]\n",
    "        percentages.append(perc)\n",
    "    \n",
    "    final_percentages.append(np.mean(percentages))"
   ]
  },
  {
   "cell_type": "code",
   "execution_count": 23,
   "metadata": {},
   "outputs": [
    {
     "name": "stdout",
     "output_type": "stream",
     "text": [
      "Minimum percent error: 0.03\n",
      "Maximum percent error: 2.46\n",
      "Mean percent error: 0.44\n"
     ]
    }
   ],
   "source": [
    "print(f\"Minimum percent error: {np.round(np.min(final_percentages),2)}\")\n",
    "print(f\"Maximum percent error: {np.round(np.max(final_percentages),2)}\")\n",
    "print(f\"Mean percent error: {np.round(np.mean(final_percentages),2)}\")"
   ]
  },
  {
   "cell_type": "code",
   "execution_count": 24,
   "metadata": {},
   "outputs": [
    {
     "data": {
      "image/png": "[encoded data removed]",
      "text/plain": [
       "<Figure size 432x288 with 1 Axes>"
      ]
     },
     "metadata": {
      "needs_background": "light"
     },
     "output_type": "display_data"
    }
   ],
   "source": [
    "final_percentages = np.asarray(final_percentages)\n",
    "\n",
    "plt.hist(final_percentages.clip(min=0, max=1.1), range=[0,1.1], bins=11)\n",
    "plt.show()"
   ]
  },
  {
   "cell_type": "code",
   "execution_count": 25,
   "metadata": {},
   "outputs": [
    {
     "name": "stdout",
     "output_type": "stream",
     "text": [
      "Number of orders with a percent error lower than 0.5: 2570\n",
      "Percentage of orders with a percent error lower than 0.5: 0.78\n"
     ]
    }
   ],
   "source": [
    "lower = []\n",
    "\n",
    "for i in final_percentages:\n",
    "    if i <= 0.5:\n",
    "        lower.append(i)\n",
    "\n",
    "print(f\"Number of orders with a percent error lower than 0.5: {len(lower)}\")\n",
    "print(f\"Percentage of orders with a percent error lower than 0.5: {np.round(len(lower)/len(final_percentages),2)}\")"
   ]
  },
  {
   "cell_type": "code",
   "execution_count": null,
   "metadata": {},
   "outputs": [],
   "source": []
  },
  {
   "cell_type": "code",
   "execution_count": 26,
   "metadata": {},
   "outputs": [],
   "source": [
    "# Get the mean difference for each customer and add them to a list\n",
    "final_differences = []\n",
    "\n",
    "for i in recipients:\n",
    "    test = df[df.ship_to_party == i]\n",
    "    differences = []\n",
    "    test.reset_index(drop=True, inplace=True)\n",
    "    \n",
    "    for idx, val in enumerate(test[\"pred_diff\"]):\n",
    "        diff = np.abs(val-test[\"true_diff\"][idx])\n",
    "        differences.append(diff)\n",
    "\n",
    "    final_differences.append(np.mean(differences))"
   ]
  },
  {
   "cell_type": "code",
   "execution_count": 27,
   "metadata": {},
   "outputs": [],
   "source": [
    "# Get percentages of orders predicted correctly within a specified number of days for the per-customer differences\n",
    "within_1 = [1 if np.round(diff) <= 1 else 0 for diff in final_differences]\n",
    "within_3 = [1 if np.round(diff) <= 3 else 0 for diff in final_differences]\n",
    "within_5 = [1 if np.round(diff) <= 5 else 0 for diff in final_differences]\n",
    "within_7 = [1 if np.round(diff) <= 7 else 0 for diff in final_differences]"
   ]
  },
  {
   "cell_type": "code",
   "execution_count": 28,
   "metadata": {},
   "outputs": [
    {
     "name": "stdout",
     "output_type": "stream",
     "text": [
      "Percentage of orders predicted correctly within 1 day: 0.02\n",
      "Percentage of orders predicted correctly within 3 days: 0.28\n",
      "Percentage of orders predicted correctly within 5 days: 0.61\n",
      "Percentage of orders predicted correctly within 7 days: 0.8\n"
     ]
    }
   ],
   "source": [
    "print(f\"Percentage of orders predicted correctly within 1 day: {np.round(np.sum(within_1)/len(final_differences),2)}\")\n",
    "print(f\"Percentage of orders predicted correctly within 3 days: {np.round(np.sum(within_3)/len(final_differences),2)}\")\n",
    "print(f\"Percentage of orders predicted correctly within 5 days: {np.round(np.sum(within_5)/len(final_differences),2)}\")\n",
    "print(f\"Percentage of orders predicted correctly within 7 days: {np.round(np.sum(within_7)/len(final_differences),2)}\")"
   ]
  }
 ],
 "metadata": {
  "kernelspec": {
   "display_name": "Python 3",
   "language": "python",
   "name": "python3"
  },
  "language_info": {
   "codemirror_mode": {
    "name": "ipython",
    "version": 3
   },
   "file_extension": ".py",
   "mimetype": "text/x-python",
   "name": "python",
   "nbconvert_exporter": "python",
   "pygments_lexer": "ipython3",
   "version": "3.8.3"
  }
 },
 "nbformat": 4,
 "nbformat_minor": 4
}
