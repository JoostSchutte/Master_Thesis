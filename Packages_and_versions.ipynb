{
 "cells": [
  {
   "cell_type": "code",
   "execution_count": 1,
   "metadata": {},
   "outputs": [],
   "source": [
    "import numpy as np\n",
    "import pandas as pd\n",
    "import sklearn\n",
    "import matplotlib\n",
    "import tensorflow as tf\n",
    "import tensorflow.keras as keras\n",
    "import pickle\n",
    "import os\n",
    "import time\n",
    "import sys\n",
    "import warnings\n",
    "\n",
    "from sklearn.model_selection import train_test_split\n",
    "from sklearn.preprocessing import OneHotEncoder, LabelEncoder, RobustScaler\n",
    "from sklearn.decomposition import PCA\n",
    "from sklearn.metrics import mean_squared_error\n",
    "from sklearn.linear_model import LinearRegression\n",
    "import matplotlib.pyplot as plt\n",
    "from tensorflow.keras import Sequential, optimizers, layers, metrics, models, regularizers\n",
    "\n",
    "warnings.filterwarnings(\"ignore\")"
   ]
  },
  {
   "cell_type": "code",
   "execution_count": 2,
   "metadata": {},
   "outputs": [
    {
     "name": "stdout",
     "output_type": "stream",
     "text": [
      "System/Python version: 3.8.3\n",
      "Numpy version:         1.21.2\n",
      "Pandas version:        1.0.5\n",
      "Skikit-learn version:  0.23.1\n",
      "Matplotlib version:    3.3.2\n",
      "Tensorflow version:    2.6.0\n",
      "Keras version:         2.6.0\n",
      "Pickle version:        4.0\n"
     ]
    }
   ],
   "source": [
    "print(f\"System/Python version: {sys.version[0:5]}\")\n",
    "print(f\"Numpy version:         {np.__version__}\")\n",
    "print(f\"Pandas version:        {pd.__version__}\")\n",
    "print(f\"Skikit-learn version:  {sklearn.__version__}\")\n",
    "print(f\"Matplotlib version:    {matplotlib.__version__}\")\n",
    "print(f\"Tensorflow version:    {tf.__version__}\")\n",
    "print(f\"Keras version:         {keras.__version__}\")\n",
    "print(f\"Pickle version:        {pickle.format_version}\")"
   ]
  }
 ],
 "metadata": {
  "kernelspec": {
   "display_name": "Python 3",
   "language": "python",
   "name": "python3"
  },
  "language_info": {
   "codemirror_mode": {
    "name": "ipython",
    "version": 3
   },
   "file_extension": ".py",
   "mimetype": "text/x-python",
   "name": "python",
   "nbconvert_exporter": "python",
   "pygments_lexer": "ipython3",
   "version": "3.8.3"
  }
 },
 "nbformat": 4,
 "nbformat_minor": 4
}
