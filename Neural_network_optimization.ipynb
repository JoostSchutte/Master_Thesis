{
 "cells": [
  {
   "cell_type": "code",
   "execution_count": 4,
   "metadata": {},
   "outputs": [],
   "source": [
    "import numpy as np\n",
    "import pandas as pd\n",
    "import sklearn\n",
    "import matplotlib\n",
    "import tensorflow as tf\n",
    "import tensorflow.keras as keras\n",
    "import pickle\n",
    "import os\n",
    "import time\n",
    "import sys\n",
    "import warnings\n",
    "\n",
    "from sklearn.model_selection import train_test_split\n",
    "from sklearn.preprocessing import OneHotEncoder, LabelEncoder, RobustScaler\n",
    "from sklearn.decomposition import PCA\n",
    "from sklearn.metrics import mean_squared_error\n",
    "from sklearn.linear_model import LinearRegression\n",
    "import matplotlib.pyplot as plt\n",
    "from tensorflow.keras import Sequential, optimizers, layers, metrics, models, regularizers\n",
    "\n",
    "warnings.filterwarnings(\"ignore\")"
   ]
  },
  {
   "cell_type": "code",
   "execution_count": 5,
   "metadata": {},
   "outputs": [],
   "source": [
    "# Create a function to plot smoothed metric and loss curves\n",
    "def smooth_curve(points, factor=0.9):\n",
    "    smoothed_points = []\n",
    "    for point in points:\n",
    "        if smoothed_points:\n",
    "            previous = smoothed_points[-1]\n",
    "            smoothed_points.append(previous * factor + point * (1 - factor))\n",
    "        else:\n",
    "            smoothed_points.append(point)\n",
    "    return smoothed_points"
   ]
  },
  {
   "cell_type": "code",
   "execution_count": null,
   "metadata": {},
   "outputs": [],
   "source": []
  },
  {
   "cell_type": "code",
   "execution_count": 6,
   "metadata": {},
   "outputs": [],
   "source": [
    "df = pd.read_pickle(\"Data/df_final1.pkl\")"
   ]
  },
  {
   "cell_type": "code",
   "execution_count": 7,
   "metadata": {},
   "outputs": [],
   "source": [
    "df_nn_cat = df.copy()"
   ]
  },
  {
   "cell_type": "code",
   "execution_count": null,
   "metadata": {},
   "outputs": [],
   "source": []
  },
  {
   "cell_type": "code",
   "execution_count": 8,
   "metadata": {},
   "outputs": [],
   "source": [
    "X = df_nn_cat.loc[:, [\"prev_date\", \"kg_ordered\", \"prod_group\", \"silo_nr\", \"kg_delivered\",\n",
    "                      \"RU Geit\", \"RU Grond\", \"RU Kalv\", \"RU Melkv\", \"RU Vlvee\", \"Rundvee\"]]\n",
    "\n",
    "y = df_nn_cat[\"difference\"]"
   ]
  },
  {
   "cell_type": "code",
   "execution_count": 9,
   "metadata": {},
   "outputs": [],
   "source": [
    "X_train, X_test, y_train, y_test = train_test_split(X, y, test_size=0.1, random_state=42)"
   ]
  },
  {
   "cell_type": "code",
   "execution_count": 10,
   "metadata": {},
   "outputs": [],
   "source": [
    "X_train, X_val, y_train, y_val = train_test_split(X_train, y_train, test_size=0.15, random_state=42)"
   ]
  },
  {
   "cell_type": "code",
   "execution_count": null,
   "metadata": {},
   "outputs": [],
   "source": []
  },
  {
   "cell_type": "code",
   "execution_count": 11,
   "metadata": {},
   "outputs": [],
   "source": [
    "scaler = RobustScaler()\n",
    "\n",
    "X_train = scaler.fit_transform(X_train)\n",
    "y_train = scaler.fit_transform(np.asarray(y_train).reshape(-1,1))\n",
    "\n",
    "X_test = scaler.fit_transform(X_test)\n",
    "y_test = scaler.fit_transform(np.asarray(y_test).reshape(-1,1))\n",
    "\n",
    "X_val = scaler.fit_transform(X_val)\n",
    "y_val = scaler.fit_transform(np.asarray(y_val).reshape(-1,1))"
   ]
  },
  {
   "cell_type": "code",
   "execution_count": null,
   "metadata": {},
   "outputs": [],
   "source": []
  },
  {
   "cell_type": "code",
   "execution_count": 9,
   "metadata": {},
   "outputs": [],
   "source": [
    "# Create functions that can take a number of hyperparameters and create neural networks with all combinations\n",
    "def modeller(X_train, y_train, X_test, y_test, X_val, y_val, num_layers, neurons, activation, optimizer):\n",
    "    model = Sequential()\n",
    "    \n",
    "    model.add(layers.Dense(neurons, input_shape=(11,), activation=activation))\n",
    "    \n",
    "    for i in range(num_layers-1):\n",
    "        model.add(layers.Dense(neurons, activation=activation))\n",
    "        \n",
    "    model.add(layers.Dense(1))\n",
    "    \n",
    "    model.compile(optimizer=optimizer, loss=\"mean_squared_error\", \n",
    "                  metrics=tf.keras.metrics.RootMeanSquaredError())\n",
    "    \n",
    "    history = model.fit(X_train, y_train, epochs=10, validation_data=(X_val, y_val), verbose=0)\n",
    "    \n",
    "    val_loss_score, val_rmse_score = model.evaluate(X_val, y_val, verbose=0)\n",
    "    \n",
    "    return val_loss_score, val_rmse_score\n"
   ]
  },
  {
   "cell_type": "code",
   "execution_count": 10,
   "metadata": {},
   "outputs": [],
   "source": [
    "def optimizer(num_layers, neurons, activations, optimizers):\n",
    "    best_rmse = 9999\n",
    "    \n",
    "    start = time.time()\n",
    "\n",
    "    for num in num_layers:\n",
    "        for neur in neurons:\n",
    "            for act in activations:\n",
    "                for opt in optimizers:\n",
    "                    print(f\"Running a model with {num} layers, {neur} neurons, \" \\\n",
    "                          f\"{act} activation, and {opt} optimizer.\")\n",
    "                    \n",
    "                    val_loss_score, val_rmse_score = modeller(X_train, y_train, X_test, y_test, X_val, y_val, \n",
    "                                                                  num, neur, act, opt)\n",
    "                    \n",
    "                    stop = time.time()\n",
    "                    print(f\"It took {np.round(stop-start)} seconds ({(np.round(stop-start))/60} minutes) \"\\\n",
    "                          \"to run this model.\")\n",
    "                    start = time.time()\n",
    "\n",
    "                    if val_rmse_score < best_rmse:\n",
    "                        best_rmse = val_rmse_score\n",
    "                        best_num_layers = num\n",
    "                        best_neurons = neur\n",
    "                        best_activation = act\n",
    "                        best_optimizer = opt\n",
    "                        \n",
    "                        print(f\"Best RMSE updated to: {best_rmse}.\")\n",
    "                        \n",
    "    return best_rmse, best_num_layers, best_neurons, best_activation, best_optimizer\n"
   ]
  },
  {
   "cell_type": "code",
   "execution_count": 11,
   "metadata": {
    "scrolled": true
   },
   "outputs": [
    {
     "name": "stdout",
     "output_type": "stream",
     "text": [
      "Running a model with 2 layers, 16 neurons, linear activation, and adam optimizer.\n",
      "It took 66.0 seconds (1.1 minutes) to run this model.\n",
      "Best RMSE updated to: 1.7874454259872437.\n",
      "Running a model with 2 layers, 16 neurons, linear activation, and adagrad optimizer.\n",
      "It took 60.0 seconds (1.0 minutes) to run this model.\n",
      "Best RMSE updated to: 1.785861849784851.\n",
      "Running a model with 2 layers, 16 neurons, linear activation, and adadelta optimizer.\n",
      "It took 62.0 seconds (1.0333333333333334 minutes) to run this model.\n",
      "Running a model with 2 layers, 16 neurons, relu activation, and adam optimizer.\n",
      "It took 62.0 seconds (1.0333333333333334 minutes) to run this model.\n",
      "Best RMSE updated to: 1.7802590131759644.\n",
      "Running a model with 2 layers, 16 neurons, relu activation, and adagrad optimizer.\n",
      "It took 59.0 seconds (0.9833333333333333 minutes) to run this model.\n",
      "Running a model with 2 layers, 16 neurons, relu activation, and adadelta optimizer.\n",
      "It took 62.0 seconds (1.0333333333333334 minutes) to run this model.\n",
      "Running a model with 2 layers, 16 neurons, sigmoid activation, and adam optimizer.\n",
      "It took 63.0 seconds (1.05 minutes) to run this model.\n",
      "Running a model with 2 layers, 16 neurons, sigmoid activation, and adagrad optimizer.\n",
      "It took 59.0 seconds (0.9833333333333333 minutes) to run this model.\n",
      "Running a model with 2 layers, 16 neurons, sigmoid activation, and adadelta optimizer.\n",
      "It took 62.0 seconds (1.0333333333333334 minutes) to run this model.\n",
      "Running a model with 2 layers, 16 neurons, tanh activation, and adam optimizer.\n",
      "It took 64.0 seconds (1.0666666666666667 minutes) to run this model.\n",
      "Running a model with 2 layers, 16 neurons, tanh activation, and adagrad optimizer.\n",
      "It took 60.0 seconds (1.0 minutes) to run this model.\n",
      "Running a model with 2 layers, 16 neurons, tanh activation, and adadelta optimizer.\n",
      "It took 62.0 seconds (1.0333333333333334 minutes) to run this model.\n",
      "Running a model with 2 layers, 32 neurons, linear activation, and adam optimizer.\n",
      "It took 67.0 seconds (1.1166666666666667 minutes) to run this model.\n",
      "Running a model with 2 layers, 32 neurons, linear activation, and adagrad optimizer.\n",
      "It took 59.0 seconds (0.9833333333333333 minutes) to run this model.\n",
      "Running a model with 2 layers, 32 neurons, linear activation, and adadelta optimizer.\n",
      "It took 63.0 seconds (1.05 minutes) to run this model.\n",
      "Running a model with 2 layers, 32 neurons, relu activation, and adam optimizer.\n",
      "It took 67.0 seconds (1.1166666666666667 minutes) to run this model.\n",
      "Best RMSE updated to: 1.780031442642212.\n",
      "Running a model with 2 layers, 32 neurons, relu activation, and adagrad optimizer.\n",
      "It took 59.0 seconds (0.9833333333333333 minutes) to run this model.\n",
      "Running a model with 2 layers, 32 neurons, relu activation, and adadelta optimizer.\n",
      "It took 62.0 seconds (1.0333333333333334 minutes) to run this model.\n",
      "Running a model with 2 layers, 32 neurons, sigmoid activation, and adam optimizer.\n",
      "It took 67.0 seconds (1.1166666666666667 minutes) to run this model.\n",
      "Running a model with 2 layers, 32 neurons, sigmoid activation, and adagrad optimizer.\n",
      "It took 59.0 seconds (0.9833333333333333 minutes) to run this model.\n",
      "Running a model with 2 layers, 32 neurons, sigmoid activation, and adadelta optimizer.\n",
      "It took 62.0 seconds (1.0333333333333334 minutes) to run this model.\n",
      "Running a model with 2 layers, 32 neurons, tanh activation, and adam optimizer.\n",
      "It took 68.0 seconds (1.1333333333333333 minutes) to run this model.\n",
      "Running a model with 2 layers, 32 neurons, tanh activation, and adagrad optimizer.\n",
      "It took 59.0 seconds (0.9833333333333333 minutes) to run this model.\n",
      "Running a model with 2 layers, 32 neurons, tanh activation, and adadelta optimizer.\n",
      "It took 62.0 seconds (1.0333333333333334 minutes) to run this model.\n",
      "Running a model with 2 layers, 64 neurons, linear activation, and adam optimizer.\n",
      "It took 69.0 seconds (1.15 minutes) to run this model.\n",
      "Running a model with 2 layers, 64 neurons, linear activation, and adagrad optimizer.\n",
      "It took 59.0 seconds (0.9833333333333333 minutes) to run this model.\n",
      "Running a model with 2 layers, 64 neurons, linear activation, and adadelta optimizer.\n",
      "It took 62.0 seconds (1.0333333333333334 minutes) to run this model.\n",
      "Running a model with 2 layers, 64 neurons, relu activation, and adam optimizer.\n",
      "It took 69.0 seconds (1.15 minutes) to run this model.\n",
      "Best RMSE updated to: 1.7797547578811646.\n",
      "Running a model with 2 layers, 64 neurons, relu activation, and adagrad optimizer.\n",
      "It took 62.0 seconds (1.0333333333333334 minutes) to run this model.\n",
      "Running a model with 2 layers, 64 neurons, relu activation, and adadelta optimizer.\n",
      "It took 66.0 seconds (1.1 minutes) to run this model.\n",
      "Running a model with 2 layers, 64 neurons, sigmoid activation, and adam optimizer.\n",
      "It took 72.0 seconds (1.2 minutes) to run this model.\n",
      "Running a model with 2 layers, 64 neurons, sigmoid activation, and adagrad optimizer.\n",
      "It took 60.0 seconds (1.0 minutes) to run this model.\n",
      "Running a model with 2 layers, 64 neurons, sigmoid activation, and adadelta optimizer.\n",
      "It took 62.0 seconds (1.0333333333333334 minutes) to run this model.\n",
      "Running a model with 2 layers, 64 neurons, tanh activation, and adam optimizer.\n",
      "It took 69.0 seconds (1.15 minutes) to run this model.\n",
      "Running a model with 2 layers, 64 neurons, tanh activation, and adagrad optimizer.\n",
      "It took 61.0 seconds (1.0166666666666666 minutes) to run this model.\n",
      "Running a model with 2 layers, 64 neurons, tanh activation, and adadelta optimizer.\n",
      "It took 68.0 seconds (1.1333333333333333 minutes) to run this model.\n",
      "Running a model with 2 layers, 128 neurons, linear activation, and adam optimizer.\n",
      "It took 75.0 seconds (1.25 minutes) to run this model.\n",
      "Running a model with 2 layers, 128 neurons, linear activation, and adagrad optimizer.\n",
      "It took 67.0 seconds (1.1166666666666667 minutes) to run this model.\n",
      "Running a model with 2 layers, 128 neurons, linear activation, and adadelta optimizer.\n",
      "It took 67.0 seconds (1.1166666666666667 minutes) to run this model.\n",
      "Running a model with 2 layers, 128 neurons, relu activation, and adam optimizer.\n",
      "It took 77.0 seconds (1.2833333333333334 minutes) to run this model.\n",
      "Best RMSE updated to: 1.779585361480713.\n",
      "Running a model with 2 layers, 128 neurons, relu activation, and adagrad optimizer.\n",
      "It took 66.0 seconds (1.1 minutes) to run this model.\n",
      "Running a model with 2 layers, 128 neurons, relu activation, and adadelta optimizer.\n",
      "It took 68.0 seconds (1.1333333333333333 minutes) to run this model.\n",
      "Running a model with 2 layers, 128 neurons, sigmoid activation, and adam optimizer.\n",
      "It took 77.0 seconds (1.2833333333333334 minutes) to run this model.\n",
      "Running a model with 2 layers, 128 neurons, sigmoid activation, and adagrad optimizer.\n",
      "It took 66.0 seconds (1.1 minutes) to run this model.\n",
      "Running a model with 2 layers, 128 neurons, sigmoid activation, and adadelta optimizer.\n",
      "It took 68.0 seconds (1.1333333333333333 minutes) to run this model.\n",
      "Running a model with 2 layers, 128 neurons, tanh activation, and adam optimizer.\n",
      "It took 75.0 seconds (1.25 minutes) to run this model.\n",
      "Running a model with 2 layers, 128 neurons, tanh activation, and adagrad optimizer.\n",
      "It took 67.0 seconds (1.1166666666666667 minutes) to run this model.\n",
      "Running a model with 2 layers, 128 neurons, tanh activation, and adadelta optimizer.\n",
      "It took 68.0 seconds (1.1333333333333333 minutes) to run this model.\n",
      "Running a model with 4 layers, 16 neurons, linear activation, and adam optimizer.\n",
      "It took 69.0 seconds (1.15 minutes) to run this model.\n",
      "Running a model with 4 layers, 16 neurons, linear activation, and adagrad optimizer.\n",
      "It took 65.0 seconds (1.0833333333333333 minutes) to run this model.\n",
      "Running a model with 4 layers, 16 neurons, linear activation, and adadelta optimizer.\n",
      "It took 69.0 seconds (1.15 minutes) to run this model.\n",
      "Running a model with 4 layers, 16 neurons, relu activation, and adam optimizer.\n",
      "It took 70.0 seconds (1.1666666666666667 minutes) to run this model.\n",
      "Running a model with 4 layers, 16 neurons, relu activation, and adagrad optimizer.\n",
      "It took 64.0 seconds (1.0666666666666667 minutes) to run this model.\n",
      "Running a model with 4 layers, 16 neurons, relu activation, and adadelta optimizer.\n",
      "It took 70.0 seconds (1.1666666666666667 minutes) to run this model.\n",
      "Running a model with 4 layers, 16 neurons, sigmoid activation, and adam optimizer.\n"
     ]
    },
    {
     "name": "stdout",
     "output_type": "stream",
     "text": [
      "It took 72.0 seconds (1.2 minutes) to run this model.\n",
      "Running a model with 4 layers, 16 neurons, sigmoid activation, and adagrad optimizer.\n",
      "It took 66.0 seconds (1.1 minutes) to run this model.\n",
      "Running a model with 4 layers, 16 neurons, sigmoid activation, and adadelta optimizer.\n",
      "It took 71.0 seconds (1.1833333333333333 minutes) to run this model.\n",
      "Running a model with 4 layers, 16 neurons, tanh activation, and adam optimizer.\n",
      "It took 70.0 seconds (1.1666666666666667 minutes) to run this model.\n",
      "Running a model with 4 layers, 16 neurons, tanh activation, and adagrad optimizer.\n",
      "It took 65.0 seconds (1.0833333333333333 minutes) to run this model.\n",
      "Running a model with 4 layers, 16 neurons, tanh activation, and adadelta optimizer.\n",
      "It took 70.0 seconds (1.1666666666666667 minutes) to run this model.\n",
      "Running a model with 4 layers, 32 neurons, linear activation, and adam optimizer.\n",
      "It took 76.0 seconds (1.2666666666666666 minutes) to run this model.\n",
      "Running a model with 4 layers, 32 neurons, linear activation, and adagrad optimizer.\n",
      "It took 65.0 seconds (1.0833333333333333 minutes) to run this model.\n",
      "Running a model with 4 layers, 32 neurons, linear activation, and adadelta optimizer.\n",
      "It took 70.0 seconds (1.1666666666666667 minutes) to run this model.\n",
      "Running a model with 4 layers, 32 neurons, relu activation, and adam optimizer.\n",
      "It took 78.0 seconds (1.3 minutes) to run this model.\n",
      "Running a model with 4 layers, 32 neurons, relu activation, and adagrad optimizer.\n",
      "It took 69.0 seconds (1.15 minutes) to run this model.\n",
      "Running a model with 4 layers, 32 neurons, relu activation, and adadelta optimizer.\n",
      "It took 70.0 seconds (1.1666666666666667 minutes) to run this model.\n",
      "Running a model with 4 layers, 32 neurons, sigmoid activation, and adam optimizer.\n",
      "It took 77.0 seconds (1.2833333333333334 minutes) to run this model.\n",
      "Running a model with 4 layers, 32 neurons, sigmoid activation, and adagrad optimizer.\n",
      "It took 66.0 seconds (1.1 minutes) to run this model.\n",
      "Running a model with 4 layers, 32 neurons, sigmoid activation, and adadelta optimizer.\n",
      "It took 74.0 seconds (1.2333333333333334 minutes) to run this model.\n",
      "Running a model with 4 layers, 32 neurons, tanh activation, and adam optimizer.\n",
      "It took 80.0 seconds (1.3333333333333333 minutes) to run this model.\n",
      "Running a model with 4 layers, 32 neurons, tanh activation, and adagrad optimizer.\n",
      "It took 67.0 seconds (1.1166666666666667 minutes) to run this model.\n",
      "Running a model with 4 layers, 32 neurons, tanh activation, and adadelta optimizer.\n",
      "It took 70.0 seconds (1.1666666666666667 minutes) to run this model.\n",
      "Running a model with 4 layers, 64 neurons, linear activation, and adam optimizer.\n",
      "It took 81.0 seconds (1.35 minutes) to run this model.\n",
      "Running a model with 4 layers, 64 neurons, linear activation, and adagrad optimizer.\n",
      "It took 68.0 seconds (1.1333333333333333 minutes) to run this model.\n",
      "Running a model with 4 layers, 64 neurons, linear activation, and adadelta optimizer.\n",
      "It took 72.0 seconds (1.2 minutes) to run this model.\n",
      "Running a model with 4 layers, 64 neurons, relu activation, and adam optimizer.\n",
      "It took 81.0 seconds (1.35 minutes) to run this model.\n",
      "Running a model with 4 layers, 64 neurons, relu activation, and adagrad optimizer.\n",
      "It took 68.0 seconds (1.1333333333333333 minutes) to run this model.\n",
      "Running a model with 4 layers, 64 neurons, relu activation, and adadelta optimizer.\n",
      "It took 73.0 seconds (1.2166666666666666 minutes) to run this model.\n",
      "Running a model with 4 layers, 64 neurons, sigmoid activation, and adam optimizer.\n",
      "It took 88.0 seconds (1.4666666666666666 minutes) to run this model.\n",
      "Running a model with 4 layers, 64 neurons, sigmoid activation, and adagrad optimizer.\n",
      "It took 69.0 seconds (1.15 minutes) to run this model.\n",
      "Running a model with 4 layers, 64 neurons, sigmoid activation, and adadelta optimizer.\n",
      "It took 75.0 seconds (1.25 minutes) to run this model.\n",
      "Running a model with 4 layers, 64 neurons, tanh activation, and adam optimizer.\n",
      "It took 83.0 seconds (1.3833333333333333 minutes) to run this model.\n",
      "Running a model with 4 layers, 64 neurons, tanh activation, and adagrad optimizer.\n",
      "It took 69.0 seconds (1.15 minutes) to run this model.\n",
      "Running a model with 4 layers, 64 neurons, tanh activation, and adadelta optimizer.\n",
      "It took 74.0 seconds (1.2333333333333334 minutes) to run this model.\n",
      "Running a model with 4 layers, 128 neurons, linear activation, and adam optimizer.\n",
      "It took 99.0 seconds (1.65 minutes) to run this model.\n",
      "Running a model with 4 layers, 128 neurons, linear activation, and adagrad optimizer.\n",
      "It took 83.0 seconds (1.3833333333333333 minutes) to run this model.\n",
      "Running a model with 4 layers, 128 neurons, linear activation, and adadelta optimizer.\n",
      "It took 88.0 seconds (1.4666666666666666 minutes) to run this model.\n",
      "Running a model with 4 layers, 128 neurons, relu activation, and adam optimizer.\n",
      "It took 101.0 seconds (1.6833333333333333 minutes) to run this model.\n",
      "Running a model with 4 layers, 128 neurons, relu activation, and adagrad optimizer.\n",
      "It took 84.0 seconds (1.4 minutes) to run this model.\n",
      "Running a model with 4 layers, 128 neurons, relu activation, and adadelta optimizer.\n",
      "It took 88.0 seconds (1.4666666666666666 minutes) to run this model.\n",
      "Running a model with 4 layers, 128 neurons, sigmoid activation, and adam optimizer.\n",
      "It took 106.0 seconds (1.7666666666666666 minutes) to run this model.\n",
      "Running a model with 4 layers, 128 neurons, sigmoid activation, and adagrad optimizer.\n",
      "It took 86.0 seconds (1.4333333333333333 minutes) to run this model.\n",
      "Running a model with 4 layers, 128 neurons, sigmoid activation, and adadelta optimizer.\n",
      "It took 90.0 seconds (1.5 minutes) to run this model.\n",
      "Running a model with 4 layers, 128 neurons, tanh activation, and adam optimizer.\n",
      "It took 103.0 seconds (1.7166666666666666 minutes) to run this model.\n",
      "Running a model with 4 layers, 128 neurons, tanh activation, and adagrad optimizer.\n",
      "It took 86.0 seconds (1.4333333333333333 minutes) to run this model.\n",
      "Running a model with 4 layers, 128 neurons, tanh activation, and adadelta optimizer.\n",
      "It took 91.0 seconds (1.5166666666666666 minutes) to run this model.\n",
      "Running a model with 6 layers, 16 neurons, linear activation, and adam optimizer.\n",
      "It took 77.0 seconds (1.2833333333333334 minutes) to run this model.\n",
      "Running a model with 6 layers, 16 neurons, linear activation, and adagrad optimizer.\n",
      "It took 71.0 seconds (1.1833333333333333 minutes) to run this model.\n",
      "Running a model with 6 layers, 16 neurons, linear activation, and adadelta optimizer.\n",
      "It took 78.0 seconds (1.3 minutes) to run this model.\n",
      "Running a model with 6 layers, 16 neurons, relu activation, and adam optimizer.\n",
      "It took 77.0 seconds (1.2833333333333334 minutes) to run this model.\n",
      "Running a model with 6 layers, 16 neurons, relu activation, and adagrad optimizer.\n",
      "It took 75.0 seconds (1.25 minutes) to run this model.\n",
      "Running a model with 6 layers, 16 neurons, relu activation, and adadelta optimizer.\n",
      "It took 77.0 seconds (1.2833333333333334 minutes) to run this model.\n",
      "Running a model with 6 layers, 16 neurons, sigmoid activation, and adam optimizer.\n",
      "It took 84.0 seconds (1.4 minutes) to run this model.\n",
      "Running a model with 6 layers, 16 neurons, sigmoid activation, and adagrad optimizer.\n",
      "It took 72.0 seconds (1.2 minutes) to run this model.\n",
      "Running a model with 6 layers, 16 neurons, sigmoid activation, and adadelta optimizer.\n",
      "It took 76.0 seconds (1.2666666666666666 minutes) to run this model.\n",
      "Running a model with 6 layers, 16 neurons, tanh activation, and adam optimizer.\n",
      "It took 78.0 seconds (1.3 minutes) to run this model.\n",
      "Running a model with 6 layers, 16 neurons, tanh activation, and adagrad optimizer.\n",
      "It took 72.0 seconds (1.2 minutes) to run this model.\n",
      "Running a model with 6 layers, 16 neurons, tanh activation, and adadelta optimizer.\n",
      "It took 78.0 seconds (1.3 minutes) to run this model.\n",
      "Running a model with 6 layers, 32 neurons, linear activation, and adam optimizer.\n",
      "It took 87.0 seconds (1.45 minutes) to run this model.\n",
      "Running a model with 6 layers, 32 neurons, linear activation, and adagrad optimizer.\n",
      "It took 73.0 seconds (1.2166666666666666 minutes) to run this model.\n",
      "Running a model with 6 layers, 32 neurons, linear activation, and adadelta optimizer.\n"
     ]
    },
    {
     "name": "stdout",
     "output_type": "stream",
     "text": [
      "It took 77.0 seconds (1.2833333333333334 minutes) to run this model.\n",
      "Running a model with 6 layers, 32 neurons, relu activation, and adam optimizer.\n",
      "It took 87.0 seconds (1.45 minutes) to run this model.\n",
      "Running a model with 6 layers, 32 neurons, relu activation, and adagrad optimizer.\n",
      "It took 72.0 seconds (1.2 minutes) to run this model.\n",
      "Running a model with 6 layers, 32 neurons, relu activation, and adadelta optimizer.\n",
      "It took 78.0 seconds (1.3 minutes) to run this model.\n",
      "Running a model with 6 layers, 32 neurons, sigmoid activation, and adam optimizer.\n",
      "It took 88.0 seconds (1.4666666666666666 minutes) to run this model.\n",
      "Running a model with 6 layers, 32 neurons, sigmoid activation, and adagrad optimizer.\n",
      "It took 74.0 seconds (1.2333333333333334 minutes) to run this model.\n",
      "Running a model with 6 layers, 32 neurons, sigmoid activation, and adadelta optimizer.\n",
      "It took 79.0 seconds (1.3166666666666667 minutes) to run this model.\n",
      "Running a model with 6 layers, 32 neurons, tanh activation, and adam optimizer.\n",
      "It took 90.0 seconds (1.5 minutes) to run this model.\n",
      "Running a model with 6 layers, 32 neurons, tanh activation, and adagrad optimizer.\n",
      "It took 75.0 seconds (1.25 minutes) to run this model.\n",
      "Running a model with 6 layers, 32 neurons, tanh activation, and adadelta optimizer.\n",
      "It took 78.0 seconds (1.3 minutes) to run this model.\n",
      "Running a model with 6 layers, 64 neurons, linear activation, and adam optimizer.\n",
      "It took 95.0 seconds (1.5833333333333333 minutes) to run this model.\n",
      "Running a model with 6 layers, 64 neurons, linear activation, and adagrad optimizer.\n",
      "It took 80.0 seconds (1.3333333333333333 minutes) to run this model.\n",
      "Running a model with 6 layers, 64 neurons, linear activation, and adadelta optimizer.\n",
      "It took 83.0 seconds (1.3833333333333333 minutes) to run this model.\n",
      "Running a model with 6 layers, 64 neurons, relu activation, and adam optimizer.\n",
      "It took 96.0 seconds (1.6 minutes) to run this model.\n",
      "Running a model with 6 layers, 64 neurons, relu activation, and adagrad optimizer.\n",
      "It took 77.0 seconds (1.2833333333333334 minutes) to run this model.\n",
      "Running a model with 6 layers, 64 neurons, relu activation, and adadelta optimizer.\n",
      "It took 85.0 seconds (1.4166666666666667 minutes) to run this model.\n",
      "Running a model with 6 layers, 64 neurons, sigmoid activation, and adam optimizer.\n",
      "It took 99.0 seconds (1.65 minutes) to run this model.\n",
      "Running a model with 6 layers, 64 neurons, sigmoid activation, and adagrad optimizer.\n",
      "It took 78.0 seconds (1.3 minutes) to run this model.\n",
      "Running a model with 6 layers, 64 neurons, sigmoid activation, and adadelta optimizer.\n",
      "It took 84.0 seconds (1.4 minutes) to run this model.\n",
      "Running a model with 6 layers, 64 neurons, tanh activation, and adam optimizer.\n",
      "It took 102.0 seconds (1.7 minutes) to run this model.\n",
      "Running a model with 6 layers, 64 neurons, tanh activation, and adagrad optimizer.\n",
      "It took 79.0 seconds (1.3166666666666667 minutes) to run this model.\n",
      "Running a model with 6 layers, 64 neurons, tanh activation, and adadelta optimizer.\n",
      "It took 84.0 seconds (1.4 minutes) to run this model.\n",
      "Running a model with 6 layers, 128 neurons, linear activation, and adam optimizer.\n",
      "It took 127.0 seconds (2.1166666666666667 minutes) to run this model.\n",
      "Running a model with 6 layers, 128 neurons, linear activation, and adagrad optimizer.\n",
      "It took 101.0 seconds (1.6833333333333333 minutes) to run this model.\n",
      "Running a model with 6 layers, 128 neurons, linear activation, and adadelta optimizer.\n",
      "It took 106.0 seconds (1.7666666666666666 minutes) to run this model.\n",
      "Running a model with 6 layers, 128 neurons, relu activation, and adam optimizer.\n",
      "It took 129.0 seconds (2.15 minutes) to run this model.\n",
      "Running a model with 6 layers, 128 neurons, relu activation, and adagrad optimizer.\n",
      "It took 104.0 seconds (1.7333333333333334 minutes) to run this model.\n",
      "Running a model with 6 layers, 128 neurons, relu activation, and adadelta optimizer.\n",
      "It took 110.0 seconds (1.8333333333333333 minutes) to run this model.\n",
      "Running a model with 6 layers, 128 neurons, sigmoid activation, and adam optimizer.\n",
      "It took 135.0 seconds (2.25 minutes) to run this model.\n",
      "Running a model with 6 layers, 128 neurons, sigmoid activation, and adagrad optimizer.\n",
      "It took 107.0 seconds (1.7833333333333334 minutes) to run this model.\n",
      "Running a model with 6 layers, 128 neurons, sigmoid activation, and adadelta optimizer.\n",
      "It took 114.0 seconds (1.9 minutes) to run this model.\n",
      "Running a model with 6 layers, 128 neurons, tanh activation, and adam optimizer.\n",
      "It took 135.0 seconds (2.25 minutes) to run this model.\n",
      "Running a model with 6 layers, 128 neurons, tanh activation, and adagrad optimizer.\n",
      "It took 108.0 seconds (1.8 minutes) to run this model.\n",
      "Running a model with 6 layers, 128 neurons, tanh activation, and adadelta optimizer.\n",
      "It took 114.0 seconds (1.9 minutes) to run this model.\n",
      "Running a model with 8 layers, 16 neurons, linear activation, and adam optimizer.\n",
      "It took 89.0 seconds (1.4833333333333334 minutes) to run this model.\n",
      "Running a model with 8 layers, 16 neurons, linear activation, and adagrad optimizer.\n",
      "It took 75.0 seconds (1.25 minutes) to run this model.\n",
      "Running a model with 8 layers, 16 neurons, linear activation, and adadelta optimizer.\n",
      "It took 83.0 seconds (1.3833333333333333 minutes) to run this model.\n",
      "Running a model with 8 layers, 16 neurons, relu activation, and adam optimizer.\n",
      "It took 85.0 seconds (1.4166666666666667 minutes) to run this model.\n",
      "Running a model with 8 layers, 16 neurons, relu activation, and adagrad optimizer.\n",
      "It took 77.0 seconds (1.2833333333333334 minutes) to run this model.\n",
      "Running a model with 8 layers, 16 neurons, relu activation, and adadelta optimizer.\n",
      "It took 84.0 seconds (1.4 minutes) to run this model.\n",
      "Running a model with 8 layers, 16 neurons, sigmoid activation, and adam optimizer.\n",
      "It took 85.0 seconds (1.4166666666666667 minutes) to run this model.\n",
      "Running a model with 8 layers, 16 neurons, sigmoid activation, and adagrad optimizer.\n",
      "It took 78.0 seconds (1.3 minutes) to run this model.\n",
      "Running a model with 8 layers, 16 neurons, sigmoid activation, and adadelta optimizer.\n",
      "It took 85.0 seconds (1.4166666666666667 minutes) to run this model.\n",
      "Running a model with 8 layers, 16 neurons, tanh activation, and adam optimizer.\n",
      "It took 85.0 seconds (1.4166666666666667 minutes) to run this model.\n",
      "Running a model with 8 layers, 16 neurons, tanh activation, and adagrad optimizer.\n",
      "It took 78.0 seconds (1.3 minutes) to run this model.\n",
      "Running a model with 8 layers, 16 neurons, tanh activation, and adadelta optimizer.\n",
      "It took 84.0 seconds (1.4 minutes) to run this model.\n",
      "Running a model with 8 layers, 32 neurons, linear activation, and adam optimizer.\n",
      "It took 97.0 seconds (1.6166666666666667 minutes) to run this model.\n",
      "Running a model with 8 layers, 32 neurons, linear activation, and adagrad optimizer.\n",
      "It took 79.0 seconds (1.3166666666666667 minutes) to run this model.\n",
      "Running a model with 8 layers, 32 neurons, linear activation, and adadelta optimizer.\n",
      "It took 84.0 seconds (1.4 minutes) to run this model.\n",
      "Running a model with 8 layers, 32 neurons, relu activation, and adam optimizer.\n",
      "It took 99.0 seconds (1.65 minutes) to run this model.\n",
      "Running a model with 8 layers, 32 neurons, relu activation, and adagrad optimizer.\n",
      "It took 79.0 seconds (1.3166666666666667 minutes) to run this model.\n",
      "Running a model with 8 layers, 32 neurons, relu activation, and adadelta optimizer.\n",
      "It took 85.0 seconds (1.4166666666666667 minutes) to run this model.\n",
      "Running a model with 8 layers, 32 neurons, sigmoid activation, and adam optimizer.\n",
      "It took 100.0 seconds (1.6666666666666667 minutes) to run this model.\n",
      "Running a model with 8 layers, 32 neurons, sigmoid activation, and adagrad optimizer.\n",
      "It took 80.0 seconds (1.3333333333333333 minutes) to run this model.\n",
      "Running a model with 8 layers, 32 neurons, sigmoid activation, and adadelta optimizer.\n",
      "It took 86.0 seconds (1.4333333333333333 minutes) to run this model.\n",
      "Running a model with 8 layers, 32 neurons, tanh activation, and adam optimizer.\n",
      "It took 100.0 seconds (1.6666666666666667 minutes) to run this model.\n",
      "Running a model with 8 layers, 32 neurons, tanh activation, and adagrad optimizer.\n"
     ]
    },
    {
     "name": "stdout",
     "output_type": "stream",
     "text": [
      "It took 78.0 seconds (1.3 minutes) to run this model.\n",
      "Running a model with 8 layers, 32 neurons, tanh activation, and adadelta optimizer.\n",
      "It took 86.0 seconds (1.4333333333333333 minutes) to run this model.\n",
      "Running a model with 8 layers, 64 neurons, linear activation, and adam optimizer.\n",
      "It took 106.0 seconds (1.7666666666666666 minutes) to run this model.\n",
      "Running a model with 8 layers, 64 neurons, linear activation, and adagrad optimizer.\n",
      "It took 86.0 seconds (1.4333333333333333 minutes) to run this model.\n",
      "Running a model with 8 layers, 64 neurons, linear activation, and adadelta optimizer.\n",
      "It took 92.0 seconds (1.5333333333333334 minutes) to run this model.\n",
      "Running a model with 8 layers, 64 neurons, relu activation, and adam optimizer.\n",
      "It took 112.0 seconds (1.8666666666666667 minutes) to run this model.\n",
      "Running a model with 8 layers, 64 neurons, relu activation, and adagrad optimizer.\n",
      "It took 85.0 seconds (1.4166666666666667 minutes) to run this model.\n",
      "Running a model with 8 layers, 64 neurons, relu activation, and adadelta optimizer.\n",
      "It took 93.0 seconds (1.55 minutes) to run this model.\n",
      "Running a model with 8 layers, 64 neurons, sigmoid activation, and adam optimizer.\n",
      "It took 113.0 seconds (1.8833333333333333 minutes) to run this model.\n",
      "Running a model with 8 layers, 64 neurons, sigmoid activation, and adagrad optimizer.\n",
      "It took 88.0 seconds (1.4666666666666666 minutes) to run this model.\n",
      "Running a model with 8 layers, 64 neurons, sigmoid activation, and adadelta optimizer.\n",
      "It took 95.0 seconds (1.5833333333333333 minutes) to run this model.\n",
      "Running a model with 8 layers, 64 neurons, tanh activation, and adam optimizer.\n",
      "It took 111.0 seconds (1.85 minutes) to run this model.\n",
      "Running a model with 8 layers, 64 neurons, tanh activation, and adagrad optimizer.\n",
      "It took 92.0 seconds (1.5333333333333334 minutes) to run this model.\n",
      "Running a model with 8 layers, 64 neurons, tanh activation, and adadelta optimizer.\n",
      "It took 95.0 seconds (1.5833333333333333 minutes) to run this model.\n",
      "Running a model with 8 layers, 128 neurons, linear activation, and adam optimizer.\n",
      "It took 152.0 seconds (2.533333333333333 minutes) to run this model.\n",
      "Running a model with 8 layers, 128 neurons, linear activation, and adagrad optimizer.\n",
      "It took 121.0 seconds (2.0166666666666666 minutes) to run this model.\n",
      "Running a model with 8 layers, 128 neurons, linear activation, and adadelta optimizer.\n",
      "It took 134.0 seconds (2.2333333333333334 minutes) to run this model.\n",
      "Running a model with 8 layers, 128 neurons, relu activation, and adam optimizer.\n",
      "It took 152.0 seconds (2.533333333333333 minutes) to run this model.\n",
      "Running a model with 8 layers, 128 neurons, relu activation, and adagrad optimizer.\n",
      "It took 125.0 seconds (2.0833333333333335 minutes) to run this model.\n",
      "Running a model with 8 layers, 128 neurons, relu activation, and adadelta optimizer.\n",
      "It took 132.0 seconds (2.2 minutes) to run this model.\n",
      "Running a model with 8 layers, 128 neurons, sigmoid activation, and adam optimizer.\n",
      "It took 159.0 seconds (2.65 minutes) to run this model.\n",
      "Running a model with 8 layers, 128 neurons, sigmoid activation, and adagrad optimizer.\n",
      "It took 129.0 seconds (2.15 minutes) to run this model.\n",
      "Running a model with 8 layers, 128 neurons, sigmoid activation, and adadelta optimizer.\n",
      "It took 135.0 seconds (2.25 minutes) to run this model.\n",
      "Running a model with 8 layers, 128 neurons, tanh activation, and adam optimizer.\n",
      "It took 158.0 seconds (2.6333333333333333 minutes) to run this model.\n",
      "Running a model with 8 layers, 128 neurons, tanh activation, and adagrad optimizer.\n",
      "It took 129.0 seconds (2.15 minutes) to run this model.\n",
      "Running a model with 8 layers, 128 neurons, tanh activation, and adadelta optimizer.\n",
      "It took 136.0 seconds (2.2666666666666666 minutes) to run this model.\n"
     ]
    }
   ],
   "source": [
    "result = optimizer([2, 4, 6, 8], [16, 32, 64, 128], \n",
    "                   [\"linear\", \"relu\", \"sigmoid\", \"tanh\"], [\"adam\", \"adagrad\", \"adadelta\"])"
   ]
  },
  {
   "cell_type": "code",
   "execution_count": 13,
   "metadata": {},
   "outputs": [
    {
     "name": "stdout",
     "output_type": "stream",
     "text": [
      "(1.779585361480713, 2, 128, 'relu', 'adam')\n"
     ]
    }
   ],
   "source": [
    "print(result)"
   ]
  },
  {
   "cell_type": "code",
   "execution_count": null,
   "metadata": {},
   "outputs": [],
   "source": []
  },
  {
   "cell_type": "code",
   "execution_count": 12,
   "metadata": {},
   "outputs": [],
   "source": [
    "# Create the optimal model and run it for 100 epochs\n",
    "model = Sequential()\n",
    "model.add(layers.Dense(128, input_shape=(11,), activation=\"relu\"))\n",
    "model.add(layers.Dense(128, activation=\"relu\"))\n",
    "model.add(layers.Dense(128, activation=\"relu\"))\n",
    "model.add(layers.Dense(1))"
   ]
  },
  {
   "cell_type": "code",
   "execution_count": 13,
   "metadata": {},
   "outputs": [
    {
     "name": "stdout",
     "output_type": "stream",
     "text": [
      "Model: \"sequential\"\n",
      "_________________________________________________________________\n",
      "Layer (type)                 Output Shape              Param #   \n",
      "=================================================================\n",
      "dense (Dense)                (None, 128)               1536      \n",
      "_________________________________________________________________\n",
      "dense_1 (Dense)              (None, 128)               16512     \n",
      "_________________________________________________________________\n",
      "dense_2 (Dense)              (None, 128)               16512     \n",
      "_________________________________________________________________\n",
      "dense_3 (Dense)              (None, 1)                 129       \n",
      "=================================================================\n",
      "Total params: 34,689\n",
      "Trainable params: 34,689\n",
      "Non-trainable params: 0\n",
      "_________________________________________________________________\n"
     ]
    }
   ],
   "source": [
    "model.summary()"
   ]
  },
  {
   "cell_type": "code",
   "execution_count": 14,
   "metadata": {
    "scrolled": true
   },
   "outputs": [
    {
     "name": "stdout",
     "output_type": "stream",
     "text": [
      "Epoch 1/100\n",
      "13322/13322 [==============================] - 14s 1ms/step - loss: 3.4180 - root_mean_squared_error: 1.8488 - val_loss: 3.1765 - val_root_mean_squared_error: 1.7823\n",
      "Epoch 2/100\n",
      "13322/13322 [==============================] - 13s 995us/step - loss: 3.4125 - root_mean_squared_error: 1.8473 - val_loss: 3.1821 - val_root_mean_squared_error: 1.7839\n",
      "Epoch 3/100\n",
      "13322/13322 [==============================] - 12s 924us/step - loss: 3.4111 - root_mean_squared_error: 1.8469 - val_loss: 3.1707 - val_root_mean_squared_error: 1.7806\n",
      "Epoch 4/100\n",
      "13322/13322 [==============================] - 13s 939us/step - loss: 3.4088 - root_mean_squared_error: 1.8463 - val_loss: 3.1738 - val_root_mean_squared_error: 1.7815\n",
      "Epoch 5/100\n",
      "13322/13322 [==============================] - 12s 894us/step - loss: 3.4094 - root_mean_squared_error: 1.8465 - val_loss: 3.1744 - val_root_mean_squared_error: 1.7817\n",
      "Epoch 6/100\n",
      "13322/13322 [==============================] - 13s 973us/step - loss: 3.4067 - root_mean_squared_error: 1.8457 - val_loss: 3.1689 - val_root_mean_squared_error: 1.7801\n",
      "Epoch 7/100\n",
      "13322/13322 [==============================] - 13s 972us/step - loss: 3.4059 - root_mean_squared_error: 1.8455 - val_loss: 3.1696 - val_root_mean_squared_error: 1.7803\n",
      "Epoch 8/100\n",
      "13322/13322 [==============================] - 12s 923us/step - loss: 3.4051 - root_mean_squared_error: 1.8453 - val_loss: 3.1695 - val_root_mean_squared_error: 1.7803\n",
      "Epoch 9/100\n",
      "13322/13322 [==============================] - 15s 1ms/step - loss: 3.4049 - root_mean_squared_error: 1.8452 - val_loss: 3.1682 - val_root_mean_squared_error: 1.7799\n",
      "Epoch 10/100\n",
      "13322/13322 [==============================] - 19s 1ms/step - loss: 3.4041 - root_mean_squared_error: 1.8450 - val_loss: 3.1690 - val_root_mean_squared_error: 1.7802\n",
      "Epoch 11/100\n",
      "13322/13322 [==============================] - 15s 1ms/step - loss: 3.4034 - root_mean_squared_error: 1.8448 - val_loss: 3.1669 - val_root_mean_squared_error: 1.7796\n",
      "Epoch 12/100\n",
      "13322/13322 [==============================] - 16s 1ms/step - loss: 3.4035 - root_mean_squared_error: 1.8449 - val_loss: 3.1705 - val_root_mean_squared_error: 1.7806\n",
      "Epoch 13/100\n",
      "13322/13322 [==============================] - 16s 1ms/step - loss: 3.4035 - root_mean_squared_error: 1.8449 - val_loss: 3.1666 - val_root_mean_squared_error: 1.7795\n",
      "Epoch 14/100\n",
      "13322/13322 [==============================] - 17s 1ms/step - loss: 3.4024 - root_mean_squared_error: 1.8446 - val_loss: 3.1660 - val_root_mean_squared_error: 1.7793\n",
      "Epoch 15/100\n",
      "13322/13322 [==============================] - 23s 2ms/step - loss: 3.4025 - root_mean_squared_error: 1.8446 - val_loss: 3.1694 - val_root_mean_squared_error: 1.7803\n",
      "Epoch 16/100\n",
      "13322/13322 [==============================] - 22s 2ms/step - loss: 3.4021 - root_mean_squared_error: 1.8445 - val_loss: 3.1742 - val_root_mean_squared_error: 1.7816\n",
      "Epoch 17/100\n",
      "13322/13322 [==============================] - 21s 2ms/step - loss: 3.4023 - root_mean_squared_error: 1.8445 - val_loss: 3.1682 - val_root_mean_squared_error: 1.7799\n",
      "Epoch 18/100\n",
      "13322/13322 [==============================] - 21s 2ms/step - loss: 3.4007 - root_mean_squared_error: 1.8441 - val_loss: 3.1649 - val_root_mean_squared_error: 1.7790\n",
      "Epoch 19/100\n",
      "13322/13322 [==============================] - 22s 2ms/step - loss: 3.4012 - root_mean_squared_error: 1.8442 - val_loss: 3.1668 - val_root_mean_squared_error: 1.7795\n",
      "Epoch 20/100\n",
      "13322/13322 [==============================] - 21s 2ms/step - loss: 3.4002 - root_mean_squared_error: 1.8440 - val_loss: 3.1931 - val_root_mean_squared_error: 1.7869\n",
      "Epoch 21/100\n",
      "13322/13322 [==============================] - 22s 2ms/step - loss: 3.4011 - root_mean_squared_error: 1.8442 - val_loss: 3.1853 - val_root_mean_squared_error: 1.7847\n",
      "Epoch 22/100\n",
      "13322/13322 [==============================] - 20s 2ms/step - loss: 3.4002 - root_mean_squared_error: 1.8440 - val_loss: 3.1650 - val_root_mean_squared_error: 1.7791\n",
      "Epoch 23/100\n",
      "13322/13322 [==============================] - 15s 1ms/step - loss: 3.4013 - root_mean_squared_error: 1.8443 - val_loss: 3.1673 - val_root_mean_squared_error: 1.7797\n",
      "Epoch 24/100\n",
      "13322/13322 [==============================] - 14s 1ms/step - loss: 3.4006 - root_mean_squared_error: 1.8441 - val_loss: 3.1656 - val_root_mean_squared_error: 1.7792\n",
      "Epoch 25/100\n",
      "13322/13322 [==============================] - 14s 1ms/step - loss: 3.3996 - root_mean_squared_error: 1.8438 - val_loss: 3.1672 - val_root_mean_squared_error: 1.7797\n",
      "Epoch 26/100\n",
      "13322/13322 [==============================] - 15s 1ms/step - loss: 3.4006 - root_mean_squared_error: 1.8441 - val_loss: 3.1655 - val_root_mean_squared_error: 1.7792\n",
      "Epoch 27/100\n",
      "13322/13322 [==============================] - 15s 1ms/step - loss: 3.4001 - root_mean_squared_error: 1.8439 - val_loss: 3.1662 - val_root_mean_squared_error: 1.7794\n",
      "Epoch 28/100\n",
      "13322/13322 [==============================] - 14s 1ms/step - loss: 3.3996 - root_mean_squared_error: 1.8438 - val_loss: 3.1657 - val_root_mean_squared_error: 1.7792\n",
      "Epoch 29/100\n",
      "13322/13322 [==============================] - 16s 1ms/step - loss: 3.3991 - root_mean_squared_error: 1.8437 - val_loss: 3.1692 - val_root_mean_squared_error: 1.7802\n",
      "Epoch 30/100\n",
      "13322/13322 [==============================] - 14s 1ms/step - loss: 3.3996 - root_mean_squared_error: 1.8438 - val_loss: 3.1657 - val_root_mean_squared_error: 1.7792\n",
      "Epoch 31/100\n",
      "13322/13322 [==============================] - 13s 984us/step - loss: 3.3988 - root_mean_squared_error: 1.8436 - val_loss: 3.1693 - val_root_mean_squared_error: 1.7803\n",
      "Epoch 32/100\n",
      "13322/13322 [==============================] - 13s 973us/step - loss: 3.3991 - root_mean_squared_error: 1.8437 - val_loss: 3.1650 - val_root_mean_squared_error: 1.7790\n",
      "Epoch 33/100\n",
      "13322/13322 [==============================] - 13s 939us/step - loss: 3.4001 - root_mean_squared_error: 1.8439 - val_loss: 3.1654 - val_root_mean_squared_error: 1.7792\n",
      "Epoch 34/100\n",
      "13322/13322 [==============================] - 12s 933us/step - loss: 3.3987 - root_mean_squared_error: 1.8436 - val_loss: 3.1659 - val_root_mean_squared_error: 1.7793\n",
      "Epoch 35/100\n",
      "13322/13322 [==============================] - 13s 950us/step - loss: 3.3986 - root_mean_squared_error: 1.8435 - val_loss: 3.1688 - val_root_mean_squared_error: 1.7801\n",
      "Epoch 36/100\n",
      "13322/13322 [==============================] - 13s 960us/step - loss: 3.3978 - root_mean_squared_error: 1.8433 - val_loss: 3.1660 - val_root_mean_squared_error: 1.7793\n",
      "Epoch 37/100\n",
      "13322/13322 [==============================] - 12s 937us/step - loss: 3.3982 - root_mean_squared_error: 1.8434 - val_loss: 3.1675 - val_root_mean_squared_error: 1.7798\n",
      "Epoch 38/100\n",
      "13322/13322 [==============================] - 13s 999us/step - loss: 3.3988 - root_mean_squared_error: 1.8436 - val_loss: 3.1639 - val_root_mean_squared_error: 1.7787\n",
      "Epoch 39/100\n",
      "13322/13322 [==============================] - 15s 1ms/step - loss: 3.3979 - root_mean_squared_error: 1.8433 - val_loss: 3.1671 - val_root_mean_squared_error: 1.7796\n",
      "Epoch 40/100\n",
      "13322/13322 [==============================] - 13s 1ms/step - loss: 3.3974 - root_mean_squared_error: 1.8432 - val_loss: 3.1686 - val_root_mean_squared_error: 1.7800\n",
      "Epoch 41/100\n",
      "13322/13322 [==============================] - 13s 996us/step - loss: 3.3969 - root_mean_squared_error: 1.8431 - val_loss: 3.1685 - val_root_mean_squared_error: 1.7800\n",
      "Epoch 42/100\n",
      "13322/13322 [==============================] - 14s 1ms/step - loss: 3.3978 - root_mean_squared_error: 1.8433 - val_loss: 3.1662 - val_root_mean_squared_error: 1.7794\n",
      "Epoch 43/100\n",
      "13322/13322 [==============================] - 13s 992us/step - loss: 3.3976 - root_mean_squared_error: 1.8433 - val_loss: 3.1658 - val_root_mean_squared_error: 1.7793\n",
      "Epoch 44/100\n",
      "13322/13322 [==============================] - 14s 1ms/step - loss: 3.3968 - root_mean_squared_error: 1.8430 - val_loss: 3.1672 - val_root_mean_squared_error: 1.7796\n",
      "Epoch 45/100\n",
      "13322/13322 [==============================] - 14s 1ms/step - loss: 3.3987 - root_mean_squared_error: 1.8436 - val_loss: 3.1658 - val_root_mean_squared_error: 1.7793\n",
      "Epoch 46/100\n",
      "13322/13322 [==============================] - 15s 1ms/step - loss: 3.3961 - root_mean_squared_error: 1.8429 - val_loss: 3.1659 - val_root_mean_squared_error: 1.7793\n",
      "Epoch 47/100\n",
      "13322/13322 [==============================] - 13s 1ms/step - loss: 3.3965 - root_mean_squared_error: 1.8430 - val_loss: 3.1663 - val_root_mean_squared_error: 1.7794\n",
      "Epoch 48/100\n",
      "13322/13322 [==============================] - 13s 943us/step - loss: 3.3961 - root_mean_squared_error: 1.8429 - val_loss: 3.1661 - val_root_mean_squared_error: 1.7794\n",
      "Epoch 49/100\n",
      "13322/13322 [==============================] - 13s 979us/step - loss: 3.3973 - root_mean_squared_error: 1.8432 - val_loss: 3.1641 - val_root_mean_squared_error: 1.7788\n",
      "Epoch 50/100\n",
      "13322/13322 [==============================] - 14s 1ms/step - loss: 3.3966 - root_mean_squared_error: 1.8430 - val_loss: 3.1665 - val_root_mean_squared_error: 1.7795\n",
      "Epoch 51/100\n",
      "13322/13322 [==============================] - 13s 968us/step - loss: 3.3968 - root_mean_squared_error: 1.8430 - val_loss: 3.1662 - val_root_mean_squared_error: 1.7794\n",
      "Epoch 52/100\n",
      "13322/13322 [==============================] - 14s 1ms/step - loss: 3.3965 - root_mean_squared_error: 1.8430 - val_loss: 3.1689 - val_root_mean_squared_error: 1.7801\n",
      "Epoch 53/100\n",
      "13322/13322 [==============================] - 19s 1ms/step - loss: 3.3956 - root_mean_squared_error: 1.8427 - val_loss: 3.1651 - val_root_mean_squared_error: 1.7791\n",
      "Epoch 54/100\n",
      "13322/13322 [==============================] - 19s 1ms/step - loss: 3.3966 - root_mean_squared_error: 1.8430 - val_loss: 3.1643 - val_root_mean_squared_error: 1.7788\n",
      "Epoch 55/100\n",
      "13322/13322 [==============================] - 18s 1ms/step - loss: 3.3961 - root_mean_squared_error: 1.8428 - val_loss: 3.1660 - val_root_mean_squared_error: 1.7793\n",
      "Epoch 56/100\n",
      "13322/13322 [==============================] - 18s 1ms/step - loss: 3.3954 - root_mean_squared_error: 1.8427 - val_loss: 3.1639 - val_root_mean_squared_error: 1.7787\n",
      "Epoch 57/100\n",
      "13322/13322 [==============================] - 19s 1ms/step - loss: 3.3966 - root_mean_squared_error: 1.8430 - val_loss: 3.1663 - val_root_mean_squared_error: 1.7794\n",
      "Epoch 58/100\n",
      "13322/13322 [==============================] - 19s 1ms/step - loss: 3.3951 - root_mean_squared_error: 1.8426 - val_loss: 3.1669 - val_root_mean_squared_error: 1.7796\n",
      "Epoch 59/100\n",
      "13322/13322 [==============================] - 18s 1ms/step - loss: 3.3958 - root_mean_squared_error: 1.8428 - val_loss: 3.1701 - val_root_mean_squared_error: 1.7805\n",
      "Epoch 60/100\n",
      "13322/13322 [==============================] - 18s 1ms/step - loss: 3.3951 - root_mean_squared_error: 1.8426 - val_loss: 3.1653 - val_root_mean_squared_error: 1.7791\n",
      "Epoch 61/100\n",
      "13322/13322 [==============================] - 15s 1ms/step - loss: 3.3948 - root_mean_squared_error: 1.8425 - val_loss: 3.1650 - val_root_mean_squared_error: 1.7790\n",
      "Epoch 62/100\n",
      "13322/13322 [==============================] - 15s 1ms/step - loss: 3.3950 - root_mean_squared_error: 1.8425 - val_loss: 3.1652 - val_root_mean_squared_error: 1.7791\n",
      "Epoch 63/100\n",
      "13322/13322 [==============================] - 15s 1ms/step - loss: 3.3949 - root_mean_squared_error: 1.8425 - val_loss: 3.1662 - val_root_mean_squared_error: 1.7794\n",
      "Epoch 64/100\n",
      "13322/13322 [==============================] - 17s 1ms/step - loss: 3.3940 - root_mean_squared_error: 1.8423 - val_loss: 3.1654 - val_root_mean_squared_error: 1.7792\n",
      "Epoch 65/100\n",
      "13322/13322 [==============================] - 22s 2ms/step - loss: 3.3945 - root_mean_squared_error: 1.8424 - val_loss: 3.1715 - val_root_mean_squared_error: 1.7809\n",
      "Epoch 66/100\n",
      "13322/13322 [==============================] - 21s 2ms/step - loss: 3.3953 - root_mean_squared_error: 1.8426 - val_loss: 3.1654 - val_root_mean_squared_error: 1.7792\n",
      "Epoch 67/100\n",
      "13322/13322 [==============================] - 23s 2ms/step - loss: 3.3946 - root_mean_squared_error: 1.8425 - val_loss: 3.1655 - val_root_mean_squared_error: 1.7792\n",
      "Epoch 68/100\n",
      "13322/13322 [==============================] - 23s 2ms/step - loss: 3.3946 - root_mean_squared_error: 1.8424 - val_loss: 3.1685 - val_root_mean_squared_error: 1.7800\n",
      "Epoch 69/100\n",
      "13322/13322 [==============================] - 18s 1ms/step - loss: 3.3936 - root_mean_squared_error: 1.8422 - val_loss: 3.1647 - val_root_mean_squared_error: 1.7790\n",
      "Epoch 70/100\n",
      "13322/13322 [==============================] - 17s 1ms/step - loss: 3.3943 - root_mean_squared_error: 1.8424 - val_loss: 3.1673 - val_root_mean_squared_error: 1.7797\n",
      "Epoch 71/100\n",
      "13322/13322 [==============================] - 18s 1ms/step - loss: 3.3923 - root_mean_squared_error: 1.8418 - val_loss: 3.1725 - val_root_mean_squared_error: 1.7812\n",
      "Epoch 72/100\n",
      "13322/13322 [==============================] - 16s 1ms/step - loss: 3.3933 - root_mean_squared_error: 1.8421 - val_loss: 3.1671 - val_root_mean_squared_error: 1.7796\n",
      "Epoch 73/100\n",
      "13322/13322 [==============================] - 14s 1ms/step - loss: 3.3946 - root_mean_squared_error: 1.8424 - val_loss: 3.1636 - val_root_mean_squared_error: 1.7787\n",
      "Epoch 74/100\n",
      "13322/13322 [==============================] - 14s 1ms/step - loss: 3.3924 - root_mean_squared_error: 1.8419 - val_loss: 3.1666 - val_root_mean_squared_error: 1.7795\n",
      "Epoch 75/100\n",
      "13322/13322 [==============================] - 13s 1ms/step - loss: 3.3932 - root_mean_squared_error: 1.8421 - val_loss: 3.1683 - val_root_mean_squared_error: 1.7800\n",
      "Epoch 76/100\n",
      "13322/13322 [==============================] - 14s 1ms/step - loss: 3.3937 - root_mean_squared_error: 1.8422 - val_loss: 3.1671 - val_root_mean_squared_error: 1.7796\n",
      "Epoch 77/100\n",
      "13322/13322 [==============================] - 16s 1ms/step - loss: 3.3914 - root_mean_squared_error: 1.8416 - val_loss: 3.1637 - val_root_mean_squared_error: 1.7787\n",
      "Epoch 78/100\n",
      "13322/13322 [==============================] - 13s 987us/step - loss: 3.3922 - root_mean_squared_error: 1.8418 - val_loss: 3.1676 - val_root_mean_squared_error: 1.7798\n",
      "Epoch 79/100\n",
      "13322/13322 [==============================] - 13s 968us/step - loss: 3.3923 - root_mean_squared_error: 1.8418 - val_loss: 3.1641 - val_root_mean_squared_error: 1.7788\n",
      "Epoch 80/100\n",
      "13322/13322 [==============================] - 12s 917us/step - loss: 3.3925 - root_mean_squared_error: 1.8419 - val_loss: 3.1612 - val_root_mean_squared_error: 1.7780\n",
      "Epoch 81/100\n",
      "13322/13322 [==============================] - 16s 1ms/step - loss: 3.3908 - root_mean_squared_error: 1.8414 - val_loss: 3.1684 - val_root_mean_squared_error: 1.7800\n",
      "Epoch 82/100\n",
      "13322/13322 [==============================] - 12s 911us/step - loss: 3.3920 - root_mean_squared_error: 1.8417 - val_loss: 3.1650 - val_root_mean_squared_error: 1.7790\n",
      "Epoch 83/100\n",
      "13322/13322 [==============================] - 12s 917us/step - loss: 3.3928 - root_mean_squared_error: 1.8420 - val_loss: 3.1643 - val_root_mean_squared_error: 1.7788\n",
      "Epoch 84/100\n",
      "13322/13322 [==============================] - 13s 941us/step - loss: 3.3932 - root_mean_squared_error: 1.8421 - val_loss: 3.1662 - val_root_mean_squared_error: 1.7794\n",
      "Epoch 85/100\n",
      "13322/13322 [==============================] - 14s 1ms/step - loss: 3.3912 - root_mean_squared_error: 1.8415 - val_loss: 3.1649 - val_root_mean_squared_error: 1.7790\n",
      "Epoch 86/100\n",
      "13322/13322 [==============================] - 18s 1ms/step - loss: 3.3922 - root_mean_squared_error: 1.8418 - val_loss: 3.1642 - val_root_mean_squared_error: 1.7788\n",
      "Epoch 87/100\n",
      "13322/13322 [==============================] - 12s 917us/step - loss: 3.3939 - root_mean_squared_error: 1.8423 - val_loss: 3.1675 - val_root_mean_squared_error: 1.7798\n",
      "Epoch 88/100\n",
      "13322/13322 [==============================] - 12s 903us/step - loss: 3.3902 - root_mean_squared_error: 1.8413 - val_loss: 3.1726 - val_root_mean_squared_error: 1.7812\n",
      "Epoch 89/100\n",
      "13322/13322 [==============================] - 12s 900us/step - loss: 3.3919 - root_mean_squared_error: 1.8417 - val_loss: 3.1655 - val_root_mean_squared_error: 1.7792\n",
      "Epoch 90/100\n",
      "13322/13322 [==============================] - 13s 964us/step - loss: 3.3910 - root_mean_squared_error: 1.8415 - val_loss: 3.1663 - val_root_mean_squared_error: 1.7794\n",
      "Epoch 91/100\n",
      "13322/13322 [==============================] - 13s 958us/step - loss: 3.3915 - root_mean_squared_error: 1.8416 - val_loss: 3.1644 - val_root_mean_squared_error: 1.7789\n"
     ]
    },
    {
     "name": "stdout",
     "output_type": "stream",
     "text": [
      "Epoch 92/100\n",
      "13322/13322 [==============================] - 12s 886us/step - loss: 3.3888 - root_mean_squared_error: 1.8409 - val_loss: 3.1681 - val_root_mean_squared_error: 1.7799\n",
      "Epoch 93/100\n",
      "13322/13322 [==============================] - 12s 877us/step - loss: 3.3913 - root_mean_squared_error: 1.8415 - val_loss: 3.1648 - val_root_mean_squared_error: 1.7790\n",
      "Epoch 94/100\n",
      "13322/13322 [==============================] - 12s 875us/step - loss: 3.3967 - root_mean_squared_error: 1.8430 - val_loss: 3.1651 - val_root_mean_squared_error: 1.7791\n",
      "Epoch 95/100\n",
      "13322/13322 [==============================] - 13s 956us/step - loss: 3.3942 - root_mean_squared_error: 1.8423 - val_loss: 3.1676 - val_root_mean_squared_error: 1.7798\n",
      "Epoch 96/100\n",
      "13322/13322 [==============================] - 15s 1ms/step - loss: 3.3933 - root_mean_squared_error: 1.8421 - val_loss: 3.1752 - val_root_mean_squared_error: 1.7819\n",
      "Epoch 97/100\n",
      "13322/13322 [==============================] - 12s 887us/step - loss: 3.3930 - root_mean_squared_error: 1.8420 - val_loss: 3.1770 - val_root_mean_squared_error: 1.7824\n",
      "Epoch 98/100\n",
      "13322/13322 [==============================] - 12s 881us/step - loss: 3.3932 - root_mean_squared_error: 1.8421 - val_loss: 3.1800 - val_root_mean_squared_error: 1.7833\n",
      "Epoch 99/100\n",
      "13322/13322 [==============================] - 12s 884us/step - loss: 3.3926 - root_mean_squared_error: 1.8419 - val_loss: 3.1671 - val_root_mean_squared_error: 1.7796\n",
      "Epoch 100/100\n",
      "13322/13322 [==============================] - 13s 963us/step - loss: 3.3902 - root_mean_squared_error: 1.8413 - val_loss: 3.1655 - val_root_mean_squared_error: 1.7792\n"
     ]
    }
   ],
   "source": [
    "model.compile(optimizer=\"adam\", loss='mean_squared_error', metrics=tf.keras.metrics.RootMeanSquaredError())\n",
    "history = model.fit(X_train, y_train, epochs=100, validation_data=(X_val, y_val), use_multiprocessing=True)"
   ]
  },
  {
   "cell_type": "code",
   "execution_count": 15,
   "metadata": {},
   "outputs": [
    {
     "data": {
      "image/png": "[encoded data removed]",
      "text/plain": [
       "<Figure size 432x288 with 1 Axes>"
      ]
     },
     "metadata": {
      "needs_background": "light"
     },
     "output_type": "display_data"
    },
    {
     "data": {
      "image/png": "[encoded data removed]",
      "text/plain": [
       "<Figure size 432x288 with 1 Axes>"
      ]
     },
     "metadata": {
      "needs_background": "light"
     },
     "output_type": "display_data"
    }
   ],
   "source": [
    "rmse_history = history.history[\"root_mean_squared_error\"]\n",
    "val_rmse_history = history.history[\"val_root_mean_squared_error\"]\n",
    "\n",
    "plt.plot(range(1, len(rmse_history) + 1), rmse_history)\n",
    "plt.plot(range(1, len(val_rmse_history) + 1), val_rmse_history)\n",
    "plt.xlabel(\"Epochs\")\n",
    "plt.ylabel(\"RMSE\")\n",
    "plt.legend([\"training\", \"validation\"])\n",
    "plt.show()\n",
    "\n",
    "loss_history = history.history[\"loss\"]\n",
    "val_loss_history = history.history[\"val_loss\"]\n",
    "\n",
    "plt.plot(range(1, len(loss_history) + 1), loss_history)\n",
    "plt.plot(range(1, len(val_loss_history) + 1), val_loss_history)\n",
    "plt.xlabel(\"Epochs\")\n",
    "plt.ylabel(\"Loss\")\n",
    "plt.legend([\"training\", \"validation\"])\n",
    "plt.show()"
   ]
  },
  {
   "cell_type": "code",
   "execution_count": 16,
   "metadata": {},
   "outputs": [
    {
     "data": {
      "image/png": "[encoded data removed]",
      "text/plain": [
       "<Figure size 432x288 with 1 Axes>"
      ]
     },
     "metadata": {
      "needs_background": "light"
     },
     "output_type": "display_data"
    },
    {
     "data": {
      "image/png": "[encoded data removed]",
      "text/plain": [
       "<Figure size 432x288 with 1 Axes>"
      ]
     },
     "metadata": {
      "needs_background": "light"
     },
     "output_type": "display_data"
    }
   ],
   "source": [
    "smooth_rmse_history = smooth_curve(rmse_history)\n",
    "smooth_val_rmse_history = smooth_curve(val_rmse_history)\n",
    "\n",
    "plt.plot(range(1, len(smooth_rmse_history) + 1), smooth_rmse_history)\n",
    "plt.plot(range(1, len(smooth_val_rmse_history) + 1), smooth_val_rmse_history)\n",
    "plt.xlabel(\"Epochs\")\n",
    "plt.ylabel(\"RMSE\")\n",
    "plt.legend([\"training\", \"validation\"])\n",
    "plt.show()\n",
    "\n",
    "smooth_loss_history = smooth_curve(loss_history)\n",
    "smooth_val_loss_history = smooth_curve(val_loss_history)\n",
    "\n",
    "plt.plot(range(1, len(smooth_loss_history) + 1), smooth_loss_history)\n",
    "plt.plot(range(1, len(smooth_val_loss_history) + 1), smooth_val_loss_history)\n",
    "plt.xlabel(\"Epochs\")\n",
    "plt.ylabel(\"Loss\")\n",
    "plt.legend([\"training\", \"validation\"])\n",
    "plt.show()"
   ]
  },
  {
   "cell_type": "code",
   "execution_count": null,
   "metadata": {},
   "outputs": [],
   "source": []
  },
  {
   "cell_type": "code",
   "execution_count": 17,
   "metadata": {},
   "outputs": [
    {
     "name": "stdout",
     "output_type": "stream",
     "text": [
      "2351/2351 [==============================] - 1s 487us/step - loss: 3.1655 - root_mean_squared_error: 1.7792\n"
     ]
    }
   ],
   "source": [
    "model.evaluate(X_val, y_val)"
   ]
  },
  {
   "cell_type": "code",
   "execution_count": 19,
   "metadata": {},
   "outputs": [
    {
     "name": "stdout",
     "output_type": "stream",
     "text": [
      "1742/1742 [==============================] - 1s 481us/step - loss: 3.3556 - root_mean_squared_error: 1.8318\n"
     ]
    }
   ],
   "source": [
    "model.evaluate(X_test, y_test)"
   ]
  },
  {
   "cell_type": "code",
   "execution_count": null,
   "metadata": {},
   "outputs": [],
   "source": []
  },
  {
   "cell_type": "code",
   "execution_count": 21,
   "metadata": {},
   "outputs": [],
   "source": [
    "val_pred = model.predict(X_val).ravel()\n",
    "test_pred = model.predict(X_test).ravel()"
   ]
  },
  {
   "cell_type": "code",
   "execution_count": 23,
   "metadata": {},
   "outputs": [
    {
     "name": "stdout",
     "output_type": "stream",
     "text": [
      "RMSE on validation set: 21.35017\n",
      "RMSE on test set: 21.982056\n"
     ]
    }
   ],
   "source": [
    "inv_val_pred = scaler.inverse_transform(val_pred.reshape(-1, 1))\n",
    "inv_y_val = scaler.inverse_transform(y_val.reshape(-1, 1))\n",
    "\n",
    "inv_test_pred = scaler.inverse_transform(test_pred.reshape(-1, 1))\n",
    "inv_y_test = scaler.inverse_transform(y_test.reshape(-1, 1))\n",
    "\n",
    "mse_val = mean_squared_error(inv_y_val, inv_val_pred)\n",
    "mse_test = mean_squared_error(inv_y_test, inv_test_pred)\n",
    "\n",
    "print(\"RMSE on validation set:\", np.sqrt(mse_val))\n",
    "print(\"RMSE on test set:\", np.sqrt(mse_test))"
   ]
  },
  {
   "cell_type": "code",
   "execution_count": null,
   "metadata": {},
   "outputs": [],
   "source": []
  },
  {
   "cell_type": "code",
   "execution_count": 24,
   "metadata": {},
   "outputs": [],
   "source": [
    "percentages = []\n",
    "\n",
    "for idx, val in enumerate(inv_test_pred):\n",
    "    perc = np.abs(val-inv_y_test[idx])/inv_y_test[idx]\n",
    "    percentages.append(perc[0])"
   ]
  },
  {
   "cell_type": "code",
   "execution_count": 25,
   "metadata": {},
   "outputs": [
    {
     "name": "stdout",
     "output_type": "stream",
     "text": [
      "Minimum percent error: 0.0\n",
      "Maximum percent error: 25.639999389648438\n",
      "Mean percent error: 1.0399999618530273\n"
     ]
    }
   ],
   "source": [
    "print(f\"Minimum percent error: {np.round(np.min(percentages),2)}\")\n",
    "print(f\"Maximum percent error: {np.round(np.max(percentages),2)}\")\n",
    "print(f\"Mean percent error: {np.round(np.mean(percentages),2)}\")"
   ]
  },
  {
   "cell_type": "code",
   "execution_count": 26,
   "metadata": {},
   "outputs": [
    {
     "data": {
      "image/png": "[encoded data removed]",
      "text/plain": [
       "<Figure size 432x288 with 1 Axes>"
      ]
     },
     "metadata": {
      "needs_background": "light"
     },
     "output_type": "display_data"
    }
   ],
   "source": [
    "percentages = np.asarray(percentages)\n",
    "\n",
    "plt.hist(percentages.clip(min=0, max=1.1), range=[0,1.1], bins=11)\n",
    "plt.show()"
   ]
  },
  {
   "cell_type": "code",
   "execution_count": 27,
   "metadata": {},
   "outputs": [
    {
     "name": "stdout",
     "output_type": "stream",
     "text": [
      "Number of orders with a percent error lower than 0.5: 34400\n",
      "Percentage of orders with a percent error lower than 0.5: 0.62\n"
     ]
    }
   ],
   "source": [
    "lower = []\n",
    "\n",
    "for i in percentages:\n",
    "    if i <= 0.5:\n",
    "        lower.append(i)\n",
    "\n",
    "print(f\"Number of orders with a percent error lower than 0.5: {len(lower)}\")\n",
    "print(f\"Percentage of orders with a percent error lower than 0.5: {np.round(len(lower)/len(percentages),2)}\")"
   ]
  },
  {
   "cell_type": "code",
   "execution_count": null,
   "metadata": {},
   "outputs": [],
   "source": []
  },
  {
   "cell_type": "code",
   "execution_count": 28,
   "metadata": {},
   "outputs": [],
   "source": [
    "differences = []\n",
    "\n",
    "for idx, val in enumerate(inv_y_test):\n",
    "    differences.append(np.abs(val[0]-inv_test_pred[idx][0]))"
   ]
  },
  {
   "cell_type": "code",
   "execution_count": 29,
   "metadata": {},
   "outputs": [],
   "source": [
    "within_1 = [1 if np.round(diff) <= 1 else 0 for diff in differences]\n",
    "within_3 = [1 if np.round(diff) <= 3 else 0 for diff in differences]\n",
    "within_5 = [1 if np.round(diff) <= 5 else 0 for diff in differences]\n",
    "within_7 = [1 if np.round(diff) <= 7 else 0 for diff in differences]"
   ]
  },
  {
   "cell_type": "code",
   "execution_count": 30,
   "metadata": {},
   "outputs": [
    {
     "name": "stdout",
     "output_type": "stream",
     "text": [
      "Percentage of orders predicted correctly within 1 day: 0.12\n",
      "Percentage of orders predicted correctly within 3 days: 0.28\n",
      "Percentage of orders predicted correctly within 5 days: 0.43\n",
      "Percentage of orders predicted correctly within 7 days: 0.57\n"
     ]
    }
   ],
   "source": [
    "print(f\"Percentage of orders predicted correctly within 1 day: {np.round(np.sum(within_1)/len(differences),2)}\")\n",
    "print(f\"Percentage of orders predicted correctly within 3 days: {np.round(np.sum(within_3)/len(differences),2)}\")\n",
    "print(f\"Percentage of orders predicted correctly within 5 days: {np.round(np.sum(within_5)/len(differences),2)}\")\n",
    "print(f\"Percentage of orders predicted correctly within 7 days: {np.round(np.sum(within_7)/len(differences),2)}\")"
   ]
  }
 ],
 "metadata": {
  "kernelspec": {
   "display_name": "Python 3",
   "language": "python",
   "name": "python3"
  },
  "language_info": {
   "codemirror_mode": {
    "name": "ipython",
    "version": 3
   },
   "file_extension": ".py",
   "mimetype": "text/x-python",
   "name": "python",
   "nbconvert_exporter": "python",
   "pygments_lexer": "ipython3",
   "version": "3.8.3"
  }
 },
 "nbformat": 4,
 "nbformat_minor": 4
}
