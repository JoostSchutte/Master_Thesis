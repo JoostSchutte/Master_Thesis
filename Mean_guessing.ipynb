{
 "cells": [
  {
   "cell_type": "code",
   "execution_count": 1,
   "metadata": {},
   "outputs": [],
   "source": [
    "import numpy as np\n",
    "import pandas as pd\n",
    "import sklearn\n",
    "import matplotlib\n",
    "import tensorflow as tf\n",
    "import tensorflow.keras as keras\n",
    "import pickle\n",
    "import os\n",
    "import time\n",
    "import sys\n",
    "import warnings\n",
    "\n",
    "from sklearn.model_selection import train_test_split\n",
    "from sklearn.preprocessing import OneHotEncoder, LabelEncoder, RobustScaler\n",
    "from sklearn.decomposition import PCA\n",
    "from sklearn.metrics import mean_squared_error\n",
    "from sklearn.linear_model import LinearRegression\n",
    "import matplotlib.pyplot as plt\n",
    "from tensorflow.keras import Sequential, optimizers, layers, metrics, models, regularizers\n",
    "\n",
    "warnings.filterwarnings(\"ignore\")"
   ]
  },
  {
   "cell_type": "code",
   "execution_count": 2,
   "metadata": {},
   "outputs": [],
   "source": [
    "df = pd.read_pickle(\"Data/df_with_history_>10_orders.pkl\")"
   ]
  },
  {
   "cell_type": "code",
   "execution_count": null,
   "metadata": {},
   "outputs": [],
   "source": []
  },
  {
   "cell_type": "code",
   "execution_count": 3,
   "metadata": {},
   "outputs": [],
   "source": [
    "# Get the mean of all differences and use it as the prediction for all orders\n",
    "mean = np.mean(df[\"difference\"])\n",
    "df[\"all_prediction\"] = mean"
   ]
  },
  {
   "cell_type": "code",
   "execution_count": 4,
   "metadata": {},
   "outputs": [
    {
     "name": "stdout",
     "output_type": "stream",
     "text": [
      "Mean RMSE for all customers: 18.71.\n"
     ]
    }
   ],
   "source": [
    "# Calculate RMSE for the mean guess prediction\n",
    "y_test = df[\"difference\"]\n",
    "y_pred = df[\"all_prediction\"]\n",
    "\n",
    "mse_test = mean_squared_error(y_test, y_pred)\n",
    "print(f\"Mean RMSE for all customers: {np.round(np.sqrt(mse_test),2)}.\")"
   ]
  },
  {
   "cell_type": "code",
   "execution_count": null,
   "metadata": {},
   "outputs": [],
   "source": []
  },
  {
   "cell_type": "code",
   "execution_count": 5,
   "metadata": {},
   "outputs": [],
   "source": [
    "y_test.reset_index(drop=True, inplace=True)\n",
    "y_pred.reset_index(drop=True, inplace=True)"
   ]
  },
  {
   "cell_type": "code",
   "execution_count": null,
   "metadata": {},
   "outputs": [],
   "source": []
  },
  {
   "cell_type": "code",
   "execution_count": 6,
   "metadata": {},
   "outputs": [],
   "source": [
    "# Get a list of all percent errors\n",
    "percentages = []\n",
    "\n",
    "for idx, val in enumerate(y_pred):\n",
    "    perc = np.abs(val-y_test[idx])/y_test[idx]\n",
    "    percentages.append(perc)"
   ]
  },
  {
   "cell_type": "code",
   "execution_count": 7,
   "metadata": {},
   "outputs": [
    {
     "name": "stdout",
     "output_type": "stream",
     "text": [
      "Minimum percent error: 0.02\n",
      "Maximum percent error: 16.63\n",
      "Mean percent error: 1.17\n"
     ]
    }
   ],
   "source": [
    "print(f\"Minimum percent error: {np.round(np.min(percentages),2)}\")\n",
    "print(f\"Maximum percent error: {np.round(np.max(percentages),2)}\")\n",
    "print(f\"Mean percent error: {np.round(np.mean(percentages),2)}\")"
   ]
  },
  {
   "cell_type": "code",
   "execution_count": 8,
   "metadata": {},
   "outputs": [
    {
     "data": {
      "image/png": "[encoded data removed]",
      "text/plain": [
       "<Figure size 432x288 with 1 Axes>"
      ]
     },
     "metadata": {
      "needs_background": "light"
     },
     "output_type": "display_data"
    }
   ],
   "source": [
    "percentages = np.asarray(percentages)\n",
    "\n",
    "plt.hist(percentages.clip(min=0, max=1.1), range=[0,1.1], bins=11)\n",
    "plt.show()"
   ]
  },
  {
   "cell_type": "code",
   "execution_count": 9,
   "metadata": {},
   "outputs": [
    {
     "name": "stdout",
     "output_type": "stream",
     "text": [
      "Number of orders with a percent error lower than 0.5: 154266\n",
      "Percentage of orders with a percent error lower than 0.5: 0.62\n"
     ]
    }
   ],
   "source": [
    "lower = []\n",
    "\n",
    "for i in percentages:\n",
    "    if i <= 0.5:\n",
    "        lower.append(i)\n",
    "\n",
    "print(f\"Number of orders with a percent error lower than 0.5: {len(lower)}\")\n",
    "print(f\"Percentage of orders with a percent error lower than 0.5: {np.round(len(lower)/len(percentages),2)}\")"
   ]
  },
  {
   "cell_type": "code",
   "execution_count": null,
   "metadata": {},
   "outputs": [],
   "source": []
  },
  {
   "cell_type": "code",
   "execution_count": 10,
   "metadata": {},
   "outputs": [],
   "source": [
    "# Get the differences between predicted and true values\n",
    "differences = []\n",
    "\n",
    "for idx, val in enumerate(y_test):\n",
    "    differences.append(np.abs(val-y_pred[idx]))"
   ]
  },
  {
   "cell_type": "code",
   "execution_count": 11,
   "metadata": {},
   "outputs": [],
   "source": [
    "within_1 = [1 if np.round(diff) <= 1 else 0 for diff in differences]\n",
    "within_3 = [1 if np.round(diff) <= 3 else 0 for diff in differences]\n",
    "within_5 = [1 if np.round(diff) <= 5 else 0 for diff in differences]\n",
    "within_7 = [1 if np.round(diff) <= 7 else 0 for diff in differences]"
   ]
  },
  {
   "cell_type": "code",
   "execution_count": 12,
   "metadata": {},
   "outputs": [
    {
     "name": "stdout",
     "output_type": "stream",
     "text": [
      "Percentage of orders predicted correctly within 1 day: 0.11\n",
      "Percentage of orders predicted correctly within 3 days: 0.27\n",
      "Percentage of orders predicted correctly within 5 days: 0.42\n",
      "Percentage of orders predicted correctly within 7 days: 0.55\n"
     ]
    }
   ],
   "source": [
    "print(f\"Percentage of orders predicted correctly within 1 day: {np.round(np.sum(within_1)/len(differences),2)}\")\n",
    "print(f\"Percentage of orders predicted correctly within 3 days: {np.round(np.sum(within_3)/len(differences),2)}\")\n",
    "print(f\"Percentage of orders predicted correctly within 5 days: {np.round(np.sum(within_5)/len(differences),2)}\")\n",
    "print(f\"Percentage of orders predicted correctly within 7 days: {np.round(np.sum(within_7)/len(differences),2)}\")"
   ]
  },
  {
   "cell_type": "code",
   "execution_count": null,
   "metadata": {},
   "outputs": [],
   "source": []
  },
  {
   "cell_type": "code",
   "execution_count": 13,
   "metadata": {},
   "outputs": [
    {
     "name": "stdout",
     "output_type": "stream",
     "text": [
      "3600\n"
     ]
    }
   ],
   "source": [
    "recipients = []\n",
    "\n",
    "for i in df[\"recipient\"]:\n",
    "    if i not in recipients:\n",
    "        recipients.append(i)\n",
    "        \n",
    "print(len(recipients))"
   ]
  },
  {
   "cell_type": "code",
   "execution_count": null,
   "metadata": {},
   "outputs": [],
   "source": []
  },
  {
   "cell_type": "code",
   "execution_count": 14,
   "metadata": {
    "scrolled": true
   },
   "outputs": [],
   "source": [
    "# For each customer, get the mean and use it as a prediction for all orders by the customer\n",
    "df_new = pd.DataFrame(columns = df.columns)\n",
    "\n",
    "for i in recipients:\n",
    "    test = df[df.recipient == i]\n",
    "    mean = np.mean(test[\"difference\"])\n",
    "    \n",
    "    test[\"prediction\"] = mean\n",
    "            \n",
    "    df_new = pd.concat([df_new, test])"
   ]
  },
  {
   "cell_type": "code",
   "execution_count": null,
   "metadata": {},
   "outputs": [],
   "source": []
  },
  {
   "cell_type": "code",
   "execution_count": 15,
   "metadata": {},
   "outputs": [],
   "source": [
    "# Calculate the RMSE for each customer, and get the percent errors and differences for predicted and true values\n",
    "rmse_values = []\n",
    "final_differences = []\n",
    "final_percentages = []\n",
    "\n",
    "for i in recipients:\n",
    "    test = df_new[df_new.recipient == i]\n",
    "    differences = []\n",
    "    percentages = []\n",
    "    \n",
    "    y_test = test[\"difference\"]\n",
    "    y_pred = test[\"prediction\"]\n",
    "    \n",
    "    mse_test = mean_squared_error(y_test, y_pred)\n",
    "    \n",
    "    rmse_values.append(np.sqrt(mse_test))\n",
    "    \n",
    "    y_test.reset_index(drop=True, inplace=True)\n",
    "    y_pred.reset_index(drop=True, inplace=True)\n",
    "    \n",
    "    for idx, val in enumerate(y_pred):\n",
    "        perc = np.abs(val-y_test[idx])/y_test[idx]\n",
    "        percentages.append(perc)\n",
    "        \n",
    "    final_percentages.append(np.mean(percentages))\n",
    "\n",
    "    for idx, val in enumerate(y_test):\n",
    "        differences.append(np.abs(val-y_pred[idx]))\n",
    "        \n",
    "    final_differences.append(differences)"
   ]
  },
  {
   "cell_type": "code",
   "execution_count": null,
   "metadata": {},
   "outputs": [],
   "source": []
  },
  {
   "cell_type": "code",
   "execution_count": 16,
   "metadata": {},
   "outputs": [
    {
     "name": "stdout",
     "output_type": "stream",
     "text": [
      "Mean of the mean RMSE per customer: 11.68.\n",
      "Smallest mean RMSE: 0.82.\n",
      "Largest mean RMSE: 218.37.\n"
     ]
    }
   ],
   "source": [
    "print(f\"Mean of the mean RMSE per customer: {np.round(np.mean(rmse_values),2)}.\")\n",
    "print(f\"Smallest mean RMSE: {np.round(np.min(rmse_values),2)}.\")\n",
    "print(f\"Largest mean RMSE: {np.round(np.max(rmse_values),2)}.\")"
   ]
  },
  {
   "cell_type": "code",
   "execution_count": 17,
   "metadata": {},
   "outputs": [
    {
     "name": "stdout",
     "output_type": "stream",
     "text": [
      "Mean of the mean RMSE per customer, without the 150 largest values: 8.95.\n"
     ]
    }
   ],
   "source": [
    "print(f\"Mean of the mean RMSE per customer, without the 150 largest values: {np.round(np.average(sorted(rmse_values)[0:-150]),2)}.\")"
   ]
  },
  {
   "cell_type": "code",
   "execution_count": null,
   "metadata": {},
   "outputs": [],
   "source": []
  },
  {
   "cell_type": "code",
   "execution_count": 18,
   "metadata": {},
   "outputs": [
    {
     "data": {
      "image/png": "[encoded data removed]",
      "text/plain": [
       "<Figure size 1440x720 with 1 Axes>"
      ]
     },
     "metadata": {
      "needs_background": "light"
     },
     "output_type": "display_data"
    }
   ],
   "source": [
    "rmse_values_array = np.asarray(rmse_values)\n",
    "\n",
    "plt.figure(figsize=(20,10))\n",
    "\n",
    "plt.hist(rmse_values_array.clip(min=0, max=21), range=[0,21], bins=21)\n",
    "plt.show()"
   ]
  },
  {
   "cell_type": "code",
   "execution_count": 19,
   "metadata": {},
   "outputs": [
    {
     "name": "stdout",
     "output_type": "stream",
     "text": [
      "Number of customers with an RMSE lower than 5: 935\n",
      "Percentage of customer with an RMSE lower than 5: 0.26\n"
     ]
    }
   ],
   "source": [
    "lower = []\n",
    "\n",
    "for i in rmse_values:\n",
    "    if i <= 5:\n",
    "        lower.append(i)\n",
    "\n",
    "print(f\"Number of customers with an RMSE lower than 5: {len(lower)}\")\n",
    "print(f\"Percentage of customer with an RMSE lower than 5: {np.round(len(lower)/len(rmse_values),2)}\")"
   ]
  },
  {
   "cell_type": "code",
   "execution_count": null,
   "metadata": {},
   "outputs": [],
   "source": []
  },
  {
   "cell_type": "code",
   "execution_count": 20,
   "metadata": {},
   "outputs": [
    {
     "name": "stdout",
     "output_type": "stream",
     "text": [
      "Minimum percent error: 0.05\n",
      "Maximum percent error: 11.57\n",
      "Mean percent error: 0.81\n"
     ]
    }
   ],
   "source": [
    "print(f\"Minimum percent error: {np.round(np.min(final_percentages),2)}\")\n",
    "print(f\"Maximum percent error: {np.round(np.max(final_percentages),2)}\")\n",
    "print(f\"Mean percent error: {np.round(np.mean(final_percentages),2)}\")"
   ]
  },
  {
   "cell_type": "code",
   "execution_count": 21,
   "metadata": {},
   "outputs": [
    {
     "data": {
      "image/png": "[encoded data removed]",
      "text/plain": [
       "<Figure size 432x288 with 1 Axes>"
      ]
     },
     "metadata": {
      "needs_background": "light"
     },
     "output_type": "display_data"
    }
   ],
   "source": [
    "final_percentages = np.asarray(final_percentages)\n",
    "\n",
    "plt.hist(final_percentages.clip(min=0, max=1.1), range=[0,1.1], bins=11)\n",
    "plt.show()"
   ]
  },
  {
   "cell_type": "code",
   "execution_count": 22,
   "metadata": {},
   "outputs": [
    {
     "name": "stdout",
     "output_type": "stream",
     "text": [
      "Number of orders with a percent error lower than 0.5: 1374\n",
      "Percentage of orders with a percent error lower than 0.5: 0.38\n"
     ]
    }
   ],
   "source": [
    "lower = []\n",
    "\n",
    "for i in final_percentages:\n",
    "    if i <= 0.5:\n",
    "        lower.append(i)\n",
    "\n",
    "print(f\"Number of orders with a percent error lower than 0.5: {len(lower)}\")\n",
    "print(f\"Percentage of orders with a percent error lower than 0.5: {np.round(len(lower)/len(final_percentages),2)}\")"
   ]
  },
  {
   "cell_type": "code",
   "execution_count": null,
   "metadata": {},
   "outputs": [],
   "source": []
  },
  {
   "cell_type": "code",
   "execution_count": 23,
   "metadata": {},
   "outputs": [],
   "source": [
    "final_diffs = [np.mean(lst) for lst in final_differences]"
   ]
  },
  {
   "cell_type": "code",
   "execution_count": 24,
   "metadata": {},
   "outputs": [],
   "source": [
    "within_1 = [1 if np.round(diff) <= 1 else 0 for diff in final_diffs]\n",
    "within_3 = [1 if np.round(diff) <= 3 else 0 for diff in final_diffs]\n",
    "within_5 = [1 if np.round(diff) <= 5 else 0 for diff in final_diffs]\n",
    "within_7 = [1 if np.round(diff) <= 7 else 0 for diff in final_diffs]"
   ]
  },
  {
   "cell_type": "code",
   "execution_count": 25,
   "metadata": {},
   "outputs": [
    {
     "name": "stdout",
     "output_type": "stream",
     "text": [
      "Percentage of orders predicted correctly within 1 day: 0.01\n",
      "Percentage of orders predicted correctly within 3 days: 0.21\n",
      "Percentage of orders predicted correctly within 5 days: 0.52\n",
      "Percentage of orders predicted correctly within 7 days: 0.72\n"
     ]
    }
   ],
   "source": [
    "print(f\"Percentage of orders predicted correctly within 1 day: {np.round(np.sum(within_1)/len(final_diffs),2)}\")\n",
    "print(f\"Percentage of orders predicted correctly within 3 days: {np.round(np.sum(within_3)/len(final_diffs),2)}\")\n",
    "print(f\"Percentage of orders predicted correctly within 5 days: {np.round(np.sum(within_5)/len(final_diffs),2)}\")\n",
    "print(f\"Percentage of orders predicted correctly within 7 days: {np.round(np.sum(within_7)/len(final_diffs),2)}\")"
   ]
  }
 ],
 "metadata": {
  "kernelspec": {
   "display_name": "Python 3",
   "language": "python",
   "name": "python3"
  },
  "language_info": {
   "codemirror_mode": {
    "name": "ipython",
    "version": 3
   },
   "file_extension": ".py",
   "mimetype": "text/x-python",
   "name": "python",
   "nbconvert_exporter": "python",
   "pygments_lexer": "ipython3",
   "version": "3.8.3"
  }
 },
 "nbformat": 4,
 "nbformat_minor": 4
}
