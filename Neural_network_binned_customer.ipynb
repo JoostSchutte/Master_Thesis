{
 "cells": [
  {
   "cell_type": "code",
   "execution_count": 1,
   "metadata": {},
   "outputs": [],
   "source": [
    "import numpy as np\n",
    "import pandas as pd\n",
    "import sklearn\n",
    "import matplotlib\n",
    "import tensorflow as tf\n",
    "import tensorflow.keras as keras\n",
    "import pickle\n",
    "import os\n",
    "import time\n",
    "import sys\n",
    "import warnings\n",
    "\n",
    "from sklearn.model_selection import train_test_split\n",
    "from sklearn.preprocessing import OneHotEncoder, LabelEncoder, RobustScaler\n",
    "from sklearn.decomposition import PCA\n",
    "from sklearn.metrics import mean_squared_error\n",
    "from sklearn.linear_model import LinearRegression\n",
    "import matplotlib.pyplot as plt\n",
    "from tensorflow.keras import Sequential, optimizers, layers, metrics, models, regularizers\n",
    "\n",
    "warnings.filterwarnings(\"ignore\")"
   ]
  },
  {
   "cell_type": "code",
   "execution_count": 2,
   "metadata": {},
   "outputs": [],
   "source": [
    "df_final1 = pd.read_pickle(\"Data/df_with_history_>10_orders.pkl\")"
   ]
  },
  {
   "cell_type": "code",
   "execution_count": null,
   "metadata": {},
   "outputs": [],
   "source": []
  },
  {
   "cell_type": "code",
   "execution_count": 3,
   "metadata": {},
   "outputs": [],
   "source": [
    "df_final1[\"difference\"] = [np.round(diff) for diff in df_final1[\"difference\"]]"
   ]
  },
  {
   "cell_type": "code",
   "execution_count": null,
   "metadata": {},
   "outputs": [],
   "source": []
  },
  {
   "cell_type": "code",
   "execution_count": 4,
   "metadata": {},
   "outputs": [],
   "source": [
    "bins = np.arange(0,31,1)\n",
    "bins = np.append(bins, np.max(df_final1[\"difference\"]))"
   ]
  },
  {
   "cell_type": "code",
   "execution_count": 5,
   "metadata": {},
   "outputs": [],
   "source": [
    "test = pd.cut(df_final1[\"difference\"], bins=bins, labels=bins[1:])\n",
    "test = test.rename(\"difference_bin\")"
   ]
  },
  {
   "cell_type": "code",
   "execution_count": 7,
   "metadata": {},
   "outputs": [],
   "source": [
    "df_binned = pd.concat([df_final1, test], axis=1)"
   ]
  },
  {
   "cell_type": "code",
   "execution_count": null,
   "metadata": {},
   "outputs": [],
   "source": []
  },
  {
   "cell_type": "code",
   "execution_count": 8,
   "metadata": {},
   "outputs": [
    {
     "name": "stdout",
     "output_type": "stream",
     "text": [
      "[1.0, 2.0, 3.0, 4.0, 5.0, 6.0, 7.0, 8.0, 9.0, 10.0, 11.0, 12.0, 13.0, 14.0, 15.0, 16.0, 17.0, 18.0, 19.0, 20.0, 21.0, 22.0, 23.0, 24.0, 25.0, 26.0, 27.0, 28.0, 29.0, 30.0, 1179.0]\n"
     ]
    }
   ],
   "source": [
    "le = LabelEncoder()\n",
    "le.fit(test.cat.categories)\n",
    "\n",
    "print(list(le.classes_))"
   ]
  },
  {
   "cell_type": "code",
   "execution_count": 9,
   "metadata": {},
   "outputs": [],
   "source": [
    "df_binned[\"difference_bin\"] = le.transform(df_binned[\"difference_bin\"])"
   ]
  },
  {
   "cell_type": "code",
   "execution_count": 10,
   "metadata": {},
   "outputs": [],
   "source": [
    "df_binned[\"difference_bin\"] = df_binned[\"difference_bin\"].astype(\"category\")"
   ]
  },
  {
   "cell_type": "code",
   "execution_count": null,
   "metadata": {},
   "outputs": [],
   "source": []
  },
  {
   "cell_type": "code",
   "execution_count": 11,
   "metadata": {},
   "outputs": [
    {
     "name": "stdout",
     "output_type": "stream",
     "text": [
      "3600\n"
     ]
    }
   ],
   "source": [
    "recipients_new = []\n",
    "\n",
    "for i in df_final1[\"recipient\"]:\n",
    "    if i not in recipients_new:\n",
    "        recipients_new.append(i)\n",
    "        \n",
    "print(len(recipients_new))"
   ]
  },
  {
   "cell_type": "code",
   "execution_count": null,
   "metadata": {},
   "outputs": [],
   "source": []
  },
  {
   "cell_type": "code",
   "execution_count": 12,
   "metadata": {},
   "outputs": [],
   "source": [
    "def scale(X_train, y_train, X_test, y_test, X_val=None, y_val=None):\n",
    "    scaler = RobustScaler()\n",
    "\n",
    "    X_train = scaler.fit_transform(X_train)\n",
    "    y_train = scaler.fit_transform(np.asarray(y_train).reshape(-1,1))\n",
    "\n",
    "    X_test = scaler.fit_transform(X_test)\n",
    "    y_test = scaler.fit_transform(np.asarray(y_test).reshape(-1,1))\n",
    "\n",
    "    if X_val != None and y_val != None:\n",
    "        X_val = scaler.fit_transform(X_val)\n",
    "        y_val = scaler.fit_transform(np.asarray(y_val).reshape(-1,1))\n",
    "    \n",
    "        return X_train, y_train, X_test, y_test, X_val, y_val, scaler\n",
    "    \n",
    "    return X_train, y_train, X_test, y_test, scaler"
   ]
  },
  {
   "cell_type": "code",
   "execution_count": 13,
   "metadata": {},
   "outputs": [],
   "source": [
    "def recipient_modeller(dataframe, recipients, model):\n",
    "    model_dict = {}\n",
    "    data_dict = {}\n",
    "    count = 0\n",
    "    \n",
    "    for recipient in recipients:\n",
    "        start = time.time()\n",
    "        \n",
    "        test_df = dataframe[dataframe.recipient == recipient]\n",
    "        \n",
    "        X = test_df.loc[:, [\"prev_date\", \"kg_ordered\", \"prod_group\", \"silo_nr\", \"kg_delivered\",\n",
    "                            \"RU Geit\", \"RU Grond\", \"RU Kalv\", \"RU Melkv\", \"RU Vlvee\", \"Rundvee\",\n",
    "                            \"t_5\", \"t_4\", \"t_3\", \"t_2\", \"t_1\"]]\n",
    "        \n",
    "        y = test_df[\"difference_bin\"]\n",
    "        \n",
    "        X_train = X[0:-5]\n",
    "        X_test = X[-5:]\n",
    "        y_train = y[0:-5]\n",
    "        y_test = y[-5:]\n",
    "        \n",
    "        X_train, y_train, X_test, y_test, scaler = scale(X_train, y_train, X_test, y_test)\n",
    "\n",
    "        model.compile(optimizer=\"rmsprop\", loss=\"binary_crossentropy\", metrics=\"accuracy\")\n",
    "        history = model.fit(X_train, y_train, epochs=20, use_multiprocessing=True, verbose=0)\n",
    "        \n",
    "        model_dict[f\"model_{int(recipient)}\"] = [model]\n",
    "        data_dict[f\"model_{int(recipient)}\"] = [X_test, y_test, scaler]\n",
    "        \n",
    "        count += 1\n",
    "        if count % 100 == 0:\n",
    "            print(f\"{count} models done.\")\n",
    "        \n",
    "    return model_dict, data_dict\n",
    "        "
   ]
  },
  {
   "cell_type": "code",
   "execution_count": 14,
   "metadata": {},
   "outputs": [],
   "source": [
    "model = Sequential()\n",
    "model.add(layers.Dense(16, input_shape=(16,), activation=\"sigmoid\", kernel_regularizer=regularizers.l2(0.0001)))\n",
    "model.add(layers.BatchNormalization())\n",
    "model.add(layers.Dropout(0.5))\n",
    "model.add(layers.Dense(16, activation=\"sigmoid\", kernel_regularizer=regularizers.l2(0.0001)))\n",
    "model.add(layers.BatchNormalization())\n",
    "model.add(layers.Dropout(0.5))\n",
    "model.add(layers.Dense(1))"
   ]
  },
  {
   "cell_type": "code",
   "execution_count": 15,
   "metadata": {
    "scrolled": true
   },
   "outputs": [
    {
     "name": "stdout",
     "output_type": "stream",
     "text": [
      "100 models done.\n",
      "200 models done.\n",
      "300 models done.\n",
      "400 models done.\n",
      "500 models done.\n",
      "600 models done.\n",
      "700 models done.\n",
      "800 models done.\n",
      "900 models done.\n",
      "1000 models done.\n",
      "1100 models done.\n",
      "1200 models done.\n",
      "1300 models done.\n",
      "1400 models done.\n",
      "1500 models done.\n",
      "1600 models done.\n",
      "1700 models done.\n",
      "1800 models done.\n",
      "1900 models done.\n",
      "2000 models done.\n",
      "2100 models done.\n",
      "2200 models done.\n",
      "2300 models done.\n",
      "2400 models done.\n",
      "2500 models done.\n",
      "2600 models done.\n",
      "2700 models done.\n",
      "2800 models done.\n",
      "2900 models done.\n",
      "3000 models done.\n",
      "3100 models done.\n",
      "3200 models done.\n",
      "3300 models done.\n",
      "3400 models done.\n",
      "3500 models done.\n",
      "3600 models done.\n"
     ]
    }
   ],
   "source": [
    "model_dict, data_dict = recipient_modeller(df_binned, recipients_new, model)"
   ]
  },
  {
   "cell_type": "code",
   "execution_count": null,
   "metadata": {},
   "outputs": [],
   "source": []
  },
  {
   "cell_type": "code",
   "execution_count": 17,
   "metadata": {},
   "outputs": [],
   "source": [
    "rmse_values = []\n",
    "\n",
    "for i in model_dict:\n",
    "    test_pred = model_dict[i][0].predict(data_dict[i][0]).ravel()\n",
    "    inv_test_pred = data_dict[i][2].inverse_transform(test_pred.reshape(-1, 1))\n",
    "    inv_y_test = data_dict[i][2].inverse_transform(data_dict[i][1].reshape(-1, 1))\n",
    "\n",
    "    mse_test = mean_squared_error(inv_y_test, inv_test_pred)\n",
    "    \n",
    "    rmse_values.append(np.sqrt(mse_test))"
   ]
  },
  {
   "cell_type": "code",
   "execution_count": 18,
   "metadata": {},
   "outputs": [
    {
     "name": "stdout",
     "output_type": "stream",
     "text": [
      "Mean of the mean RMSE per customer: 11.06.\n",
      "Smallest mean RMSE: 1.68.\n",
      "Largest mean RMSE: 68.06.\n"
     ]
    }
   ],
   "source": [
    "print(f\"Mean of the mean RMSE per customer: {np.round(np.mean(rmse_values),2)}.\")\n",
    "print(f\"Smallest mean RMSE: {np.round(np.min(rmse_values),2)}.\")\n",
    "print(f\"Largest mean RMSE: {np.round(np.max(rmse_values),2)}.\")"
   ]
  },
  {
   "cell_type": "code",
   "execution_count": 19,
   "metadata": {},
   "outputs": [
    {
     "name": "stdout",
     "output_type": "stream",
     "text": [
      "Mean of the mean RMSE per customer, without the 150 largest values: 9.73.\n"
     ]
    }
   ],
   "source": [
    "print(f\"Mean of the mean RMSE per customer, without the 150 largest values: {np.round(np.average(sorted(rmse_values)[0:-150]),2)}.\")"
   ]
  },
  {
   "cell_type": "code",
   "execution_count": null,
   "metadata": {},
   "outputs": [],
   "source": []
  },
  {
   "cell_type": "code",
   "execution_count": 20,
   "metadata": {},
   "outputs": [
    {
     "data": {
      "image/png": "[encoded data removed]",
      "text/plain": [
       "<Figure size 1440x720 with 1 Axes>"
      ]
     },
     "metadata": {
      "needs_background": "light"
     },
     "output_type": "display_data"
    }
   ],
   "source": [
    "rmse_values_array = np.asarray(rmse_values)\n",
    "\n",
    "plt.figure(figsize=(20,10))\n",
    "\n",
    "plt.hist(rmse_values_array.clip(min=0, max=21), range=[0,21], bins=21)\n",
    "plt.show()"
   ]
  },
  {
   "cell_type": "code",
   "execution_count": 21,
   "metadata": {},
   "outputs": [
    {
     "name": "stdout",
     "output_type": "stream",
     "text": [
      "1318\n",
      "0.3661111111111111\n"
     ]
    }
   ],
   "source": [
    "lower = []\n",
    "\n",
    "for i in rmse_values:\n",
    "    if i <= 6:\n",
    "        lower.append(i)\n",
    "\n",
    "print(len(lower))\n",
    "print(len(lower)/len(rmse_values))"
   ]
  },
  {
   "cell_type": "code",
   "execution_count": null,
   "metadata": {},
   "outputs": [],
   "source": []
  },
  {
   "cell_type": "code",
   "execution_count": 30,
   "metadata": {},
   "outputs": [],
   "source": [
    "final_percentages =[]\n",
    "\n",
    "for i in model_dict:\n",
    "    inv_test_pred = data_dict[i][2].inverse_transform(test_pred.reshape(-1, 1))\n",
    "    inv_y_test = data_dict[i][2].inverse_transform(data_dict[i][1].reshape(-1, 1))\n",
    "    label_inv_y_test = le.inverse_transform(inv_y_test.astype(int))\n",
    "    \n",
    "    percentages = []\n",
    "    \n",
    "    for idx, val in enumerate(inv_test_pred):\n",
    "        perc = np.abs(val-label_inv_y_test[idx])/label_inv_y_test[idx]\n",
    "        \n",
    "        percentages.append(perc[0])\n",
    "        \n",
    "    final_percentages.append(np.mean(percentages))"
   ]
  },
  {
   "cell_type": "code",
   "execution_count": 31,
   "metadata": {},
   "outputs": [
    {
     "name": "stdout",
     "output_type": "stream",
     "text": [
      "Minimum percent error: 0.09000000357627869\n",
      "Maximum percent error: 32.86000061035156\n",
      "Mean percent error: 1.1399999856948853\n"
     ]
    }
   ],
   "source": [
    "print(f\"Minimum percent error: {np.round(np.min(final_percentages),2)}\")\n",
    "print(f\"Maximum percent error: {np.round(np.max(final_percentages),2)}\")\n",
    "print(f\"Mean percent error: {np.round(np.mean(final_percentages),2)}\")"
   ]
  },
  {
   "cell_type": "code",
   "execution_count": 32,
   "metadata": {},
   "outputs": [
    {
     "data": {
      "image/png": "[encoded data removed]",
      "text/plain": [
       "<Figure size 432x288 with 1 Axes>"
      ]
     },
     "metadata": {
      "needs_background": "light"
     },
     "output_type": "display_data"
    }
   ],
   "source": [
    "final_percentages = np.asarray(final_percentages)\n",
    "\n",
    "plt.hist(final_percentages.clip(min=0, max=1.1), range=[0,1.1], bins=11)\n",
    "plt.show()"
   ]
  },
  {
   "cell_type": "code",
   "execution_count": 33,
   "metadata": {},
   "outputs": [
    {
     "name": "stdout",
     "output_type": "stream",
     "text": [
      "Number of orders with a percent error lower than 0.5: 1031\n",
      "Percentage of orders with a percent error lower than 0.5: 0.29\n"
     ]
    }
   ],
   "source": [
    "lower = []\n",
    "\n",
    "for i in final_percentages:\n",
    "    if i <= 0.5:\n",
    "        lower.append(i)\n",
    "\n",
    "print(f\"Number of orders with a percent error lower than 0.5: {len(lower)}\")\n",
    "print(f\"Percentage of orders with a percent error lower than 0.5: {np.round(len(lower)/len(final_percentages),2)}\")"
   ]
  },
  {
   "cell_type": "code",
   "execution_count": null,
   "metadata": {},
   "outputs": [],
   "source": []
  },
  {
   "cell_type": "code",
   "execution_count": 34,
   "metadata": {},
   "outputs": [],
   "source": [
    "final_differences =[]\n",
    "\n",
    "for i in model_dict:\n",
    "    inv_test_pred = data_dict[i][2].inverse_transform(test_pred.reshape(-1, 1))\n",
    "    inv_y_test = data_dict[i][2].inverse_transform(data_dict[i][1].reshape(-1, 1))\n",
    "    \n",
    "    differences = []\n",
    "    \n",
    "    for idx, val in enumerate(inv_test_pred):\n",
    "        diff = np.abs(val[0]-inv_y_test[idx][0])\n",
    "        differences.append(diff)\n",
    "        \n",
    "    final_differences.append(np.mean(differences))"
   ]
  },
  {
   "cell_type": "code",
   "execution_count": 35,
   "metadata": {},
   "outputs": [],
   "source": [
    "within_1 = [1 if np.round(diff) <= 1 else 0 for diff in final_differences]\n",
    "within_3 = [1 if np.round(diff) <= 3 else 0 for diff in final_differences]\n",
    "within_5 = [1 if np.round(diff) <= 5 else 0 for diff in final_differences]\n",
    "within_7 = [1 if np.round(diff) <= 7 else 0 for diff in final_differences]"
   ]
  },
  {
   "cell_type": "code",
   "execution_count": 36,
   "metadata": {},
   "outputs": [
    {
     "name": "stdout",
     "output_type": "stream",
     "text": [
      "Percentage of orders predicted correctly within 1 day: 0.0\n",
      "Percentage of orders predicted correctly within 3 days: 0.24\n",
      "Percentage of orders predicted correctly within 5 days: 0.38\n",
      "Percentage of orders predicted correctly within 7 days: 0.51\n"
     ]
    }
   ],
   "source": [
    "print(f\"Percentage of orders predicted correctly within 1 day: {np.round(np.sum(within_1)/len(final_differences),2)}\")\n",
    "print(f\"Percentage of orders predicted correctly within 3 days: {np.round(np.sum(within_3)/len(final_differences),2)}\")\n",
    "print(f\"Percentage of orders predicted correctly within 5 days: {np.round(np.sum(within_5)/len(final_differences),2)}\")\n",
    "print(f\"Percentage of orders predicted correctly within 7 days: {np.round(np.sum(within_7)/len(final_differences),2)}\")"
   ]
  }
 ],
 "metadata": {
  "kernelspec": {
   "display_name": "Python 3",
   "language": "python",
   "name": "python3"
  },
  "language_info": {
   "codemirror_mode": {
    "name": "ipython",
    "version": 3
   },
   "file_extension": ".py",
   "mimetype": "text/x-python",
   "name": "python",
   "nbconvert_exporter": "python",
   "pygments_lexer": "ipython3",
   "version": "3.8.3"
  }
 },
 "nbformat": 4,
 "nbformat_minor": 4
}
