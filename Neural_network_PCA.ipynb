{
 "cells": [
  {
   "cell_type": "code",
   "execution_count": 1,
   "metadata": {},
   "outputs": [],
   "source": [
    "import numpy as np\n",
    "import pandas as pd\n",
    "import sklearn\n",
    "import matplotlib\n",
    "import tensorflow as tf\n",
    "import tensorflow.keras as keras\n",
    "import pickle\n",
    "import os\n",
    "import time\n",
    "import sys\n",
    "import warnings\n",
    "\n",
    "from sklearn.model_selection import train_test_split\n",
    "from sklearn.preprocessing import OneHotEncoder, LabelEncoder, RobustScaler\n",
    "from sklearn.decomposition import PCA\n",
    "from sklearn.metrics import mean_squared_error\n",
    "from sklearn.linear_model import LinearRegression\n",
    "import matplotlib.pyplot as plt\n",
    "from tensorflow.keras import Sequential, optimizers, layers, metrics, models, regularizers\n",
    "\n",
    "warnings.filterwarnings(\"ignore\")"
   ]
  },
  {
   "cell_type": "code",
   "execution_count": 2,
   "metadata": {},
   "outputs": [],
   "source": [
    "# Create a function to plot smoothed metric and loss curves\n",
    "def smooth_curve(points, factor=0.9):\n",
    "    smoothed_points = []\n",
    "    for point in points:\n",
    "        if smoothed_points:\n",
    "            previous = smoothed_points[-1]\n",
    "            smoothed_points.append(previous * factor + point * (1 - factor))\n",
    "        else:\n",
    "            smoothed_points.append(point)\n",
    "    return smoothed_points"
   ]
  },
  {
   "cell_type": "code",
   "execution_count": null,
   "metadata": {},
   "outputs": [],
   "source": []
  },
  {
   "cell_type": "code",
   "execution_count": 3,
   "metadata": {},
   "outputs": [],
   "source": [
    "df = pd.read_pickle(\"Data/df_final1.pkl\")"
   ]
  },
  {
   "cell_type": "code",
   "execution_count": 4,
   "metadata": {},
   "outputs": [],
   "source": [
    "df_nn_cat = df.copy()"
   ]
  },
  {
   "cell_type": "code",
   "execution_count": null,
   "metadata": {},
   "outputs": [],
   "source": []
  },
  {
   "cell_type": "code",
   "execution_count": 5,
   "metadata": {},
   "outputs": [],
   "source": [
    "X = df_nn_cat.loc[:, [\"prev_date\", \"kg_ordered\", \"prod_group\", \"silo_nr\", \"kg_delivered\",\n",
    "                      \"RU Geit\", \"RU Grond\", \"RU Kalv\", \"RU Melkv\", \"RU Vlvee\", \"Rundvee\"]]\n",
    "\n",
    "y = df_nn_cat[\"difference\"]"
   ]
  },
  {
   "cell_type": "code",
   "execution_count": 6,
   "metadata": {},
   "outputs": [],
   "source": [
    "X_train, X_test, y_train, y_test = train_test_split(X, y, test_size=0.1, random_state=42)"
   ]
  },
  {
   "cell_type": "code",
   "execution_count": 7,
   "metadata": {},
   "outputs": [],
   "source": [
    "X_train, X_val, y_train, y_val = train_test_split(X_train, y_train, test_size=0.15, random_state=42)"
   ]
  },
  {
   "cell_type": "code",
   "execution_count": null,
   "metadata": {},
   "outputs": [],
   "source": []
  },
  {
   "cell_type": "code",
   "execution_count": 8,
   "metadata": {},
   "outputs": [],
   "source": [
    "scaler = RobustScaler()\n",
    "\n",
    "X_train = scaler.fit_transform(X_train)\n",
    "y_train = scaler.fit_transform(np.asarray(y_train).reshape(-1,1))\n",
    "\n",
    "X_test = scaler.fit_transform(X_test)\n",
    "y_test = scaler.fit_transform(np.asarray(y_test).reshape(-1,1))\n",
    "\n",
    "X_val = scaler.fit_transform(X_val)\n",
    "y_val = scaler.fit_transform(np.asarray(y_val).reshape(-1,1))"
   ]
  },
  {
   "cell_type": "code",
   "execution_count": null,
   "metadata": {},
   "outputs": [],
   "source": []
  },
  {
   "cell_type": "code",
   "execution_count": 9,
   "metadata": {},
   "outputs": [
    {
     "data": {
      "image/png": "[encoded data removed]",
      "text/plain": [
       "<Figure size 432x288 with 1 Axes>"
      ]
     },
     "metadata": {
      "needs_background": "light"
     },
     "output_type": "display_data"
    }
   ],
   "source": [
    "# Apply PCA and plot the explained variance for each number of components\n",
    "pca = PCA(n_components=11)\n",
    "pca.fit(X_train)\n",
    "\n",
    "plt.plot(np.cumsum(pca.explained_variance_ratio_))\n",
    "plt.xlabel(\"Number of components\")\n",
    "plt.ylabel(\"Cumulative explained variance\")\n",
    "plt.show()"
   ]
  },
  {
   "cell_type": "code",
   "execution_count": 10,
   "metadata": {},
   "outputs": [
    {
     "name": "stdout",
     "output_type": "stream",
     "text": [
      "(426303, 11)\n",
      "(426303, 4)\n"
     ]
    }
   ],
   "source": [
    "# Transform the predictor variables using PCA\n",
    "NCOMPONENTS = 4\n",
    "\n",
    "pca = PCA(n_components=NCOMPONENTS)\n",
    "X_pca_train = pca.fit_transform(X_train)\n",
    "X_pca_test = pca.transform(X_test)\n",
    "X_pca_val = pca.transform(X_val)\n",
    "pca_std = np.std(X_pca_train)\n",
    "\n",
    "print(X_train.shape)\n",
    "print(X_pca_train.shape)"
   ]
  },
  {
   "cell_type": "code",
   "execution_count": null,
   "metadata": {},
   "outputs": [],
   "source": []
  },
  {
   "cell_type": "code",
   "execution_count": 11,
   "metadata": {},
   "outputs": [],
   "source": [
    "model = Sequential()\n",
    "model.add(layers.Dense(128, input_shape=(4,), activation=\"relu\"))\n",
    "model.add(layers.Dense(128, activation=\"relu\"))\n",
    "model.add(layers.Dense(128, activation=\"relu\"))\n",
    "model.add(layers.Dense(1))"
   ]
  },
  {
   "cell_type": "code",
   "execution_count": 12,
   "metadata": {},
   "outputs": [
    {
     "name": "stdout",
     "output_type": "stream",
     "text": [
      "Model: \"sequential\"\n",
      "_________________________________________________________________\n",
      "Layer (type)                 Output Shape              Param #   \n",
      "=================================================================\n",
      "dense (Dense)                (None, 128)               640       \n",
      "_________________________________________________________________\n",
      "dense_1 (Dense)              (None, 128)               16512     \n",
      "_________________________________________________________________\n",
      "dense_2 (Dense)              (None, 128)               16512     \n",
      "_________________________________________________________________\n",
      "dense_3 (Dense)              (None, 1)                 129       \n",
      "=================================================================\n",
      "Total params: 33,793\n",
      "Trainable params: 33,793\n",
      "Non-trainable params: 0\n",
      "_________________________________________________________________\n"
     ]
    }
   ],
   "source": [
    "model.summary()"
   ]
  },
  {
   "cell_type": "code",
   "execution_count": 13,
   "metadata": {
    "scrolled": true
   },
   "outputs": [
    {
     "name": "stdout",
     "output_type": "stream",
     "text": [
      "Epoch 1/15\n",
      "13322/13322 [==============================] - 19s 1ms/step - loss: 3.4255 - root_mean_squared_error: 1.8508 - val_loss: 3.1830 - val_root_mean_squared_error: 1.7841\n",
      "Epoch 2/15\n",
      "13322/13322 [==============================] - 14s 1ms/step - loss: 3.4205 - root_mean_squared_error: 1.8495 - val_loss: 3.1859 - val_root_mean_squared_error: 1.7849\n",
      "Epoch 3/15\n",
      "13322/13322 [==============================] - 14s 1ms/step - loss: 3.4201 - root_mean_squared_error: 1.8493 - val_loss: 3.1871 - val_root_mean_squared_error: 1.7852\n",
      "Epoch 4/15\n",
      "13322/13322 [==============================] - 14s 1ms/step - loss: 3.4190 - root_mean_squared_error: 1.8490 - val_loss: 3.1776 - val_root_mean_squared_error: 1.7826\n",
      "Epoch 5/15\n",
      "13322/13322 [==============================] - 16s 1ms/step - loss: 3.4174 - root_mean_squared_error: 1.8486 - val_loss: 3.1766 - val_root_mean_squared_error: 1.7823\n",
      "Epoch 6/15\n",
      "13322/13322 [==============================] - 17s 1ms/step - loss: 3.4166 - root_mean_squared_error: 1.8484 - val_loss: 3.1796 - val_root_mean_squared_error: 1.7831\n",
      "Epoch 7/15\n",
      "13322/13322 [==============================] - 15s 1ms/step - loss: 3.4163 - root_mean_squared_error: 1.8483 - val_loss: 3.1783 - val_root_mean_squared_error: 1.7828\n",
      "Epoch 8/15\n",
      "13322/13322 [==============================] - 19s 1ms/step - loss: 3.4152 - root_mean_squared_error: 1.8480 - val_loss: 3.1798 - val_root_mean_squared_error: 1.7832\n",
      "Epoch 9/15\n",
      "13322/13322 [==============================] - 24s 2ms/step - loss: 3.4144 - root_mean_squared_error: 1.8478 - val_loss: 3.1768 - val_root_mean_squared_error: 1.7824\n",
      "Epoch 10/15\n",
      "13322/13322 [==============================] - 22s 2ms/step - loss: 3.4138 - root_mean_squared_error: 1.8476 - val_loss: 3.1772 - val_root_mean_squared_error: 1.7825\n",
      "Epoch 11/15\n",
      "13322/13322 [==============================] - 20s 1ms/step - loss: 3.4132 - root_mean_squared_error: 1.8475 - val_loss: 3.1751 - val_root_mean_squared_error: 1.7819\n",
      "Epoch 12/15\n",
      "13322/13322 [==============================] - 20s 1ms/step - loss: 3.4128 - root_mean_squared_error: 1.8474 - val_loss: 3.1728 - val_root_mean_squared_error: 1.7812\n",
      "Epoch 13/15\n",
      "13322/13322 [==============================] - 19s 1ms/step - loss: 3.4119 - root_mean_squared_error: 1.8471 - val_loss: 3.1754 - val_root_mean_squared_error: 1.7820\n",
      "Epoch 14/15\n",
      "13322/13322 [==============================] - 21s 2ms/step - loss: 3.4117 - root_mean_squared_error: 1.8471 - val_loss: 3.1787 - val_root_mean_squared_error: 1.7829\n",
      "Epoch 15/15\n",
      "13322/13322 [==============================] - 21s 2ms/step - loss: 3.4129 - root_mean_squared_error: 1.8474 - val_loss: 3.1769 - val_root_mean_squared_error: 1.7824\n"
     ]
    }
   ],
   "source": [
    "model.compile(optimizer=\"adam\", loss='mean_squared_error', metrics=tf.keras.metrics.RootMeanSquaredError())\n",
    "history = model.fit(X_pca_train, y_train, epochs=15, validation_data=(X_pca_val, y_val))"
   ]
  },
  {
   "cell_type": "code",
   "execution_count": 14,
   "metadata": {},
   "outputs": [
    {
     "data": {
      "image/png": "[encoded data removed]",
      "text/plain": [
       "<Figure size 432x288 with 1 Axes>"
      ]
     },
     "metadata": {
      "needs_background": "light"
     },
     "output_type": "display_data"
    },
    {
     "data": {
      "image/png": "[encoded data removed]",
      "text/plain": [
       "<Figure size 432x288 with 1 Axes>"
      ]
     },
     "metadata": {
      "needs_background": "light"
     },
     "output_type": "display_data"
    }
   ],
   "source": [
    "rmse_history = history.history[\"root_mean_squared_error\"]\n",
    "val_rmse_history = history.history[\"val_root_mean_squared_error\"]\n",
    "\n",
    "plt.plot(range(1, len(rmse_history) + 1), rmse_history)\n",
    "plt.plot(range(1, len(val_rmse_history) + 1), val_rmse_history)\n",
    "plt.xlabel(\"Epochs\")\n",
    "plt.ylabel(\"RMSE\")\n",
    "plt.legend([\"training\", \"validation\"])\n",
    "plt.show()\n",
    "\n",
    "loss_history = history.history[\"loss\"]\n",
    "val_loss_history = history.history[\"val_loss\"]\n",
    "\n",
    "plt.plot(range(1, len(loss_history) + 1), loss_history)\n",
    "plt.plot(range(1, len(val_loss_history) + 1), val_loss_history)\n",
    "plt.xlabel(\"Epochs\")\n",
    "plt.ylabel(\"Loss\")\n",
    "plt.legend([\"training\", \"validation\"])\n",
    "plt.show()"
   ]
  },
  {
   "cell_type": "code",
   "execution_count": 15,
   "metadata": {},
   "outputs": [
    {
     "data": {
      "image/png": "[encoded data removed]",
      "text/plain": [
       "<Figure size 432x288 with 1 Axes>"
      ]
     },
     "metadata": {
      "needs_background": "light"
     },
     "output_type": "display_data"
    },
    {
     "data": {
      "image/png": "[encoded data removed]",
      "text/plain": [
       "<Figure size 432x288 with 1 Axes>"
      ]
     },
     "metadata": {
      "needs_background": "light"
     },
     "output_type": "display_data"
    }
   ],
   "source": [
    "smooth_rmse_history = smooth_curve(rmse_history)\n",
    "smooth_val_rmse_history = smooth_curve(val_rmse_history)\n",
    "\n",
    "plt.plot(range(1, len(smooth_rmse_history) + 1), smooth_rmse_history)\n",
    "plt.plot(range(1, len(smooth_val_rmse_history) + 1), smooth_val_rmse_history)\n",
    "plt.xlabel(\"Epochs\")\n",
    "plt.ylabel(\"RMSE\")\n",
    "plt.legend([\"training\", \"validation\"])\n",
    "plt.show()\n",
    "\n",
    "smooth_loss_history = smooth_curve(loss_history)\n",
    "smooth_val_loss_history = smooth_curve(val_loss_history)\n",
    "\n",
    "plt.plot(range(1, len(smooth_loss_history) + 1), smooth_loss_history)\n",
    "plt.plot(range(1, len(smooth_val_loss_history) + 1), smooth_val_loss_history)\n",
    "plt.xlabel(\"Epochs\")\n",
    "plt.ylabel(\"Loss\")\n",
    "plt.legend([\"training\", \"validation\"])\n",
    "plt.show()"
   ]
  },
  {
   "cell_type": "code",
   "execution_count": null,
   "metadata": {},
   "outputs": [],
   "source": []
  },
  {
   "cell_type": "code",
   "execution_count": 16,
   "metadata": {},
   "outputs": [
    {
     "name": "stdout",
     "output_type": "stream",
     "text": [
      "2351/2351 [==============================] - 2s 761us/step - loss: 3.1769 - root_mean_squared_error: 1.7824\n"
     ]
    }
   ],
   "source": [
    "model.evaluate(X_pca_val, y_val)"
   ]
  },
  {
   "cell_type": "code",
   "execution_count": 18,
   "metadata": {},
   "outputs": [
    {
     "name": "stdout",
     "output_type": "stream",
     "text": [
      "1742/1742 [==============================] - 1s 756us/step - loss: 3.3699 - root_mean_squared_error: 1.8357\n"
     ]
    }
   ],
   "source": [
    "model.evaluate(X_pca_test, y_test)"
   ]
  },
  {
   "cell_type": "code",
   "execution_count": null,
   "metadata": {},
   "outputs": [],
   "source": []
  },
  {
   "cell_type": "code",
   "execution_count": 20,
   "metadata": {},
   "outputs": [],
   "source": [
    "val_pred = model.predict(X_pca_val).ravel()\n",
    "test_pred = model.predict(X_pca_test).ravel()"
   ]
  },
  {
   "cell_type": "code",
   "execution_count": 22,
   "metadata": {},
   "outputs": [
    {
     "name": "stdout",
     "output_type": "stream",
     "text": [
      "RMSE on validation set: 21.388689\n",
      "RMSE on test set: 22.028831\n"
     ]
    }
   ],
   "source": [
    "inv_val_pred = scaler.inverse_transform(val_pred.reshape(-1, 1))\n",
    "inv_y_val = scaler.inverse_transform(y_val.reshape(-1, 1))\n",
    "\n",
    "inv_test_pred = scaler.inverse_transform(test_pred.reshape(-1, 1))\n",
    "inv_y_test = scaler.inverse_transform(y_test.reshape(-1, 1))\n",
    "\n",
    "mse_val = mean_squared_error(inv_y_val, inv_val_pred)\n",
    "mse_test = mean_squared_error(inv_y_test, inv_test_pred)\n",
    "\n",
    "print(\"RMSE on validation set:\", np.sqrt(mse_val))\n",
    "print(\"RMSE on test set:\", np.sqrt(mse_test))"
   ]
  },
  {
   "cell_type": "code",
   "execution_count": null,
   "metadata": {},
   "outputs": [],
   "source": []
  },
  {
   "cell_type": "code",
   "execution_count": 23,
   "metadata": {},
   "outputs": [],
   "source": [
    "percentages = []\n",
    "\n",
    "for idx, val in enumerate(inv_test_pred):\n",
    "    perc = np.abs(val-inv_y_test[idx])/inv_y_test[idx]\n",
    "    percentages.append(perc[0])"
   ]
  },
  {
   "cell_type": "code",
   "execution_count": 24,
   "metadata": {},
   "outputs": [
    {
     "name": "stdout",
     "output_type": "stream",
     "text": [
      "Minimum percent error: 0.0\n",
      "Maximum percent error: 25.489999771118164\n",
      "Mean percent error: 1.0199999809265137\n"
     ]
    }
   ],
   "source": [
    "print(f\"Minimum percent error: {np.round(np.min(percentages),2)}\")\n",
    "print(f\"Maximum percent error: {np.round(np.max(percentages),2)}\")\n",
    "print(f\"Mean percent error: {np.round(np.mean(percentages),2)}\")"
   ]
  },
  {
   "cell_type": "code",
   "execution_count": 25,
   "metadata": {},
   "outputs": [
    {
     "data": {
      "image/png": "[encoded data removed]",
      "text/plain": [
       "<Figure size 432x288 with 1 Axes>"
      ]
     },
     "metadata": {
      "needs_background": "light"
     },
     "output_type": "display_data"
    }
   ],
   "source": [
    "percentages = np.asarray(percentages)\n",
    "\n",
    "plt.hist(percentages.clip(min=0, max=1.1), range=[0,1.1], bins=11)\n",
    "plt.show()"
   ]
  },
  {
   "cell_type": "code",
   "execution_count": 26,
   "metadata": {},
   "outputs": [
    {
     "name": "stdout",
     "output_type": "stream",
     "text": [
      "Number of orders with a percent error lower than 0.5: 34754\n",
      "Percentage of orders with a percent error lower than 0.5: 0.62\n"
     ]
    }
   ],
   "source": [
    "lower = []\n",
    "\n",
    "for i in percentages:\n",
    "    if i <= 0.5:\n",
    "        lower.append(i)\n",
    "\n",
    "print(f\"Number of orders with a percent error lower than 0.5: {len(lower)}\")\n",
    "print(f\"Percentage of orders with a percent error lower than 0.5: {np.round(len(lower)/len(percentages),2)}\")"
   ]
  },
  {
   "cell_type": "code",
   "execution_count": null,
   "metadata": {},
   "outputs": [],
   "source": []
  },
  {
   "cell_type": "code",
   "execution_count": 27,
   "metadata": {},
   "outputs": [],
   "source": [
    "differences = []\n",
    "\n",
    "for idx, val in enumerate(inv_y_test):\n",
    "    differences.append(np.abs(val[0]-inv_test_pred[idx][0]))"
   ]
  },
  {
   "cell_type": "code",
   "execution_count": 28,
   "metadata": {},
   "outputs": [],
   "source": [
    "within_1 = [1 if np.round(diff) <= 1 else 0 for diff in differences]\n",
    "within_3 = [1 if np.round(diff) <= 3 else 0 for diff in differences]\n",
    "within_5 = [1 if np.round(diff) <= 5 else 0 for diff in differences]\n",
    "within_7 = [1 if np.round(diff) <= 7 else 0 for diff in differences]"
   ]
  },
  {
   "cell_type": "code",
   "execution_count": 29,
   "metadata": {},
   "outputs": [
    {
     "name": "stdout",
     "output_type": "stream",
     "text": [
      "Percentage of orders predicted correctly within 1 day: 0.12\n",
      "Percentage of orders predicted correctly within 3 days: 0.28\n",
      "Percentage of orders predicted correctly within 5 days: 0.44\n",
      "Percentage of orders predicted correctly within 7 days: 0.58\n"
     ]
    }
   ],
   "source": [
    "print(f\"Percentage of orders predicted correctly within 1 day: {np.round(np.sum(within_1)/len(differences),2)}\")\n",
    "print(f\"Percentage of orders predicted correctly within 3 days: {np.round(np.sum(within_3)/len(differences),2)}\")\n",
    "print(f\"Percentage of orders predicted correctly within 5 days: {np.round(np.sum(within_5)/len(differences),2)}\")\n",
    "print(f\"Percentage of orders predicted correctly within 7 days: {np.round(np.sum(within_7)/len(differences),2)}\")"
   ]
  }
 ],
 "metadata": {
  "kernelspec": {
   "display_name": "Python 3",
   "language": "python",
   "name": "python3"
  },
  "language_info": {
   "codemirror_mode": {
    "name": "ipython",
    "version": 3
   },
   "file_extension": ".py",
   "mimetype": "text/x-python",
   "name": "python",
   "nbconvert_exporter": "python",
   "pygments_lexer": "ipython3",
   "version": "3.8.3"
  }
 },
 "nbformat": 4,
 "nbformat_minor": 4
}
