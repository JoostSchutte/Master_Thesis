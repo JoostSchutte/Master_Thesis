{
 "cells": [
  {
   "cell_type": "code",
   "execution_count": 1,
   "metadata": {},
   "outputs": [],
   "source": [
    "import numpy as np\n",
    "import pandas as pd\n",
    "import sklearn\n",
    "import matplotlib\n",
    "import tensorflow as tf\n",
    "import tensorflow.keras as keras\n",
    "import pickle\n",
    "import os\n",
    "import time\n",
    "import sys\n",
    "import warnings\n",
    "\n",
    "from sklearn.model_selection import train_test_split\n",
    "from sklearn.preprocessing import OneHotEncoder, LabelEncoder, RobustScaler\n",
    "from sklearn.decomposition import PCA\n",
    "from sklearn.metrics import mean_squared_error\n",
    "from sklearn.linear_model import LinearRegression\n",
    "import matplotlib.pyplot as plt\n",
    "from tensorflow.keras import Sequential, optimizers, layers, metrics, models, regularizers\n",
    "\n",
    "warnings.filterwarnings(\"ignore\")"
   ]
  },
  {
   "cell_type": "code",
   "execution_count": 2,
   "metadata": {},
   "outputs": [],
   "source": [
    "# Read the dataset and store it in a dataframe\n",
    "df1 = pd.read_csv(\"Data/silo_current.csv\")\n",
    "df2 = pd.read_csv(\"Data/silo_history.csv\")\n",
    "\n",
    "df = pd.concat([df1,df2])"
   ]
  },
  {
   "cell_type": "code",
   "execution_count": 3,
   "metadata": {},
   "outputs": [],
   "source": [
    "# Drop unnecessary columns\n",
    "to_drop = [\"...2\", \"Postcode\", \"Locatie\", \"Telefoon 1\", \"2e telefoonnummer\", \"Land\", \"...8\", \n",
    "           \"Verkooporganisatie\", \"...10\", \"Aanmaakdatum order\", \"Aanmaaktijd order\", \"Artikel\", \"...16\", \n",
    "           \"Planartikel\", \"...18\", \"Prod.hiër. niv.3\", \"Prod.hiër. niv.4\", \"Prod.hiër. niv.5\", \"ABC-teken\", \n",
    "           \"Opmerking 1 code\", \"Opmerking 2 code\", \"Opmerking 3 code\", \"Opmerking 4 code\", \"Opmerking 5 code\", \n",
    "           \"Srt verk.doc.\", \"...33\", \"Verkoopleider\", \"Bedrijfsadviseur\", \"Vestiging\", \"Mogelijke leverdata\", \n",
    "           \"Gecreëerd door\"]\n",
    "\n",
    "df = df.drop(to_drop, axis=1)"
   ]
  },
  {
   "cell_type": "code",
   "execution_count": 4,
   "metadata": {},
   "outputs": [],
   "source": [
    "# Change the column names to English\n",
    "col_names = [\"recipient\", \"silo_nr\", \"delivery_date\", \"prod_hier_1\", \"prod_hier_2\",\n",
    "            \"prod_group\", \"prod_group_name\", \"delivery_nr\", \"kg_delivered\", \"kg_ordered\"]\n",
    "\n",
    "for idx, val in enumerate(df.columns):\n",
    "    df.rename(columns={val:col_names[idx]}, inplace=True)"
   ]
  },
  {
   "cell_type": "code",
   "execution_count": 5,
   "metadata": {},
   "outputs": [],
   "source": [
    "# Remove periods from delivery_date column and turn it into a datetime datatype\n",
    "df[\"delivery_date\"] = df[\"delivery_date\"].replace({'\\.':''}, regex=True)\n",
    "df[\"delivery_date\"] = pd.to_datetime(df[\"delivery_date\"], format=\"%d%m%Y\")"
   ]
  },
  {
   "cell_type": "code",
   "execution_count": 6,
   "metadata": {},
   "outputs": [
    {
     "name": "stdout",
     "output_type": "stream",
     "text": [
      "6327\n"
     ]
    }
   ],
   "source": [
    "recipients = []\n",
    "\n",
    "for i in df[\"recipient\"]:\n",
    "    if i not in recipients:\n",
    "        recipients.append(i)\n",
    "        \n",
    "print(len(recipients))"
   ]
  },
  {
   "cell_type": "code",
   "execution_count": 7,
   "metadata": {},
   "outputs": [],
   "source": [
    "# Get the previous date for each order and add it to the dataframe\n",
    "starting_df = pd.DataFrame(columns = col_names)\n",
    "\n",
    "for i in recipients:\n",
    "    test = df.loc[df[\"recipient\"] == i].sort_values(by=[\"delivery_date\"])\n",
    "    test.reset_index(drop=True, inplace=True)\n",
    "    \n",
    "    test_unique = test.drop_duplicates(subset = [\"delivery_date\"])\n",
    "    test_unique.reset_index(drop=True, inplace=True)\n",
    "    \n",
    "    for i in range(len(test_unique)):\n",
    "        if i != 0:\n",
    "            test_unique.loc[i,(\"prev_date\")] = test_unique.loc[i-1,(\"delivery_date\")]\n",
    "        else:\n",
    "            test_unique.loc[i,(\"prev_date\")] = None\n",
    "\n",
    "    test_unique.loc[:, (\"prev_date\")] = pd.to_datetime(test_unique.loc[:,(\"prev_date\")], format=\"%d%m%Y\")\n",
    "    \n",
    "    for i in range(len(test)):\n",
    "        for j in range(len(test_unique)):\n",
    "            if test.loc[i,(\"delivery_date\")] == test_unique.loc[j,(\"delivery_date\")]:\n",
    "                test.loc[i,(\"prev_date\")] = test_unique.loc[j,(\"prev_date\")]\n",
    "                \n",
    "    starting_df = pd.concat([starting_df, test])\n",
    "    \n",
    "df = starting_df"
   ]
  },
  {
   "cell_type": "code",
   "execution_count": 8,
   "metadata": {},
   "outputs": [],
   "source": [
    "df.reset_index(drop=True, inplace=True)"
   ]
  },
  {
   "cell_type": "code",
   "execution_count": null,
   "metadata": {},
   "outputs": [],
   "source": []
  },
  {
   "cell_type": "code",
   "execution_count": 9,
   "metadata": {},
   "outputs": [],
   "source": [
    "df.to_pickle(\"df.pkl\")"
   ]
  },
  {
   "cell_type": "code",
   "execution_count": 11,
   "metadata": {},
   "outputs": [],
   "source": [
    "df = pd.read_pickle(\"Data/df.pkl\")"
   ]
  },
  {
   "cell_type": "code",
   "execution_count": null,
   "metadata": {},
   "outputs": [],
   "source": []
  },
  {
   "cell_type": "code",
   "execution_count": 12,
   "metadata": {},
   "outputs": [],
   "source": [
    "# Create the difference feature\n",
    "df[\"difference\"] = df.loc[:,(\"delivery_date\")]-df.loc[:,(\"prev_date\")]"
   ]
  },
  {
   "cell_type": "code",
   "execution_count": 13,
   "metadata": {},
   "outputs": [],
   "source": [
    "# Turn any non-numeric silo number into a nan\n",
    "df[\"silo_nr\"] = [np.nan if silo.isnumeric() == False else silo for silo in df[\"silo_nr\"]]"
   ]
  },
  {
   "cell_type": "code",
   "execution_count": 14,
   "metadata": {},
   "outputs": [],
   "source": [
    "# Turn difference into an integer instead of a TimeDelta \n",
    "df[\"difference\"] = [diff.days for diff in df[\"difference\"]]"
   ]
  },
  {
   "cell_type": "code",
   "execution_count": null,
   "metadata": {},
   "outputs": [],
   "source": []
  },
  {
   "cell_type": "code",
   "execution_count": 15,
   "metadata": {},
   "outputs": [],
   "source": [
    "df.to_pickle(\"df_new.pkl\")"
   ]
  },
  {
   "cell_type": "code",
   "execution_count": 16,
   "metadata": {},
   "outputs": [],
   "source": [
    "df = pd.read_pickle(\"Data/df_new.pkl\")"
   ]
  },
  {
   "cell_type": "code",
   "execution_count": null,
   "metadata": {},
   "outputs": [],
   "source": []
  },
  {
   "cell_type": "code",
   "execution_count": 17,
   "metadata": {},
   "outputs": [],
   "source": [
    "# Drop any row without a previous date\n",
    "df.drop(df[pd.isna(df.prev_date) == True].index, inplace=True)\n",
    "df.reset_index(drop=True, inplace=True)"
   ]
  },
  {
   "cell_type": "code",
   "execution_count": 18,
   "metadata": {},
   "outputs": [],
   "source": [
    "# Get the first date in the dataset to be used as the base date\n",
    "min_date = np.min(df[\"delivery_date\"])"
   ]
  },
  {
   "cell_type": "code",
   "execution_count": 19,
   "metadata": {},
   "outputs": [],
   "source": [
    "# Turn delivery date into an integer based on the number of days it is from the base date\n",
    "df[\"delivery_date\"] = [(date-min_date).days for date in df[\"delivery_date\"]]"
   ]
  },
  {
   "cell_type": "code",
   "execution_count": 20,
   "metadata": {},
   "outputs": [],
   "source": [
    "# Turn previous date into an integer based on the number of days it is from the base date\n",
    "df[\"prev_date\"] = [(date-min_date).days for date in df[\"prev_date\"]]"
   ]
  },
  {
   "cell_type": "code",
   "execution_count": null,
   "metadata": {},
   "outputs": [],
   "source": []
  },
  {
   "cell_type": "code",
   "execution_count": 21,
   "metadata": {},
   "outputs": [
    {
     "name": "stdout",
     "output_type": "stream",
     "text": [
      "recipient           object\n",
      "silo_nr             object\n",
      "delivery_date        int64\n",
      "prod_hier_1         object\n",
      "prod_hier_2         object\n",
      "prod_group          object\n",
      "prod_group_name     object\n",
      "delivery_nr        float64\n",
      "kg_delivered        object\n",
      "kg_ordered          object\n",
      "prev_date            int64\n",
      "difference         float64\n",
      "dtype: object\n"
     ]
    }
   ],
   "source": [
    "print(df.dtypes)"
   ]
  },
  {
   "cell_type": "code",
   "execution_count": 22,
   "metadata": {},
   "outputs": [],
   "source": [
    "# Turn all columns into the right type\n",
    "df[\"recipient\"] = df[\"recipient\"].astype(\"float32\")\n",
    "df[\"silo_nr\"] = df[\"silo_nr\"].astype(\"float32\")\n",
    "df[\"delivery_date\"] = df[\"delivery_date\"].astype(\"float32\")\n",
    "df[\"prod_hier_1\"] = df[\"prod_hier_1\"].astype(\"category\")\n",
    "df[\"prod_hier_2\"] = df[\"prod_hier_2\"].astype(\"category\")\n",
    "df[\"prod_group\"] = df[\"prod_group\"].astype(\"float32\")\n",
    "df[\"prod_group_name\"] = df[\"prod_group_name\"].astype(\"category\")\n",
    "df[\"delivery_nr\"] = df[\"delivery_nr\"].astype(\"float32\")\n",
    "df[\"kg_delivered\"] = df[\"kg_delivered\"].astype(\"float32\")\n",
    "df[\"kg_ordered\"] = df[\"kg_ordered\"].astype(\"float32\")\n",
    "df[\"prev_date\"] = df[\"prev_date\"].astype(\"float32\")\n",
    "df[\"difference\"] = df[\"difference\"].astype(\"float32\")"
   ]
  },
  {
   "cell_type": "code",
   "execution_count": 23,
   "metadata": {},
   "outputs": [
    {
     "name": "stdout",
     "output_type": "stream",
     "text": [
      "recipient           float32\n",
      "silo_nr             float32\n",
      "delivery_date       float32\n",
      "prod_hier_1        category\n",
      "prod_hier_2        category\n",
      "prod_group          float32\n",
      "prod_group_name    category\n",
      "delivery_nr         float32\n",
      "kg_delivered        float32\n",
      "kg_ordered          float32\n",
      "prev_date           float32\n",
      "difference          float32\n",
      "dtype: object\n"
     ]
    }
   ],
   "source": [
    "print(df.dtypes)"
   ]
  },
  {
   "cell_type": "code",
   "execution_count": null,
   "metadata": {},
   "outputs": [],
   "source": []
  },
  {
   "cell_type": "code",
   "execution_count": 24,
   "metadata": {},
   "outputs": [],
   "source": [
    "# Drop any row without a silo number\n",
    "df.drop(df[pd.isna(df.silo_nr) == True].index, inplace=True)\n",
    "df.reset_index(drop=True, inplace=True)"
   ]
  },
  {
   "cell_type": "code",
   "execution_count": null,
   "metadata": {},
   "outputs": [],
   "source": []
  },
  {
   "cell_type": "code",
   "execution_count": 25,
   "metadata": {},
   "outputs": [],
   "source": [
    "# Create an array of all product hierarchy 1's\n",
    "prod_hier_1 = df[\"prod_hier_1\"]\n",
    "prod_hier_1 = np.asarray(prod_hier_1)"
   ]
  },
  {
   "cell_type": "code",
   "execution_count": 26,
   "metadata": {},
   "outputs": [],
   "source": [
    "# One-hot encode the product category level 1 feature\n",
    "label_encoder = LabelEncoder()\n",
    "integer_encoded = label_encoder.fit_transform(prod_hier_1)\n",
    "\n",
    "onehot_encoder = OneHotEncoder(sparse=False)\n",
    "integer_encoded = integer_encoded.reshape(len(integer_encoded), 1)\n",
    "onehot_encoded = onehot_encoder.fit_transform(integer_encoded)"
   ]
  },
  {
   "cell_type": "code",
   "execution_count": 27,
   "metadata": {},
   "outputs": [],
   "source": [
    "encoded = pd.DataFrame(onehot_encoded, columns=[\"RU Geit\", \"RU Grond\", \"RU Kalv\", \n",
    "                                                \"RU Melkv\", \"RU Vlvee\", \"Rundvee\"])"
   ]
  },
  {
   "cell_type": "code",
   "execution_count": 28,
   "metadata": {},
   "outputs": [],
   "source": [
    "# Add the one-hot encoded feature to the dataframe\n",
    "result = pd.concat([df, encoded], axis=1)\n",
    "df = result"
   ]
  },
  {
   "cell_type": "code",
   "execution_count": null,
   "metadata": {},
   "outputs": [],
   "source": []
  },
  {
   "cell_type": "code",
   "execution_count": 29,
   "metadata": {},
   "outputs": [],
   "source": [
    "df.to_pickle(\"df_final1.pkl\")"
   ]
  }
 ],
 "metadata": {
  "kernelspec": {
   "display_name": "Python 3",
   "language": "python",
   "name": "python3"
  },
  "language_info": {
   "codemirror_mode": {
    "name": "ipython",
    "version": 3
   },
   "file_extension": ".py",
   "mimetype": "text/x-python",
   "name": "python",
   "nbconvert_exporter": "python",
   "pygments_lexer": "ipython3",
   "version": "3.8.3"
  }
 },
 "nbformat": 4,
 "nbformat_minor": 4
}
