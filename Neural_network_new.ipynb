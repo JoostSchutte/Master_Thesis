{
 "cells": [
  {
   "cell_type": "code",
   "execution_count": 1,
   "metadata": {},
   "outputs": [],
   "source": [
    "import numpy as np\n",
    "import pandas as pd\n",
    "import sklearn\n",
    "import matplotlib\n",
    "import tensorflow as tf\n",
    "import tensorflow.keras as keras\n",
    "import pickle\n",
    "import os\n",
    "import time\n",
    "import sys\n",
    "import warnings\n",
    "\n",
    "from sklearn.model_selection import train_test_split\n",
    "from sklearn.preprocessing import OneHotEncoder, LabelEncoder, RobustScaler\n",
    "from sklearn.decomposition import PCA\n",
    "from sklearn.metrics import mean_squared_error\n",
    "from sklearn.linear_model import LinearRegression\n",
    "import matplotlib.pyplot as plt\n",
    "from tensorflow.keras import Sequential, optimizers, layers, metrics, models, regularizers\n",
    "\n",
    "warnings.filterwarnings(\"ignore\")"
   ]
  },
  {
   "cell_type": "code",
   "execution_count": 2,
   "metadata": {},
   "outputs": [],
   "source": [
    "# Create a function to plot smoothed metric and loss curves\n",
    "def smooth_curve(points, factor=0.9):\n",
    "    smoothed_points = []\n",
    "    for point in points:\n",
    "        if smoothed_points:\n",
    "            previous = smoothed_points[-1]\n",
    "            smoothed_points.append(previous * factor + point * (1 - factor))\n",
    "        else:\n",
    "            smoothed_points.append(point)\n",
    "    return smoothed_points"
   ]
  },
  {
   "cell_type": "code",
   "execution_count": null,
   "metadata": {},
   "outputs": [],
   "source": []
  },
  {
   "cell_type": "code",
   "execution_count": 3,
   "metadata": {},
   "outputs": [],
   "source": [
    "df = pd.read_pickle(\"Data/df_final1.pkl\")"
   ]
  },
  {
   "cell_type": "code",
   "execution_count": 4,
   "metadata": {},
   "outputs": [],
   "source": [
    "df_nn_cat = df.copy()"
   ]
  },
  {
   "cell_type": "code",
   "execution_count": null,
   "metadata": {},
   "outputs": [],
   "source": []
  },
  {
   "cell_type": "code",
   "execution_count": 5,
   "metadata": {},
   "outputs": [],
   "source": [
    "X = df_nn_cat.loc[:, [\"prev_date\", \"kg_ordered\", \"prod_group\", \"silo_nr\", \"kg_delivered\",\n",
    "                      \"RU Geit\", \"RU Grond\", \"RU Kalv\", \"RU Melkv\", \"RU Vlvee\", \"Rundvee\"]]\n",
    "\n",
    "y = df_nn_cat[\"difference\"]"
   ]
  },
  {
   "cell_type": "code",
   "execution_count": 6,
   "metadata": {},
   "outputs": [],
   "source": [
    "X_train, X_test, y_train, y_test = train_test_split(X, y, test_size=0.1, random_state=42)"
   ]
  },
  {
   "cell_type": "code",
   "execution_count": 7,
   "metadata": {},
   "outputs": [],
   "source": [
    "X_train, X_val, y_train, y_val = train_test_split(X_train, y_train, test_size=0.15, random_state=42)"
   ]
  },
  {
   "cell_type": "code",
   "execution_count": null,
   "metadata": {},
   "outputs": [],
   "source": []
  },
  {
   "cell_type": "code",
   "execution_count": 8,
   "metadata": {},
   "outputs": [],
   "source": [
    "scaler = RobustScaler()\n",
    "\n",
    "X_train = scaler.fit_transform(X_train)\n",
    "y_train = scaler.fit_transform(np.asarray(y_train).reshape(-1,1))\n",
    "\n",
    "X_test = scaler.fit_transform(X_test)\n",
    "y_test = scaler.fit_transform(np.asarray(y_test).reshape(-1,1))\n",
    "\n",
    "X_val = scaler.fit_transform(X_val)\n",
    "y_val = scaler.fit_transform(np.asarray(y_val).reshape(-1,1))"
   ]
  },
  {
   "cell_type": "code",
   "execution_count": null,
   "metadata": {},
   "outputs": [],
   "source": []
  },
  {
   "cell_type": "code",
   "execution_count": 9,
   "metadata": {},
   "outputs": [],
   "source": [
    "model = Sequential()\n",
    "model.add(layers.Dense(16, input_shape=(11,), activation=\"sigmoid\", kernel_regularizer=regularizers.l2(0.0001)))\n",
    "model.add(layers.BatchNormalization())\n",
    "model.add(layers.Dropout(0.5))\n",
    "model.add(layers.Dense(16, activation=\"sigmoid\", kernel_regularizer=regularizers.l2(0.0001)))\n",
    "model.add(layers.BatchNormalization())\n",
    "model.add(layers.Dropout(0.5))\n",
    "model.add(layers.Dense(1))"
   ]
  },
  {
   "cell_type": "code",
   "execution_count": 10,
   "metadata": {},
   "outputs": [
    {
     "name": "stdout",
     "output_type": "stream",
     "text": [
      "Model: \"sequential\"\n",
      "_________________________________________________________________\n",
      "Layer (type)                 Output Shape              Param #   \n",
      "=================================================================\n",
      "dense (Dense)                (None, 16)                192       \n",
      "_________________________________________________________________\n",
      "batch_normalization (BatchNo (None, 16)                64        \n",
      "_________________________________________________________________\n",
      "dropout (Dropout)            (None, 16)                0         \n",
      "_________________________________________________________________\n",
      "dense_1 (Dense)              (None, 16)                272       \n",
      "_________________________________________________________________\n",
      "batch_normalization_1 (Batch (None, 16)                64        \n",
      "_________________________________________________________________\n",
      "dropout_1 (Dropout)          (None, 16)                0         \n",
      "_________________________________________________________________\n",
      "dense_2 (Dense)              (None, 1)                 17        \n",
      "=================================================================\n",
      "Total params: 609\n",
      "Trainable params: 545\n",
      "Non-trainable params: 64\n",
      "_________________________________________________________________\n"
     ]
    }
   ],
   "source": [
    "model.summary()"
   ]
  },
  {
   "cell_type": "code",
   "execution_count": 11,
   "metadata": {
    "scrolled": true
   },
   "outputs": [
    {
     "name": "stdout",
     "output_type": "stream",
     "text": [
      "Epoch 1/15\n",
      "13322/13322 [==============================] - 25s 2ms/step - loss: 5.2755 - root_mean_squared_error: 2.2961 - val_loss: 3.2033 - val_root_mean_squared_error: 1.7889\n",
      "Epoch 2/15\n",
      "13322/13322 [==============================] - 25s 2ms/step - loss: 4.4733 - root_mean_squared_error: 2.1143 - val_loss: 3.1974 - val_root_mean_squared_error: 1.7872\n",
      "Epoch 3/15\n",
      "13322/13322 [==============================] - 21s 2ms/step - loss: 4.2073 - root_mean_squared_error: 2.0504 - val_loss: 3.1947 - val_root_mean_squared_error: 1.7865\n",
      "Epoch 4/15\n",
      "13322/13322 [==============================] - 21s 2ms/step - loss: 4.0577 - root_mean_squared_error: 2.0136 - val_loss: 3.1934 - val_root_mean_squared_error: 1.7861\n",
      "Epoch 5/15\n",
      "13322/13322 [==============================] - 22s 2ms/step - loss: 3.9480 - root_mean_squared_error: 1.9861 - val_loss: 3.1933 - val_root_mean_squared_error: 1.7861\n",
      "Epoch 6/15\n",
      "13322/13322 [==============================] - 21s 2ms/step - loss: 3.8640 - root_mean_squared_error: 1.9649 - val_loss: 3.1928 - val_root_mean_squared_error: 1.7859\n",
      "Epoch 7/15\n",
      "13322/13322 [==============================] - 23s 2ms/step - loss: 3.8051 - root_mean_squared_error: 1.9498 - val_loss: 3.1925 - val_root_mean_squared_error: 1.7858\n",
      "Epoch 8/15\n",
      "13322/13322 [==============================] - 17s 1ms/step - loss: 3.7607 - root_mean_squared_error: 1.9384 - val_loss: 3.1922 - val_root_mean_squared_error: 1.7858\n",
      "Epoch 9/15\n",
      "13322/13322 [==============================] - 19s 1ms/step - loss: 3.7195 - root_mean_squared_error: 1.9278 - val_loss: 3.1923 - val_root_mean_squared_error: 1.7858\n",
      "Epoch 10/15\n",
      "13322/13322 [==============================] - 18s 1ms/step - loss: 3.6917 - root_mean_squared_error: 1.9205 - val_loss: 3.1921 - val_root_mean_squared_error: 1.7858\n",
      "Epoch 11/15\n",
      "13322/13322 [==============================] - 14s 1ms/step - loss: 3.6707 - root_mean_squared_error: 1.9151 - val_loss: 3.1920 - val_root_mean_squared_error: 1.7857\n",
      "Epoch 12/15\n",
      "13322/13322 [==============================] - 12s 888us/step - loss: 3.6451 - root_mean_squared_error: 1.9084 - val_loss: 3.1922 - val_root_mean_squared_error: 1.7858\n",
      "Epoch 13/15\n",
      "13322/13322 [==============================] - 11s 850us/step - loss: 3.6244 - root_mean_squared_error: 1.9030 - val_loss: 3.1921 - val_root_mean_squared_error: 1.7857\n",
      "Epoch 14/15\n",
      "13322/13322 [==============================] - 14s 1ms/step - loss: 3.6100 - root_mean_squared_error: 1.8992 - val_loss: 3.1923 - val_root_mean_squared_error: 1.7858\n",
      "Epoch 15/15\n",
      "13322/13322 [==============================] - 12s 928us/step - loss: 3.5980 - root_mean_squared_error: 1.8960 - val_loss: 3.1922 - val_root_mean_squared_error: 1.7858\n"
     ]
    }
   ],
   "source": [
    "model.compile(optimizer=\"adagrad\", loss='mean_squared_error', metrics=tf.keras.metrics.RootMeanSquaredError())\n",
    "history = model.fit(X_train, y_train, epochs=15, validation_data=(X_val, y_val), use_multiprocessing=True)"
   ]
  },
  {
   "cell_type": "code",
   "execution_count": 12,
   "metadata": {},
   "outputs": [
    {
     "data": {
      "image/png": "[encoded data removed]",
      "text/plain": [
       "<Figure size 432x288 with 1 Axes>"
      ]
     },
     "metadata": {
      "needs_background": "light"
     },
     "output_type": "display_data"
    },
    {
     "data": {
      "image/png": "[encoded data removed]",
      "text/plain": [
       "<Figure size 432x288 with 1 Axes>"
      ]
     },
     "metadata": {
      "needs_background": "light"
     },
     "output_type": "display_data"
    }
   ],
   "source": [
    "rmse_history = history.history[\"root_mean_squared_error\"]\n",
    "val_rmse_history = history.history[\"val_root_mean_squared_error\"]\n",
    "\n",
    "plt.plot(range(1, len(rmse_history) + 1), rmse_history)\n",
    "plt.plot(range(1, len(val_rmse_history) + 1), val_rmse_history)\n",
    "plt.xlabel(\"Epochs\")\n",
    "plt.ylabel(\"RMSE\")\n",
    "plt.legend([\"training\", \"validation\"])\n",
    "plt.show()\n",
    "\n",
    "loss_history = history.history[\"loss\"]\n",
    "val_loss_history = history.history[\"val_loss\"]\n",
    "\n",
    "plt.plot(range(1, len(loss_history) + 1), loss_history)\n",
    "plt.plot(range(1, len(val_loss_history) + 1), val_loss_history)\n",
    "plt.xlabel(\"Epochs\")\n",
    "plt.ylabel(\"Loss\")\n",
    "plt.legend([\"training\", \"validation\"])\n",
    "plt.show()"
   ]
  },
  {
   "cell_type": "code",
   "execution_count": 13,
   "metadata": {},
   "outputs": [
    {
     "data": {
      "image/png": "[encoded data removed]",
      "text/plain": [
       "<Figure size 432x288 with 1 Axes>"
      ]
     },
     "metadata": {
      "needs_background": "light"
     },
     "output_type": "display_data"
    },
    {
     "data": {
      "image/png": "[encoded data removed]",
      "text/plain": [
       "<Figure size 432x288 with 1 Axes>"
      ]
     },
     "metadata": {
      "needs_background": "light"
     },
     "output_type": "display_data"
    }
   ],
   "source": [
    "smooth_rmse_history = smooth_curve(rmse_history)\n",
    "smooth_val_rmse_history = smooth_curve(val_rmse_history)\n",
    "\n",
    "plt.plot(range(1, len(smooth_rmse_history) + 1), smooth_rmse_history)\n",
    "plt.plot(range(1, len(smooth_val_rmse_history) + 1), smooth_val_rmse_history)\n",
    "plt.xlabel(\"Epochs\")\n",
    "plt.ylabel(\"RMSE\")\n",
    "plt.legend([\"training\", \"validation\"])\n",
    "plt.show()\n",
    "\n",
    "smooth_loss_history = smooth_curve(loss_history)\n",
    "smooth_val_loss_history = smooth_curve(val_loss_history)\n",
    "\n",
    "plt.plot(range(1, len(smooth_loss_history) + 1), smooth_loss_history)\n",
    "plt.plot(range(1, len(smooth_val_loss_history) + 1), smooth_val_loss_history)\n",
    "plt.xlabel(\"Epochs\")\n",
    "plt.ylabel(\"Loss\")\n",
    "plt.legend([\"training\", \"validation\"])\n",
    "plt.show()"
   ]
  },
  {
   "cell_type": "code",
   "execution_count": null,
   "metadata": {},
   "outputs": [],
   "source": []
  },
  {
   "cell_type": "code",
   "execution_count": 14,
   "metadata": {},
   "outputs": [
    {
     "name": "stdout",
     "output_type": "stream",
     "text": [
      "2351/2351 [==============================] - 1s 559us/step - loss: 3.1922 - root_mean_squared_error: 1.7858\n"
     ]
    }
   ],
   "source": [
    "model.evaluate(X_val, y_val)"
   ]
  },
  {
   "cell_type": "code",
   "execution_count": 16,
   "metadata": {},
   "outputs": [
    {
     "name": "stdout",
     "output_type": "stream",
     "text": [
      "1742/1742 [==============================] - 1s 669us/step - loss: 3.3869 - root_mean_squared_error: 1.8395\n"
     ]
    }
   ],
   "source": [
    "model.evaluate(X_test, y_test)"
   ]
  },
  {
   "cell_type": "code",
   "execution_count": null,
   "metadata": {},
   "outputs": [],
   "source": []
  },
  {
   "cell_type": "code",
   "execution_count": 18,
   "metadata": {},
   "outputs": [],
   "source": [
    "val_pred = model.predict(X_val).ravel()\n",
    "test_pred = model.predict(X_test).ravel()"
   ]
  },
  {
   "cell_type": "code",
   "execution_count": 20,
   "metadata": {},
   "outputs": [
    {
     "name": "stdout",
     "output_type": "stream",
     "text": [
      "RMSE on validation set: 21.429184\n",
      "RMSE on test set: 22.073732\n"
     ]
    }
   ],
   "source": [
    "inv_val_pred = scaler.inverse_transform(val_pred.reshape(-1, 1))\n",
    "inv_y_val = scaler.inverse_transform(y_val.reshape(-1, 1))\n",
    "\n",
    "inv_test_pred = scaler.inverse_transform(test_pred.reshape(-1, 1))\n",
    "inv_y_test = scaler.inverse_transform(y_test.reshape(-1, 1))\n",
    "\n",
    "mse_val = mean_squared_error(inv_y_val, inv_val_pred)\n",
    "mse_test = mean_squared_error(inv_y_test, inv_test_pred)\n",
    "\n",
    "print(\"RMSE on validation set:\", np.sqrt(mse_val))\n",
    "print(\"RMSE on test set:\", np.sqrt(mse_test))"
   ]
  },
  {
   "cell_type": "code",
   "execution_count": null,
   "metadata": {},
   "outputs": [],
   "source": []
  },
  {
   "cell_type": "code",
   "execution_count": 21,
   "metadata": {},
   "outputs": [],
   "source": [
    "percentages = []\n",
    "\n",
    "for idx, val in enumerate(inv_test_pred):\n",
    "    perc = np.abs(val-inv_y_test[idx])/inv_y_test[idx]\n",
    "    percentages.append(perc[0])"
   ]
  },
  {
   "cell_type": "code",
   "execution_count": 22,
   "metadata": {},
   "outputs": [
    {
     "name": "stdout",
     "output_type": "stream",
     "text": [
      "Minimum percent error: 0.0\n",
      "Maximum percent error: 21.139999389648438\n",
      "Mean percent error: 1.0399999618530273\n"
     ]
    }
   ],
   "source": [
    "print(f\"Minimum percent error: {np.round(np.min(percentages),2)}\")\n",
    "print(f\"Maximum percent error: {np.round(np.max(percentages),2)}\")\n",
    "print(f\"Mean percent error: {np.round(np.mean(percentages),2)}\")"
   ]
  },
  {
   "cell_type": "code",
   "execution_count": 23,
   "metadata": {},
   "outputs": [
    {
     "data": {
      "image/png": "[encoded data removed]",
      "text/plain": [
       "<Figure size 432x288 with 1 Axes>"
      ]
     },
     "metadata": {
      "needs_background": "light"
     },
     "output_type": "display_data"
    }
   ],
   "source": [
    "percentages = np.asarray(percentages)\n",
    "\n",
    "plt.hist(percentages.clip(min=0, max=1.1), range=[0,1.1], bins=11)\n",
    "plt.show()"
   ]
  },
  {
   "cell_type": "code",
   "execution_count": 24,
   "metadata": {},
   "outputs": [
    {
     "name": "stdout",
     "output_type": "stream",
     "text": [
      "Number of orders with a percent error lower than 0.5: 34770\n",
      "Percentage of orders with a percent error lower than 0.5: 0.62\n"
     ]
    }
   ],
   "source": [
    "lower = []\n",
    "\n",
    "for i in percentages:\n",
    "    if i <= 0.5:\n",
    "        lower.append(i)\n",
    "\n",
    "print(f\"Number of orders with a percent error lower than 0.5: {len(lower)}\")\n",
    "print(f\"Percentage of orders with a percent error lower than 0.5: {np.round(len(lower)/len(percentages),2)}\")"
   ]
  },
  {
   "cell_type": "code",
   "execution_count": null,
   "metadata": {},
   "outputs": [],
   "source": []
  },
  {
   "cell_type": "code",
   "execution_count": 25,
   "metadata": {},
   "outputs": [],
   "source": [
    "differences = []\n",
    "\n",
    "for idx, val in enumerate(inv_y_test):\n",
    "    differences.append(np.abs(val[0]-inv_test_pred[idx][0]))"
   ]
  },
  {
   "cell_type": "code",
   "execution_count": 26,
   "metadata": {},
   "outputs": [],
   "source": [
    "within_1 = [1 if np.round(diff) <= 1 else 0 for diff in differences]\n",
    "within_3 = [1 if np.round(diff) <= 3 else 0 for diff in differences]\n",
    "within_5 = [1 if np.round(diff) <= 5 else 0 for diff in differences]\n",
    "within_7 = [1 if np.round(diff) <= 7 else 0 for diff in differences]"
   ]
  },
  {
   "cell_type": "code",
   "execution_count": 27,
   "metadata": {},
   "outputs": [
    {
     "name": "stdout",
     "output_type": "stream",
     "text": [
      "Percentage of orders predicted correctly within 1 day: 0.12\n",
      "Percentage of orders predicted correctly within 3 days: 0.28\n",
      "Percentage of orders predicted correctly within 5 days: 0.44\n",
      "Percentage of orders predicted correctly within 7 days: 0.57\n"
     ]
    }
   ],
   "source": [
    "print(f\"Percentage of orders predicted correctly within 1 day: {np.round(np.sum(within_1)/len(differences),2)}\")\n",
    "print(f\"Percentage of orders predicted correctly within 3 days: {np.round(np.sum(within_3)/len(differences),2)}\")\n",
    "print(f\"Percentage of orders predicted correctly within 5 days: {np.round(np.sum(within_5)/len(differences),2)}\")\n",
    "print(f\"Percentage of orders predicted correctly within 7 days: {np.round(np.sum(within_7)/len(differences),2)}\")"
   ]
  }
 ],
 "metadata": {
  "kernelspec": {
   "display_name": "Python 3",
   "language": "python",
   "name": "python3"
  },
  "language_info": {
   "codemirror_mode": {
    "name": "ipython",
    "version": 3
   },
   "file_extension": ".py",
   "mimetype": "text/x-python",
   "name": "python",
   "nbconvert_exporter": "python",
   "pygments_lexer": "ipython3",
   "version": "3.8.3"
  }
 },
 "nbformat": 4,
 "nbformat_minor": 4
}
