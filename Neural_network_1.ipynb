{
 "cells": [
  {
   "cell_type": "code",
   "execution_count": 1,
   "metadata": {},
   "outputs": [],
   "source": [
    "import numpy as np\n",
    "import pandas as pd\n",
    "import sklearn\n",
    "import matplotlib\n",
    "import tensorflow as tf\n",
    "import tensorflow.keras as keras\n",
    "import pickle\n",
    "import os\n",
    "import time\n",
    "import sys\n",
    "import warnings\n",
    "\n",
    "from sklearn.model_selection import train_test_split\n",
    "from sklearn.preprocessing import OneHotEncoder, LabelEncoder, RobustScaler\n",
    "from sklearn.decomposition import PCA\n",
    "from sklearn.metrics import mean_squared_error\n",
    "from sklearn.linear_model import LinearRegression\n",
    "import matplotlib.pyplot as plt\n",
    "from tensorflow.keras import Sequential, optimizers, layers, metrics, models, regularizers\n",
    "\n",
    "warnings.filterwarnings(\"ignore\")"
   ]
  },
  {
   "cell_type": "code",
   "execution_count": 2,
   "metadata": {},
   "outputs": [],
   "source": [
    "# Create a function to plot smoothed metric and loss curves\n",
    "def smooth_curve(points, factor=0.9):\n",
    "    smoothed_points = []\n",
    "    for point in points:\n",
    "        if smoothed_points:\n",
    "            previous = smoothed_points[-1]\n",
    "            smoothed_points.append(previous * factor + point * (1 - factor))\n",
    "        else:\n",
    "            smoothed_points.append(point)\n",
    "    return smoothed_points"
   ]
  },
  {
   "cell_type": "code",
   "execution_count": null,
   "metadata": {},
   "outputs": [],
   "source": []
  },
  {
   "cell_type": "code",
   "execution_count": 3,
   "metadata": {},
   "outputs": [],
   "source": [
    "df = pd.read_pickle(\"Data/df_final1.pkl\")"
   ]
  },
  {
   "cell_type": "code",
   "execution_count": 4,
   "metadata": {},
   "outputs": [],
   "source": [
    "df_nn_cat = df.copy()"
   ]
  },
  {
   "cell_type": "code",
   "execution_count": null,
   "metadata": {},
   "outputs": [],
   "source": []
  },
  {
   "cell_type": "code",
   "execution_count": 5,
   "metadata": {},
   "outputs": [],
   "source": [
    "X = df_nn_cat.loc[:, [\"prev_date\", \"kg_ordered\", \"prod_group\", \"silo_nr\", \"kg_delivered\",\n",
    "                      \"RU Geit\", \"RU Grond\", \"RU Kalv\", \"RU Melkv\", \"RU Vlvee\", \"Rundvee\"]]\n",
    "\n",
    "y = df_nn_cat[\"difference\"]"
   ]
  },
  {
   "cell_type": "code",
   "execution_count": 6,
   "metadata": {},
   "outputs": [],
   "source": [
    "X_train, X_test, y_train, y_test = train_test_split(X, y, test_size=0.1, random_state=42)"
   ]
  },
  {
   "cell_type": "code",
   "execution_count": 7,
   "metadata": {},
   "outputs": [],
   "source": [
    "X_train, X_val, y_train, y_val = train_test_split(X_train, y_train, test_size=0.15, random_state=42)"
   ]
  },
  {
   "cell_type": "code",
   "execution_count": null,
   "metadata": {},
   "outputs": [],
   "source": []
  },
  {
   "cell_type": "code",
   "execution_count": 8,
   "metadata": {},
   "outputs": [],
   "source": [
    "# Scale all features using Robust Scaler\n",
    "scaler = RobustScaler()\n",
    "\n",
    "X_train = scaler.fit_transform(X_train)\n",
    "y_train = scaler.fit_transform(np.asarray(y_train).reshape(-1,1))\n",
    "\n",
    "X_test = scaler.fit_transform(X_test)\n",
    "y_test = scaler.fit_transform(np.asarray(y_test).reshape(-1,1))\n",
    "\n",
    "X_val = scaler.fit_transform(X_val)\n",
    "y_val = scaler.fit_transform(np.asarray(y_val).reshape(-1,1))"
   ]
  },
  {
   "cell_type": "code",
   "execution_count": null,
   "metadata": {},
   "outputs": [],
   "source": []
  },
  {
   "cell_type": "code",
   "execution_count": 9,
   "metadata": {},
   "outputs": [],
   "source": [
    "# Create the neural network\n",
    "model = Sequential()\n",
    "model.add(layers.Dense(16, input_shape=(11,), activation=\"linear\"))\n",
    "model.add(layers.Dense(16, activation=\"linear\"))\n",
    "model.add(layers.Dense(16, activation=\"linear\"))\n",
    "model.add(layers.Dense(16, activation=\"linear\"))\n",
    "model.add(layers.Dense(16, activation=\"linear\"))\n",
    "model.add(layers.Dense(1))"
   ]
  },
  {
   "cell_type": "code",
   "execution_count": 10,
   "metadata": {},
   "outputs": [
    {
     "name": "stdout",
     "output_type": "stream",
     "text": [
      "Model: \"sequential\"\n",
      "_________________________________________________________________\n",
      "Layer (type)                 Output Shape              Param #   \n",
      "=================================================================\n",
      "dense (Dense)                (None, 16)                192       \n",
      "_________________________________________________________________\n",
      "dense_1 (Dense)              (None, 16)                272       \n",
      "_________________________________________________________________\n",
      "dense_2 (Dense)              (None, 16)                272       \n",
      "_________________________________________________________________\n",
      "dense_3 (Dense)              (None, 16)                272       \n",
      "_________________________________________________________________\n",
      "dense_4 (Dense)              (None, 16)                272       \n",
      "_________________________________________________________________\n",
      "dense_5 (Dense)              (None, 1)                 17        \n",
      "=================================================================\n",
      "Total params: 1,297\n",
      "Trainable params: 1,297\n",
      "Non-trainable params: 0\n",
      "_________________________________________________________________\n"
     ]
    }
   ],
   "source": [
    "model.summary()"
   ]
  },
  {
   "cell_type": "code",
   "execution_count": 11,
   "metadata": {
    "scrolled": true
   },
   "outputs": [
    {
     "name": "stdout",
     "output_type": "stream",
     "text": [
      "Epoch 1/15\n",
      "13322/13322 [==============================] - 12s 854us/step - loss: 3.4344 - root_mean_squared_error: 1.8532 - val_loss: 3.2045 - val_root_mean_squared_error: 1.7901\n",
      "Epoch 2/15\n",
      "13322/13322 [==============================] - 13s 994us/step - loss: 3.4265 - root_mean_squared_error: 1.8511 - val_loss: 3.2029 - val_root_mean_squared_error: 1.7897\n",
      "Epoch 3/15\n",
      "13322/13322 [==============================] - 13s 949us/step - loss: 3.4263 - root_mean_squared_error: 1.8510 - val_loss: 3.1894 - val_root_mean_squared_error: 1.7859\n",
      "Epoch 4/15\n",
      "13322/13322 [==============================] - 12s 876us/step - loss: 3.4252 - root_mean_squared_error: 1.8507 - val_loss: 3.1864 - val_root_mean_squared_error: 1.7850\n",
      "Epoch 5/15\n",
      "13322/13322 [==============================] - 11s 853us/step - loss: 3.4247 - root_mean_squared_error: 1.8506 - val_loss: 3.1873 - val_root_mean_squared_error: 1.7853\n",
      "Epoch 6/15\n",
      "13322/13322 [==============================] - 12s 919us/step - loss: 3.4237 - root_mean_squared_error: 1.8503 - val_loss: 3.1851 - val_root_mean_squared_error: 1.7847\n",
      "Epoch 7/15\n",
      "13322/13322 [==============================] - 13s 973us/step - loss: 3.4236 - root_mean_squared_error: 1.8503 - val_loss: 3.1927 - val_root_mean_squared_error: 1.7868\n",
      "Epoch 8/15\n",
      "13322/13322 [==============================] - 13s 990us/step - loss: 3.4237 - root_mean_squared_error: 1.8503 - val_loss: 3.1874 - val_root_mean_squared_error: 1.7853\n",
      "Epoch 9/15\n",
      "13322/13322 [==============================] - 14s 1ms/step - loss: 3.4235 - root_mean_squared_error: 1.8503 - val_loss: 3.1875 - val_root_mean_squared_error: 1.7853\n",
      "Epoch 10/15\n",
      "13322/13322 [==============================] - 13s 973us/step - loss: 3.4241 - root_mean_squared_error: 1.8504 - val_loss: 3.1861 - val_root_mean_squared_error: 1.7850\n",
      "Epoch 11/15\n",
      "13322/13322 [==============================] - 14s 1ms/step - loss: 3.4237 - root_mean_squared_error: 1.8503 - val_loss: 3.1852 - val_root_mean_squared_error: 1.7847\n",
      "Epoch 12/15\n",
      "13322/13322 [==============================] - 11s 834us/step - loss: 3.4234 - root_mean_squared_error: 1.8503 - val_loss: 3.1906 - val_root_mean_squared_error: 1.7862\n",
      "Epoch 13/15\n",
      "13322/13322 [==============================] - 10s 762us/step - loss: 3.4241 - root_mean_squared_error: 1.8504 - val_loss: 3.1899 - val_root_mean_squared_error: 1.7860\n",
      "Epoch 14/15\n",
      "13322/13322 [==============================] - 11s 814us/step - loss: 3.4232 - root_mean_squared_error: 1.8502 - val_loss: 3.1845 - val_root_mean_squared_error: 1.7845\n",
      "Epoch 15/15\n",
      "13322/13322 [==============================] - 11s 837us/step - loss: 3.4231 - root_mean_squared_error: 1.8501 - val_loss: 3.1861 - val_root_mean_squared_error: 1.7850\n"
     ]
    }
   ],
   "source": [
    "# Compile and fit the model\n",
    "model.compile(optimizer=\"adam\", loss='mean_squared_error', metrics=tf.keras.metrics.RootMeanSquaredError())\n",
    "history = model.fit(X_train, y_train, epochs=15, validation_data=(X_val, y_val))"
   ]
  },
  {
   "cell_type": "code",
   "execution_count": 12,
   "metadata": {},
   "outputs": [
    {
     "data": {
      "image/png": "[encoded data removed]",
      "text/plain": [
       "<Figure size 432x288 with 1 Axes>"
      ]
     },
     "metadata": {
      "needs_background": "light"
     },
     "output_type": "display_data"
    },
    {
     "data": {
      "image/png": "[encoded data removed]",
      "text/plain": [
       "<Figure size 432x288 with 1 Axes>"
      ]
     },
     "metadata": {
      "needs_background": "light"
     },
     "output_type": "display_data"
    }
   ],
   "source": [
    "# Plot RMSE and loss for the training and validation sets\n",
    "rmse_history = history.history[\"root_mean_squared_error\"]\n",
    "val_rmse_history = history.history[\"val_root_mean_squared_error\"]\n",
    "rmse_history = rmse_history[1:-1]\n",
    "val_rmse_history = val_rmse_history[1:-1]\n",
    "\n",
    "plt.plot(range(1, len(rmse_history) + 1), rmse_history)\n",
    "plt.plot(range(1, len(val_rmse_history) + 1), val_rmse_history)\n",
    "plt.xlabel(\"Epochs\")\n",
    "plt.ylabel(\"RMSE\")\n",
    "plt.legend([\"training\", \"validation\"])\n",
    "plt.show()\n",
    "\n",
    "loss_history = history.history[\"loss\"]\n",
    "val_loss_history = history.history[\"val_loss\"]\n",
    "loss_history = loss_history[1:-1]\n",
    "val_loss_history = val_loss_history[1:-1]\n",
    "\n",
    "plt.plot(range(1, len(loss_history) + 1), loss_history)\n",
    "plt.plot(range(1, len(val_loss_history) + 1), val_loss_history)\n",
    "plt.xlabel(\"Epochs\")\n",
    "plt.ylabel(\"Loss\")\n",
    "plt.legend([\"training\", \"validation\"])\n",
    "plt.show()"
   ]
  },
  {
   "cell_type": "code",
   "execution_count": 13,
   "metadata": {},
   "outputs": [
    {
     "data": {
      "image/png": "[encoded data removed]",
      "text/plain": [
       "<Figure size 432x288 with 1 Axes>"
      ]
     },
     "metadata": {
      "needs_background": "light"
     },
     "output_type": "display_data"
    },
    {
     "data": {
      "image/png": "[encoded data removed]",
      "text/plain": [
       "<Figure size 432x288 with 1 Axes>"
      ]
     },
     "metadata": {
      "needs_background": "light"
     },
     "output_type": "display_data"
    }
   ],
   "source": [
    "# Plot smoothed RMSE and loss for the training and validation sets\n",
    "smooth_rmse_history = smooth_curve(rmse_history)\n",
    "smooth_val_rmse_history = smooth_curve(val_rmse_history)\n",
    "\n",
    "plt.plot(range(1, len(smooth_rmse_history) + 1), smooth_rmse_history)\n",
    "plt.plot(range(1, len(smooth_val_rmse_history) + 1), smooth_val_rmse_history)\n",
    "plt.xlabel(\"Epochs\")\n",
    "plt.ylabel(\"RMSE\")\n",
    "plt.legend([\"training\", \"validation\"])\n",
    "plt.show()\n",
    "\n",
    "smooth_loss_history = smooth_curve(loss_history)\n",
    "smooth_val_loss_history = smooth_curve(val_loss_history)\n",
    "\n",
    "plt.plot(range(1, len(smooth_loss_history) + 1), smooth_loss_history)\n",
    "plt.plot(range(1, len(smooth_val_loss_history) + 1), smooth_val_loss_history)\n",
    "plt.xlabel(\"Epochs\")\n",
    "plt.ylabel(\"Loss\")\n",
    "plt.legend([\"training\", \"validation\"])\n",
    "plt.show()"
   ]
  },
  {
   "cell_type": "code",
   "execution_count": null,
   "metadata": {},
   "outputs": [],
   "source": []
  },
  {
   "cell_type": "code",
   "execution_count": 14,
   "metadata": {},
   "outputs": [
    {
     "name": "stdout",
     "output_type": "stream",
     "text": [
      "2351/2351 [==============================] - 1s 523us/step - loss: 3.1861 - root_mean_squared_error: 1.7850\n"
     ]
    }
   ],
   "source": [
    "# Evaluate model performance on the validation set\n",
    "model.evaluate(X_val, y_val)"
   ]
  },
  {
   "cell_type": "code",
   "execution_count": 16,
   "metadata": {},
   "outputs": [
    {
     "name": "stdout",
     "output_type": "stream",
     "text": [
      "1742/1742 [==============================] - 1s 522us/step - loss: 3.3741 - root_mean_squared_error: 1.8369\n"
     ]
    }
   ],
   "source": [
    "# Evaluate model performance on the test set\n",
    "model.evaluate(X_test, y_test)"
   ]
  },
  {
   "cell_type": "code",
   "execution_count": null,
   "metadata": {},
   "outputs": [],
   "source": []
  },
  {
   "cell_type": "code",
   "execution_count": 18,
   "metadata": {},
   "outputs": [],
   "source": [
    "# Create predictions for the validation and test sets\n",
    "val_pred = model.predict(X_val).ravel()\n",
    "test_pred = model.predict(X_test).ravel()"
   ]
  },
  {
   "cell_type": "code",
   "execution_count": 20,
   "metadata": {},
   "outputs": [
    {
     "name": "stdout",
     "output_type": "stream",
     "text": [
      "RMSE on validation set: 21.419643\n",
      "RMSE on test set: 22.042574\n"
     ]
    }
   ],
   "source": [
    "# Inverse transform the target variable and predictions for the validation and test sets\n",
    "inv_val_pred = scaler.inverse_transform(val_pred.reshape(-1, 1))\n",
    "inv_y_val = scaler.inverse_transform(y_val.reshape(-1, 1))\n",
    "\n",
    "inv_test_pred = scaler.inverse_transform(test_pred.reshape(-1, 1))\n",
    "inv_y_test = scaler.inverse_transform(y_test.reshape(-1, 1))\n",
    "\n",
    "mse_val = mean_squared_error(inv_y_val, inv_val_pred)\n",
    "mse_test = mean_squared_error(inv_y_test, inv_test_pred)\n",
    "\n",
    "print(\"RMSE on validation set:\", np.sqrt(mse_val))\n",
    "print(\"RMSE on test set:\", np.sqrt(mse_test))"
   ]
  },
  {
   "cell_type": "code",
   "execution_count": null,
   "metadata": {},
   "outputs": [],
   "source": []
  },
  {
   "cell_type": "code",
   "execution_count": 21,
   "metadata": {},
   "outputs": [],
   "source": [
    "percentages = []\n",
    "\n",
    "for idx, val in enumerate(inv_test_pred):\n",
    "    perc = np.abs(val-inv_y_test[idx])/inv_y_test[idx]\n",
    "    percentages.append(perc[0])"
   ]
  },
  {
   "cell_type": "code",
   "execution_count": 40,
   "metadata": {},
   "outputs": [
    {
     "name": "stdout",
     "output_type": "stream",
     "text": [
      "Minimum percent error: 0.0\n",
      "Maximum percent error: 24.110000610351562\n",
      "Mean percent error: 1.0399999618530273\n"
     ]
    }
   ],
   "source": [
    "print(f\"Minimum percent error: {np.round(np.min(percentages),2)}\")\n",
    "print(f\"Maximum percent error: {np.round(np.max(percentages),2)}\")\n",
    "print(f\"Mean percent error: {np.round(np.mean(percentages),2)}\")"
   ]
  },
  {
   "cell_type": "code",
   "execution_count": 23,
   "metadata": {},
   "outputs": [
    {
     "data": {
      "image/png": "[encoded data removed]",
      "text/plain": [
       "<Figure size 432x288 with 1 Axes>"
      ]
     },
     "metadata": {
      "needs_background": "light"
     },
     "output_type": "display_data"
    }
   ],
   "source": [
    "percentages = np.asarray(percentages)\n",
    "\n",
    "plt.hist(percentages.clip(min=0, max=1.1), range=[0,1.1], bins=11)\n",
    "plt.show()"
   ]
  },
  {
   "cell_type": "code",
   "execution_count": 24,
   "metadata": {},
   "outputs": [
    {
     "name": "stdout",
     "output_type": "stream",
     "text": [
      "Number of orders with a percent error lower than 0.5: 34731\n",
      "Percentage of orders with a percent error lower than 0.5: 0.62\n"
     ]
    }
   ],
   "source": [
    "lower = []\n",
    "\n",
    "for i in percentages:\n",
    "    if i <= 0.5:\n",
    "        lower.append(i)\n",
    "\n",
    "print(f\"Number of orders with a percent error lower than 0.5: {len(lower)}\")\n",
    "print(f\"Percentage of orders with a percent error lower than 0.5: {np.round(len(lower)/len(percentages),2)}\")"
   ]
  },
  {
   "cell_type": "code",
   "execution_count": null,
   "metadata": {},
   "outputs": [],
   "source": []
  },
  {
   "cell_type": "code",
   "execution_count": 25,
   "metadata": {},
   "outputs": [],
   "source": [
    "differences = []\n",
    "\n",
    "for idx, val in enumerate(inv_y_test):\n",
    "    differences.append(np.abs(val[0]-inv_test_pred[idx][0]))"
   ]
  },
  {
   "cell_type": "code",
   "execution_count": 26,
   "metadata": {},
   "outputs": [],
   "source": [
    "within_1 = [1 if np.round(diff) <= 1 else 0 for diff in differences]\n",
    "within_3 = [1 if np.round(diff) <= 3 else 0 for diff in differences]\n",
    "within_5 = [1 if np.round(diff) <= 5 else 0 for diff in differences]\n",
    "within_7 = [1 if np.round(diff) <= 7 else 0 for diff in differences]"
   ]
  },
  {
   "cell_type": "code",
   "execution_count": 27,
   "metadata": {},
   "outputs": [
    {
     "name": "stdout",
     "output_type": "stream",
     "text": [
      "Percentage of orders predicted correctly within 1 day: 0.12\n",
      "Percentage of orders predicted correctly within 3 days: 0.28\n",
      "Percentage of orders predicted correctly within 5 days: 0.44\n",
      "Percentage of orders predicted correctly within 7 days: 0.57\n"
     ]
    }
   ],
   "source": [
    "print(f\"Percentage of orders predicted correctly within 1 day: {np.round(np.sum(within_1)/len(differences),2)}\")\n",
    "print(f\"Percentage of orders predicted correctly within 3 days: {np.round(np.sum(within_3)/len(differences),2)}\")\n",
    "print(f\"Percentage of orders predicted correctly within 5 days: {np.round(np.sum(within_5)/len(differences),2)}\")\n",
    "print(f\"Percentage of orders predicted correctly within 7 days: {np.round(np.sum(within_7)/len(differences),2)}\")"
   ]
  }
 ],
 "metadata": {
  "kernelspec": {
   "display_name": "Python 3",
   "language": "python",
   "name": "python3"
  },
  "language_info": {
   "codemirror_mode": {
    "name": "ipython",
    "version": 3
   },
   "file_extension": ".py",
   "mimetype": "text/x-python",
   "name": "python",
   "nbconvert_exporter": "python",
   "pygments_lexer": "ipython3",
   "version": "3.8.3"
  }
 },
 "nbformat": 4,
 "nbformat_minor": 4
}
