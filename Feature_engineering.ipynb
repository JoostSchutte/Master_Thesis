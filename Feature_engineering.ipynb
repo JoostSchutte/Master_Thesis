{
 "cells": [
  {
   "cell_type": "code",
   "execution_count": 1,
   "metadata": {},
   "outputs": [],
   "source": [
    "import numpy as np\n",
    "import pandas as pd\n",
    "import sklearn\n",
    "import matplotlib\n",
    "import tensorflow as tf\n",
    "import tensorflow.keras as keras\n",
    "import pickle\n",
    "import os\n",
    "import time\n",
    "import sys\n",
    "import warnings\n",
    "\n",
    "from sklearn.model_selection import train_test_split\n",
    "from sklearn.preprocessing import OneHotEncoder, LabelEncoder, RobustScaler\n",
    "from sklearn.decomposition import PCA\n",
    "from sklearn.metrics import mean_squared_error\n",
    "from sklearn.linear_model import LinearRegression\n",
    "import matplotlib.pyplot as plt\n",
    "from tensorflow.keras import Sequential, optimizers, layers, metrics, models, regularizers\n",
    "\n",
    "warnings.filterwarnings(\"ignore\")"
   ]
  },
  {
   "cell_type": "code",
   "execution_count": 2,
   "metadata": {},
   "outputs": [],
   "source": [
    "df = pd.read_pickle(\"Data/df_final1.pkl\")"
   ]
  },
  {
   "cell_type": "code",
   "execution_count": null,
   "metadata": {},
   "outputs": [],
   "source": []
  },
  {
   "cell_type": "code",
   "execution_count": 3,
   "metadata": {},
   "outputs": [
    {
     "name": "stdout",
     "output_type": "stream",
     "text": [
      "4629\n"
     ]
    }
   ],
   "source": [
    "# Create a list of recipients\n",
    "recipients = []\n",
    "\n",
    "for i in df[\"recipient\"]:\n",
    "    if i not in recipients:\n",
    "        recipients.append(i)\n",
    "        \n",
    "print(len(recipients))"
   ]
  },
  {
   "cell_type": "code",
   "execution_count": null,
   "metadata": {},
   "outputs": [],
   "source": []
  },
  {
   "cell_type": "code",
   "execution_count": 4,
   "metadata": {},
   "outputs": [],
   "source": [
    "# Create a dictionary with the number of orders as the value for each customer as the key\n",
    "counter = {}\n",
    "\n",
    "for i in range(len(df)):\n",
    "    if df[\"recipient\"][i] not in counter:\n",
    "        counter[df.loc[i, (\"recipient\")]] = 1\n",
    "    else:\n",
    "        counter[df.loc[i, (\"recipient\")]] += 1"
   ]
  },
  {
   "cell_type": "code",
   "execution_count": 5,
   "metadata": {},
   "outputs": [],
   "source": [
    "# Drop all customers from the dataframe if they have fewer than 20 orders\n",
    "for idx, (key, val) in enumerate(counter.items()):\n",
    "    if val < 20:\n",
    "        df.drop(df[df.recipient == key].index, inplace=True)"
   ]
  },
  {
   "cell_type": "code",
   "execution_count": 6,
   "metadata": {},
   "outputs": [
    {
     "name": "stdout",
     "output_type": "stream",
     "text": [
      "3698\n"
     ]
    }
   ],
   "source": [
    "# Create a new list of customers based on the new dataframe\n",
    "recipients_new = []\n",
    "\n",
    "for i in df[\"recipient\"]:\n",
    "    if i not in recipients_new:\n",
    "        recipients_new.append(i)\n",
    "        \n",
    "print(len(recipients_new))"
   ]
  },
  {
   "cell_type": "code",
   "execution_count": null,
   "metadata": {},
   "outputs": [],
   "source": []
  },
  {
   "cell_type": "code",
   "execution_count": 7,
   "metadata": {},
   "outputs": [],
   "source": [
    "# Drop all but one row for orders with multiple products, so no customer has more than one row per date\n",
    "df_new = pd.DataFrame(columns = df.columns)\n",
    "\n",
    "for i in recipients_new:\n",
    "    test = df[df.recipient == i]\n",
    "    test = test.drop_duplicates(subset = [\"delivery_date\"])\n",
    "    test.reset_index(drop=True, inplace=True)\n",
    "    \n",
    "    df_new = pd.concat([df_new, test])"
   ]
  },
  {
   "cell_type": "code",
   "execution_count": null,
   "metadata": {},
   "outputs": [],
   "source": []
  },
  {
   "cell_type": "code",
   "execution_count": 8,
   "metadata": {},
   "outputs": [],
   "source": [
    "# Add the previous 5 differences to each row in the dataframe\n",
    "df_final = pd.DataFrame(columns = df_new.columns)\n",
    "\n",
    "for i in recipients_new:\n",
    "    test = df_new[df_new.recipient == i]\n",
    "    \n",
    "    for idx, val in test.iterrows():\n",
    "        if idx >= 5:\n",
    "            test.loc[idx, \"t_5\"] = test[\"difference\"].loc[idx-5]\n",
    "            test.loc[idx, \"t_4\"] = test[\"difference\"].loc[idx-4]\n",
    "            test.loc[idx, \"t_3\"] = test[\"difference\"].loc[idx-3]\n",
    "            test.loc[idx, \"t_2\"] = test[\"difference\"].loc[idx-2]\n",
    "            test.loc[idx, \"t_1\"] = test[\"difference\"].loc[idx-1]\n",
    "            \n",
    "    df_final = pd.concat([df_final, test])"
   ]
  },
  {
   "cell_type": "code",
   "execution_count": null,
   "metadata": {},
   "outputs": [],
   "source": []
  },
  {
   "cell_type": "code",
   "execution_count": 9,
   "metadata": {},
   "outputs": [],
   "source": [
    "# Drop any row without a value for t_5, indicating that no history is available for that order\n",
    "df_final.reset_index(drop=True, inplace=True)\n",
    "df_final.drop(df_final[pd.isna(df_final.t_5) == True].index, inplace=True)\n",
    "df_final.reset_index(drop=True, inplace=True)"
   ]
  },
  {
   "cell_type": "code",
   "execution_count": null,
   "metadata": {},
   "outputs": [],
   "source": []
  },
  {
   "cell_type": "code",
   "execution_count": 10,
   "metadata": {},
   "outputs": [],
   "source": [
    "df_final.to_pickle(\"df_with_history.pkl\")"
   ]
  },
  {
   "cell_type": "code",
   "execution_count": 11,
   "metadata": {},
   "outputs": [],
   "source": [
    "df = pd.read_pickle(\"Data/df_with_history.pkl\")"
   ]
  },
  {
   "cell_type": "code",
   "execution_count": null,
   "metadata": {},
   "outputs": [],
   "source": []
  },
  {
   "cell_type": "code",
   "execution_count": 12,
   "metadata": {},
   "outputs": [
    {
     "name": "stdout",
     "output_type": "stream",
     "text": [
      "249100\n"
     ]
    }
   ],
   "source": [
    "print(len(df))"
   ]
  },
  {
   "cell_type": "code",
   "execution_count": 13,
   "metadata": {},
   "outputs": [
    {
     "name": "stdout",
     "output_type": "stream",
     "text": [
      "3698\n"
     ]
    }
   ],
   "source": [
    "# Create a new list of customers\n",
    "recipients_new = []\n",
    "\n",
    "for i in df[\"recipient\"]:\n",
    "    if i not in recipients_new:\n",
    "        recipients_new.append(i)\n",
    "        \n",
    "print(len(recipients_new))"
   ]
  },
  {
   "cell_type": "code",
   "execution_count": null,
   "metadata": {},
   "outputs": [],
   "source": []
  },
  {
   "cell_type": "code",
   "execution_count": 14,
   "metadata": {},
   "outputs": [],
   "source": [
    "# Create a new dataframe with only customers that have more than 10 orders\n",
    "df_final1 = pd.DataFrame(columns = df.columns)\n",
    "\n",
    "for i in recipients:\n",
    "    test = df[df.recipient == i]\n",
    "    \n",
    "    if len(test) >= 10:\n",
    "        df_final1 = pd.concat([df_final1, test])"
   ]
  },
  {
   "cell_type": "code",
   "execution_count": 15,
   "metadata": {},
   "outputs": [
    {
     "name": "stdout",
     "output_type": "stream",
     "text": [
      "248449\n"
     ]
    }
   ],
   "source": [
    "print(len(df_final1))"
   ]
  },
  {
   "cell_type": "code",
   "execution_count": null,
   "metadata": {},
   "outputs": [],
   "source": []
  },
  {
   "cell_type": "code",
   "execution_count": 16,
   "metadata": {},
   "outputs": [],
   "source": [
    "df_final1.to_pickle(\"df_with_history_>10_orders.pkl\")"
   ]
  }
 ],
 "metadata": {
  "kernelspec": {
   "display_name": "Python 3",
   "language": "python",
   "name": "python3"
  },
  "language_info": {
   "codemirror_mode": {
    "name": "ipython",
    "version": 3
   },
   "file_extension": ".py",
   "mimetype": "text/x-python",
   "name": "python",
   "nbconvert_exporter": "python",
   "pygments_lexer": "ipython3",
   "version": "3.8.3"
  }
 },
 "nbformat": 4,
 "nbformat_minor": 4
}
