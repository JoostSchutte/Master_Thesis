{
 "cells": [
  {
   "cell_type": "code",
   "execution_count": 1,
   "metadata": {},
   "outputs": [],
   "source": [
    "import numpy as np\n",
    "import pandas as pd\n",
    "import sklearn\n",
    "import matplotlib\n",
    "import tensorflow as tf\n",
    "import tensorflow.keras as keras\n",
    "import pickle\n",
    "import os\n",
    "import time\n",
    "import sys\n",
    "import warnings\n",
    "\n",
    "from sklearn.model_selection import train_test_split\n",
    "from sklearn.preprocessing import OneHotEncoder, LabelEncoder, RobustScaler\n",
    "from sklearn.decomposition import PCA\n",
    "from sklearn.metrics import mean_squared_error\n",
    "from sklearn.linear_model import LinearRegression\n",
    "import matplotlib.pyplot as plt\n",
    "from tensorflow.keras import Sequential, optimizers, layers, metrics, models, regularizers\n",
    "\n",
    "warnings.filterwarnings(\"ignore\")"
   ]
  },
  {
   "cell_type": "code",
   "execution_count": 2,
   "metadata": {},
   "outputs": [],
   "source": [
    "df = pd.read_pickle(\"Data/df_final1.pkl\")"
   ]
  },
  {
   "cell_type": "code",
   "execution_count": null,
   "metadata": {},
   "outputs": [],
   "source": []
  },
  {
   "cell_type": "code",
   "execution_count": 3,
   "metadata": {},
   "outputs": [],
   "source": [
    "df_lr = df.copy()"
   ]
  },
  {
   "cell_type": "code",
   "execution_count": 4,
   "metadata": {},
   "outputs": [],
   "source": [
    "# Divide the predictor and target variables\n",
    "X = df_lr.loc[:, [\"prev_date\", \"kg_ordered\", \"prod_group\", \"silo_nr\", \"kg_delivered\",\n",
    "                  \"RU Geit\", \"RU Grond\", \"RU Kalv\", \"RU Melkv\", \"RU Vlvee\" ,\"Rundvee\"]]\n",
    "y = df_lr[\"difference\"]"
   ]
  },
  {
   "cell_type": "code",
   "execution_count": 5,
   "metadata": {},
   "outputs": [],
   "source": [
    "# Create training and test sets\n",
    "X_train, X_test, y_train, y_test = train_test_split(X, y, test_size=0.2, random_state=42)"
   ]
  },
  {
   "cell_type": "code",
   "execution_count": 6,
   "metadata": {},
   "outputs": [],
   "source": [
    "# Apply linear regression and get predictions for the test set\n",
    "lr = LinearRegression().fit(X_train, y_train)\n",
    "y_pred = lr.predict(X_test)"
   ]
  },
  {
   "cell_type": "code",
   "execution_count": 7,
   "metadata": {},
   "outputs": [],
   "source": [
    "# Calculate the RMSE\n",
    "rmse = mean_squared_error(y_test, y_pred, squared=False)"
   ]
  },
  {
   "cell_type": "code",
   "execution_count": 8,
   "metadata": {},
   "outputs": [
    {
     "name": "stdout",
     "output_type": "stream",
     "text": [
      "RMSE for all customers: 21.88\n"
     ]
    }
   ],
   "source": [
    "print(f\"RMSE for all customers: {np.round(rmse, 2)}\")"
   ]
  },
  {
   "cell_type": "code",
   "execution_count": null,
   "metadata": {},
   "outputs": [],
   "source": []
  },
  {
   "cell_type": "code",
   "execution_count": 9,
   "metadata": {},
   "outputs": [],
   "source": [
    "y_test.reset_index(drop=True, inplace=True)"
   ]
  },
  {
   "cell_type": "code",
   "execution_count": null,
   "metadata": {},
   "outputs": [],
   "source": []
  },
  {
   "cell_type": "code",
   "execution_count": 10,
   "metadata": {},
   "outputs": [],
   "source": [
    "# Generate the percent error for each order\n",
    "percentages = []\n",
    "\n",
    "for idx, val in enumerate(y_pred):\n",
    "    perc = np.abs(val-y_test[idx])/y_test[idx]\n",
    "    percentages.append(perc)"
   ]
  },
  {
   "cell_type": "code",
   "execution_count": 11,
   "metadata": {},
   "outputs": [
    {
     "name": "stdout",
     "output_type": "stream",
     "text": [
      "Minimum percent error: 0.0\n",
      "Maximum percent error: 25.48\n",
      "Mean percent error: 1.06\n"
     ]
    }
   ],
   "source": [
    "print(f\"Minimum percent error: {np.round(np.min(percentages),2)}\")\n",
    "print(f\"Maximum percent error: {np.round(np.max(percentages),2)}\")\n",
    "print(f\"Mean percent error: {np.round(np.mean(percentages),2)}\")"
   ]
  },
  {
   "cell_type": "code",
   "execution_count": 12,
   "metadata": {},
   "outputs": [
    {
     "data": {
      "image/png": "[encoded data removed]",
      "text/plain": [
       "<Figure size 432x288 with 1 Axes>"
      ]
     },
     "metadata": {
      "needs_background": "light"
     },
     "output_type": "display_data"
    }
   ],
   "source": [
    "# Plot the distribution of percent errors\n",
    "percentages = np.asarray(percentages)\n",
    "\n",
    "plt.hist(percentages.clip(min=0, max=1.1), range=[0,1.1], bins=11)\n",
    "plt.show()"
   ]
  },
  {
   "cell_type": "code",
   "execution_count": 13,
   "metadata": {},
   "outputs": [
    {
     "name": "stdout",
     "output_type": "stream",
     "text": [
      "Number of orders with a percent error lower than 0.5: 68712\n",
      "Percentage of orders with a percent error lower than 0.5: 0.62\n"
     ]
    }
   ],
   "source": [
    "lower = []\n",
    "\n",
    "for i in percentages:\n",
    "    if i <= 0.5:\n",
    "        lower.append(i)\n",
    "\n",
    "print(f\"Number of orders with a percent error lower than 0.5: {len(lower)}\")\n",
    "print(f\"Percentage of orders with a percent error lower than 0.5: {np.round(len(lower)/len(percentages),2)}\")"
   ]
  },
  {
   "cell_type": "code",
   "execution_count": null,
   "metadata": {},
   "outputs": [],
   "source": []
  },
  {
   "cell_type": "code",
   "execution_count": 14,
   "metadata": {},
   "outputs": [],
   "source": [
    "# Create a list of the differences between the predicted difference and the actual difference\n",
    "differences = []\n",
    "\n",
    "for idx, val in enumerate(y_test):\n",
    "    differences.append(np.abs(val-y_pred[idx]))"
   ]
  },
  {
   "cell_type": "code",
   "execution_count": 15,
   "metadata": {},
   "outputs": [],
   "source": [
    "# Get percentages of orders predicted correctly within a specified number of days\n",
    "within_1 = [1 if np.round(diff) <= 1 else 0 for diff in differences]\n",
    "within_3 = [1 if np.round(diff) <= 3 else 0 for diff in differences]\n",
    "within_5 = [1 if np.round(diff) <= 5 else 0 for diff in differences]\n",
    "within_7 = [1 if np.round(diff) <= 7 else 0 for diff in differences]"
   ]
  },
  {
   "cell_type": "code",
   "execution_count": 16,
   "metadata": {},
   "outputs": [
    {
     "name": "stdout",
     "output_type": "stream",
     "text": [
      "Percentage of orders predicted correctly within 1 day: 0.11\n",
      "Percentage of orders predicted correctly within 3 days: 0.27\n",
      "Percentage of orders predicted correctly within 5 days: 0.43\n",
      "Percentage of orders predicted correctly within 7 days: 0.56\n"
     ]
    }
   ],
   "source": [
    "print(f\"Percentage of orders predicted correctly within 1 day: {np.round(np.sum(within_1)/len(differences),2)}\")\n",
    "print(f\"Percentage of orders predicted correctly within 3 days: {np.round(np.sum(within_3)/len(differences),2)}\")\n",
    "print(f\"Percentage of orders predicted correctly within 5 days: {np.round(np.sum(within_5)/len(differences),2)}\")\n",
    "print(f\"Percentage of orders predicted correctly within 7 days: {np.round(np.sum(within_7)/len(differences),2)}\")"
   ]
  },
  {
   "cell_type": "code",
   "execution_count": null,
   "metadata": {},
   "outputs": [],
   "source": []
  },
  {
   "cell_type": "code",
   "execution_count": 17,
   "metadata": {},
   "outputs": [],
   "source": [
    "df_new = pd.read_pickle(\"Data/df_with_history_>10_orders.pkl\")"
   ]
  },
  {
   "cell_type": "code",
   "execution_count": 18,
   "metadata": {},
   "outputs": [
    {
     "name": "stdout",
     "output_type": "stream",
     "text": [
      "3600\n"
     ]
    }
   ],
   "source": [
    "# Create a new list of customers\n",
    "recipients_new = []\n",
    "\n",
    "for i in df_new[\"recipient\"]:\n",
    "    if i not in recipients_new:\n",
    "        recipients_new.append(i)\n",
    "        \n",
    "print(len(recipients_new))"
   ]
  },
  {
   "cell_type": "code",
   "execution_count": 19,
   "metadata": {
    "scrolled": true
   },
   "outputs": [],
   "source": [
    "# For each customer, train linear regression, generate predictions, calculate the RMSE, get the percent errors,\n",
    "# and get the differences between predicted and actual values\n",
    "rmse_values = []\n",
    "final_percentages = []\n",
    "final_differences = []\n",
    "\n",
    "for i in recipients_new:\n",
    "    test = df_new[df_new.recipient == i]\n",
    "    percentages = []\n",
    "    differences = []\n",
    "    \n",
    "    X = test.loc[:, [\"prev_date\", \"kg_ordered\", \"prod_group\", \"silo_nr\", \"kg_delivered\",\n",
    "                      \"RU Geit\", \"RU Grond\", \"RU Kalv\", \"RU Melkv\", \"RU Vlvee\" ,\"Rundvee\"]]\n",
    "    y = test[\"difference\"]\n",
    "    \n",
    "    X_train = X[0:-5]\n",
    "    X_test = X[-5:]\n",
    "    y_train = y[0:-5]\n",
    "    y_test = y[-5:]\n",
    "    \n",
    "    lr = LinearRegression()\n",
    "    lr.fit(X_train, y_train)\n",
    "    y_pred = lr.predict(X_test)\n",
    "    rmse = mean_squared_error(y_test, y_pred, squared=False)\n",
    "    \n",
    "    rmse_values.append(rmse)\n",
    "    \n",
    "    y_test.reset_index(drop=True, inplace=True)\n",
    "    \n",
    "    for idx, val in enumerate(y_pred):\n",
    "        perc = np.abs(val-y_test[idx])/y_test[idx]\n",
    "        percentages.append(perc)\n",
    "    \n",
    "    final_percentages.append(np.mean(percentages))\n",
    "\n",
    "    for idx, val in enumerate(y_test):\n",
    "        differences.append(np.abs(val-y_pred[idx]))\n",
    "        \n",
    "    final_differences.append(differences)"
   ]
  },
  {
   "cell_type": "code",
   "execution_count": 20,
   "metadata": {},
   "outputs": [
    {
     "name": "stdout",
     "output_type": "stream",
     "text": [
      "Mean of the mean RMSE per customer: 19.65.\n",
      "Smallest mean RMSE: 0.41.\n",
      "Largest mean RMSE: 6418.57.\n"
     ]
    }
   ],
   "source": [
    "print(f\"Mean of the mean RMSE per customer: {np.round(np.mean(rmse_values),2)}.\")\n",
    "print(f\"Smallest mean RMSE: {np.round(np.min(rmse_values),2)}.\")\n",
    "print(f\"Largest mean RMSE: {np.round(np.max(rmse_values),2)}.\")"
   ]
  },
  {
   "cell_type": "code",
   "execution_count": 21,
   "metadata": {},
   "outputs": [
    {
     "name": "stdout",
     "output_type": "stream",
     "text": [
      "Mean of the mean RMSE per customer, without the 150 largest values: 11.2.\n"
     ]
    }
   ],
   "source": [
    "print(f\"Mean of the mean RMSE per customer, without the 150 largest values: {np.round(np.average(sorted(rmse_values)[0:-150]),2)}.\")"
   ]
  },
  {
   "cell_type": "code",
   "execution_count": null,
   "metadata": {},
   "outputs": [],
   "source": []
  },
  {
   "cell_type": "code",
   "execution_count": 22,
   "metadata": {},
   "outputs": [],
   "source": [
    "rmse_values_array = np.asarray(rmse_values)"
   ]
  },
  {
   "cell_type": "code",
   "execution_count": 23,
   "metadata": {},
   "outputs": [
    {
     "data": {
      "image/png": "[encoded data removed]",
      "text/plain": [
       "<Figure size 1440x720 with 1 Axes>"
      ]
     },
     "metadata": {
      "needs_background": "light"
     },
     "output_type": "display_data"
    }
   ],
   "source": [
    "# Plot the distribution of mean RMSE values per customer\n",
    "plt.figure(figsize=(20,10))\n",
    "\n",
    "plt.hist(rmse_values_array.clip(min=0, max=21), range=[0,21], bins=21)\n",
    "plt.show()"
   ]
  },
  {
   "cell_type": "code",
   "execution_count": 24,
   "metadata": {},
   "outputs": [
    {
     "name": "stdout",
     "output_type": "stream",
     "text": [
      "Number of customers with an RMSE lower than 5: 982\n",
      "Percentage of customer with an RMSE lower than 5: 0.27\n"
     ]
    }
   ],
   "source": [
    "lower = []\n",
    "\n",
    "for i in rmse_values:\n",
    "    if i <= 5:\n",
    "        lower.append(i)\n",
    "\n",
    "print(f\"Number of customers with an RMSE lower than 5: {len(lower)}\")\n",
    "print(f\"Percentage of customer with an RMSE lower than 5: {np.round(len(lower)/len(rmse_values),2)}\")"
   ]
  },
  {
   "cell_type": "code",
   "execution_count": null,
   "metadata": {},
   "outputs": [],
   "source": []
  },
  {
   "cell_type": "code",
   "execution_count": 25,
   "metadata": {},
   "outputs": [
    {
     "name": "stdout",
     "output_type": "stream",
     "text": [
      "Minimum percent error: 0.02\n",
      "Maximum percent error: 53.35\n",
      "Mean percent error: 0.92\n"
     ]
    }
   ],
   "source": [
    "print(f\"Minimum percent error: {np.round(np.min(final_percentages),2)}\")\n",
    "print(f\"Maximum percent error: {np.round(np.max(final_percentages),2)}\")\n",
    "print(f\"Mean percent error: {np.round(np.mean(final_percentages),2)}\")"
   ]
  },
  {
   "cell_type": "code",
   "execution_count": 26,
   "metadata": {},
   "outputs": [
    {
     "data": {
      "image/png": "[encoded data removed]",
      "text/plain": [
       "<Figure size 432x288 with 1 Axes>"
      ]
     },
     "metadata": {
      "needs_background": "light"
     },
     "output_type": "display_data"
    }
   ],
   "source": [
    "final_percentages = np.asarray(final_percentages)\n",
    "\n",
    "plt.hist(final_percentages.clip(min=0, max=1.1), range=[0,1.1], bins=11)\n",
    "plt.show()"
   ]
  },
  {
   "cell_type": "code",
   "execution_count": 27,
   "metadata": {},
   "outputs": [
    {
     "name": "stdout",
     "output_type": "stream",
     "text": [
      "Number of orders with a percent error lower than 0.5: 2153\n",
      "Percentage of orders with a percent error lower than 0.5: 0.6\n"
     ]
    }
   ],
   "source": [
    "lower = []\n",
    "\n",
    "for i in final_percentages:\n",
    "    if i <= 0.5:\n",
    "        lower.append(i)\n",
    "\n",
    "print(f\"Number of orders with a percent error lower than 0.5: {len(lower)}\")\n",
    "print(f\"Percentage of orders with a percent error lower than 0.5: {np.round(len(lower)/len(final_percentages),2)}\")"
   ]
  },
  {
   "cell_type": "code",
   "execution_count": null,
   "metadata": {},
   "outputs": [],
   "source": []
  },
  {
   "cell_type": "code",
   "execution_count": 28,
   "metadata": {},
   "outputs": [],
   "source": [
    "# Get the mean difference for each customer and add them to a list\n",
    "final_diffs = [np.mean(lst) for lst in final_differences]"
   ]
  },
  {
   "cell_type": "code",
   "execution_count": 29,
   "metadata": {},
   "outputs": [],
   "source": [
    "# Get percentages of orders predicted correctly within a specified number of days for the per-customer differences\n",
    "within_1 = [1 if np.round(diff) <= 1 else 0 for diff in final_diffs]\n",
    "within_3 = [1 if np.round(diff) <= 3 else 0 for diff in final_diffs]\n",
    "within_5 = [1 if np.round(diff) <= 5 else 0 for diff in final_diffs]\n",
    "within_7 = [1 if np.round(diff) <= 7 else 0 for diff in final_diffs]"
   ]
  },
  {
   "cell_type": "code",
   "execution_count": 30,
   "metadata": {},
   "outputs": [
    {
     "name": "stdout",
     "output_type": "stream",
     "text": [
      "Percentage of orders predicted correctly within 1 day: 0.03\n",
      "Percentage of orders predicted correctly within 3 days: 0.2\n",
      "Percentage of orders predicted correctly within 5 days: 0.41\n",
      "Percentage of orders predicted correctly within 7 days: 0.57\n"
     ]
    }
   ],
   "source": [
    "print(f\"Percentage of orders predicted correctly within 1 day: {np.round(np.sum(within_1)/len(final_diffs),2)}\")\n",
    "print(f\"Percentage of orders predicted correctly within 3 days: {np.round(np.sum(within_3)/len(final_diffs),2)}\")\n",
    "print(f\"Percentage of orders predicted correctly within 5 days: {np.round(np.sum(within_5)/len(final_diffs),2)}\")\n",
    "print(f\"Percentage of orders predicted correctly within 7 days: {np.round(np.sum(within_7)/len(final_diffs),2)}\")"
   ]
  }
 ],
 "metadata": {
  "kernelspec": {
   "display_name": "Python 3",
   "language": "python",
   "name": "python3"
  },
  "language_info": {
   "codemirror_mode": {
    "name": "ipython",
    "version": 3
   },
   "file_extension": ".py",
   "mimetype": "text/x-python",
   "name": "python",
   "nbconvert_exporter": "python",
   "pygments_lexer": "ipython3",
   "version": "3.8.3"
  }
 },
 "nbformat": 4,
 "nbformat_minor": 4
}
